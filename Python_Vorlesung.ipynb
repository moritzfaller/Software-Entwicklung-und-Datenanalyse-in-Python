{
  "nbformat": 4,
  "nbformat_minor": 0,
  "metadata": {
    "colab": {
      "name": "Python_Vorlesung.ipynb",
      "provenance": [],
      "authorship_tag": "ABX9TyP+a7P4Jk1W5s62fvto4nQa",
      "include_colab_link": true
    },
    "kernelspec": {
      "name": "python3",
      "display_name": "Python 3"
    },
    "language_info": {
      "name": "python"
    }
  },
  "cells": [
    {
      "cell_type": "markdown",
      "metadata": {
        "id": "view-in-github",
        "colab_type": "text"
      },
      "source": [
        "<a href=\"https://colab.research.google.com/github/moritzfaller/Software-Entwicklung-und-Datenanalyse-in-Python/blob/main/Python_Vorlesung.ipynb\" target=\"_parent\"><img src=\"https://colab.research.google.com/assets/colab-badge.svg\" alt=\"Open In Colab\"/></a>"
      ]
    },
    {
      "cell_type": "markdown",
      "source": [
        "## 14.03.2022"
      ],
      "metadata": {
        "id": "K8VkT5GiZgej"
      }
    },
    {
      "cell_type": "code",
      "execution_count": null,
      "metadata": {
        "id": "cbN_ysT1n38a",
        "colab": {
          "base_uri": "https://localhost:8080/"
        },
        "outputId": "68afa1c6-b6c4-4583-9bc9-a5d2ffdc5d86"
      },
      "outputs": [
        {
          "output_type": "stream",
          "name": "stdout",
          "text": [
            "<class 'int'>\n"
          ]
        }
      ],
      "source": [
        "x = 3\n",
        "print(type(x))"
      ]
    },
    {
      "cell_type": "code",
      "source": [
        "a = 'Hello '\n",
        "b = 'World '\n",
        "c = 'hello world'\n",
        "\n",
        "print ((a+b)*3)"
      ],
      "metadata": {
        "id": "K-WD79K1N-oL"
      },
      "execution_count": null,
      "outputs": []
    },
    {
      "cell_type": "code",
      "source": [
        "print(a[:8:2])"
      ],
      "metadata": {
        "colab": {
          "base_uri": "https://localhost:8080/"
        },
        "id": "pa8R_vKAN_73",
        "outputId": "bc9d3c01-ddf9-4824-985d-f6428cce6ffe"
      },
      "execution_count": null,
      "outputs": [
        {
          "output_type": "stream",
          "name": "stdout",
          "text": [
            "Hlo\n"
          ]
        }
      ]
    },
    {
      "cell_type": "code",
      "source": [
        "pi = 3.14\n",
        "print(\"the value of pi is {}\".format(pi))\n",
        "print(f'the value of pi is {pi}')"
      ],
      "metadata": {
        "colab": {
          "base_uri": "https://localhost:8080/"
        },
        "id": "jfzfhG2lR_TM",
        "outputId": "3af77775-1d0e-4bc6-8165-8aa4bb54e597"
      },
      "execution_count": null,
      "outputs": [
        {
          "output_type": "stream",
          "name": "stdout",
          "text": [
            "the value of pi is 3.14\n",
            "the value of pi is 3.14\n"
          ]
        }
      ]
    },
    {
      "cell_type": "code",
      "source": [
        "a = list(range(10)) #Liste von 0-9 erzeugen\n",
        "print(a) #Liste ausgeben"
      ],
      "metadata": {
        "colab": {
          "base_uri": "https://localhost:8080/"
        },
        "id": "F-8kflSEV_lV",
        "outputId": "8a176a45-fb08-4ba5-d13b-a25a5b00b1fb"
      },
      "execution_count": null,
      "outputs": [
        {
          "output_type": "stream",
          "name": "stdout",
          "text": [
            "[0, 1, 2, 3, 4, 5, 6, 7, 8, 9]\n"
          ]
        }
      ]
    },
    {
      "cell_type": "code",
      "source": [
        "tuple = (2,3,4,5,6) #nicht änderbar --> distincte Bedeutung\n",
        "tuple[1]"
      ],
      "metadata": {
        "colab": {
          "base_uri": "https://localhost:8080/"
        },
        "id": "vPDGqnVdYrZJ",
        "outputId": "abdeec53-4be1-4405-a845-ee42f41cb79c"
      },
      "execution_count": null,
      "outputs": [
        {
          "output_type": "execute_result",
          "data": {
            "text/plain": [
              "3"
            ]
          },
          "metadata": {},
          "execution_count": 37
        }
      ]
    },
    {
      "cell_type": "code",
      "source": [
        "print(2 in tuple)"
      ],
      "metadata": {
        "colab": {
          "base_uri": "https://localhost:8080/"
        },
        "id": "1gIMtPI9Zmkq",
        "outputId": "7bd38faf-b30b-45f7-c9d7-110f7ea5ef0b"
      },
      "execution_count": null,
      "outputs": [
        {
          "output_type": "stream",
          "name": "stdout",
          "text": [
            "True\n"
          ]
        }
      ]
    },
    {
      "cell_type": "markdown",
      "source": [
        "###Controll Flows"
      ],
      "metadata": {
        "id": "g-qOWRKccp_y"
      }
    },
    {
      "cell_type": "code",
      "source": [
        "x = 2\n",
        "\n",
        "if x == 1:\n",
        "  print('x equals to 1')\n",
        "elif x == 2:\n",
        "  print ('x equals to 2')\n",
        "else:\n",
        "  print ('neee')"
      ],
      "metadata": {
        "colab": {
          "base_uri": "https://localhost:8080/"
        },
        "id": "PQCjFtV5cwnT",
        "outputId": "dd319b84-2814-47b5-e052-56e0d400ddce"
      },
      "execution_count": null,
      "outputs": [
        {
          "output_type": "stream",
          "name": "stdout",
          "text": [
            "x equals to 2\n"
          ]
        }
      ]
    },
    {
      "cell_type": "markdown",
      "source": [
        "###The for-statement"
      ],
      "metadata": {
        "id": "jj-gwrrvd5u8"
      }
    },
    {
      "cell_type": "code",
      "source": [
        "elem = [1,2,3,'hallo']\n",
        "\n",
        "for r in elem:\n",
        "  print(r, type(r))"
      ],
      "metadata": {
        "colab": {
          "base_uri": "https://localhost:8080/"
        },
        "id": "PwqmEXJ9eLHV",
        "outputId": "de29dfcb-b504-4e3e-f16d-3a0f797119d5"
      },
      "execution_count": null,
      "outputs": [
        {
          "output_type": "stream",
          "name": "stdout",
          "text": [
            "1 <class 'int'>\n",
            "2 <class 'int'>\n",
            "3 <class 'int'>\n",
            "hallo <class 'str'>\n"
          ]
        }
      ]
    },
    {
      "cell_type": "markdown",
      "source": [
        "###while"
      ],
      "metadata": {
        "id": "f9kS0z0DhzES"
      }
    },
    {
      "cell_type": "code",
      "source": [
        "x = 0\n",
        "\n",
        "while x < 5:\n",
        "  print(x)\n",
        "  x=x+1"
      ],
      "metadata": {
        "colab": {
          "base_uri": "https://localhost:8080/"
        },
        "id": "7BS_6GI_eSv9",
        "outputId": "dace8411-a2ec-4dfd-fee4-f35bc5caad13"
      },
      "execution_count": null,
      "outputs": [
        {
          "output_type": "stream",
          "name": "stdout",
          "text": [
            "0\n",
            "1\n",
            "2\n",
            "3\n",
            "4\n"
          ]
        }
      ]
    },
    {
      "cell_type": "code",
      "source": [
        "x = 0\n",
        "\n",
        "while True:\n",
        "  print(x)\n",
        "  x = x + 1\n",
        "  if x > 5:\n",
        "    break"
      ],
      "metadata": {
        "colab": {
          "base_uri": "https://localhost:8080/"
        },
        "id": "OcUkawHuh1wV",
        "outputId": "9c85317c-b1f1-40a8-f0b7-634821451f4f"
      },
      "execution_count": null,
      "outputs": [
        {
          "output_type": "stream",
          "name": "stdout",
          "text": [
            "0\n",
            "1\n",
            "2\n",
            "3\n",
            "4\n",
            "5\n"
          ]
        }
      ]
    },
    {
      "cell_type": "markdown",
      "source": [
        "###Vergleichsoperatoren\n"
      ],
      "metadata": {
        "id": "x48QMQbvjI2o"
      }
    },
    {
      "cell_type": "code",
      "source": [
        "x = 3\n",
        "y = 2\n",
        "\n",
        "if x > y:\n",
        "  print('passt so!')\n",
        "else:\n",
        "  print('nochmal')\n",
        "\n",
        "##Folgende Vergleichoperatoren gibt es\n",
        "2 < 3\n",
        "3 > 2\n",
        "tbd"
      ],
      "metadata": {
        "colab": {
          "base_uri": "https://localhost:8080/"
        },
        "id": "Wq1D01opkA2x",
        "outputId": "23bb8e46-866a-4fde-8a79-f4b790dafc95"
      },
      "execution_count": null,
      "outputs": [
        {
          "output_type": "stream",
          "name": "stdout",
          "text": [
            "passt so!\n"
          ]
        }
      ]
    },
    {
      "cell_type": "code",
      "source": [
        "print(True and True)\n",
        "print(True and False)"
      ],
      "metadata": {
        "colab": {
          "base_uri": "https://localhost:8080/"
        },
        "id": "yKtW2rImjMVQ",
        "outputId": "0e9535b9-ebf3-45b4-aaf8-0f994a5aa278"
      },
      "execution_count": null,
      "outputs": [
        {
          "output_type": "stream",
          "name": "stdout",
          "text": [
            "True\n",
            "False\n"
          ]
        }
      ]
    },
    {
      "cell_type": "code",
      "source": [
        "print(True or True)\n",
        "print(True or False) #Das oder das muss sein"
      ],
      "metadata": {
        "colab": {
          "base_uri": "https://localhost:8080/"
        },
        "id": "DoOnTbMijY7w",
        "outputId": "14a639c9-52ec-4f2d-d1df-966b294b72e7"
      },
      "execution_count": null,
      "outputs": [
        {
          "output_type": "stream",
          "name": "stdout",
          "text": [
            "True\n",
            "True\n"
          ]
        }
      ]
    },
    {
      "cell_type": "code",
      "source": [
        ""
      ],
      "metadata": {
        "id": "7miq1kASjbgV"
      },
      "execution_count": null,
      "outputs": []
    }
  ]
}
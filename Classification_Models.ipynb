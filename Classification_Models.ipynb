{
  "nbformat": 4,
  "nbformat_minor": 0,
  "metadata": {
    "colab": {
      "name": "Classification Models.ipynb",
      "provenance": [],
      "toc_visible": true,
      "include_colab_link": true
    },
    "kernelspec": {
      "name": "python3",
      "display_name": "Python 3"
    },
    "language_info": {
      "name": "python"
    },
    "gpuClass": "standard"
  },
  "cells": [
    {
      "cell_type": "markdown",
      "metadata": {
        "id": "view-in-github",
        "colab_type": "text"
      },
      "source": [
        "<a href=\"https://colab.research.google.com/github/moritzfaller/Software-Entwicklung-und-Datenanalyse-in-Python/blob/main/Classification_Models.ipynb\" target=\"_parent\"><img src=\"https://colab.research.google.com/assets/colab-badge.svg\" alt=\"Open In Colab\"/></a>"
      ]
    },
    {
      "cell_type": "markdown",
      "source": [
        "# Input"
      ],
      "metadata": {
        "id": "ywknxPFYjQ1n"
      }
    },
    {
      "cell_type": "code",
      "source": [
        "# Install packages\n",
        "\n",
        "!pip install spotipy\n",
        "import pandas as pd\n",
        "import spotipy\n",
        "from spotipy.oauth2 import SpotifyClientCredentials"
      ],
      "metadata": {
        "id": "rS2kc-_jj8qS"
      },
      "execution_count": null,
      "outputs": []
    },
    {
      "cell_type": "code",
      "source": [
        "# Authentification\n",
        "!pip install --upgrade spotipy\n",
        "cid = 'ea1465c2df0a47179571e9426cd72098'\n",
        "secret = 'f209c6669caa4051bff58e66407c01ac'\n",
        "client_credentials_manager = SpotifyClientCredentials(client_id=cid, client_secret=secret)\n",
        "sp = spotipy.Spotify(client_credentials_manager=client_credentials_manager)"
      ],
      "metadata": {
        "id": "JG1TipO4j-_P",
        "outputId": "8868a6fd-cdd0-43c6-b2a0-2bd2e61ec012",
        "colab": {
          "base_uri": "https://localhost:8080/",
          "height": 687
        }
      },
      "execution_count": 66,
      "outputs": [
        {
          "output_type": "stream",
          "name": "stdout",
          "text": [
            "Looking in indexes: https://pypi.org/simple, https://us-python.pkg.dev/colab-wheels/public/simple/\n",
            "Requirement already satisfied: spotipy in /usr/local/lib/python3.7/dist-packages (2.20.0)\n",
            "Requirement already satisfied: redis>=3.5.3 in /usr/local/lib/python3.7/dist-packages (from spotipy) (4.3.4)\n",
            "Requirement already satisfied: requests>=2.25.0 in /usr/local/lib/python3.7/dist-packages (from spotipy) (2.28.1)\n",
            "Requirement already satisfied: six>=1.15.0 in /usr/local/lib/python3.7/dist-packages (from spotipy) (1.15.0)\n",
            "Requirement already satisfied: urllib3>=1.26.0 in /usr/local/lib/python3.7/dist-packages (from spotipy) (1.26.10)\n",
            "Requirement already satisfied: importlib-metadata>=1.0 in /usr/local/lib/python3.7/dist-packages (from redis>=3.5.3->spotipy) (4.12.0)\n",
            "Requirement already satisfied: typing-extensions in /usr/local/lib/python3.7/dist-packages (from redis>=3.5.3->spotipy) (4.1.1)\n",
            "Requirement already satisfied: deprecated>=1.2.3 in /usr/local/lib/python3.7/dist-packages (from redis>=3.5.3->spotipy) (1.2.13)\n",
            "Requirement already satisfied: async-timeout>=4.0.2 in /usr/local/lib/python3.7/dist-packages (from redis>=3.5.3->spotipy) (4.0.2)\n",
            "Requirement already satisfied: packaging>=20.4 in /usr/local/lib/python3.7/dist-packages (from redis>=3.5.3->spotipy) (21.3)\n",
            "Requirement already satisfied: wrapt<2,>=1.10 in /usr/local/lib/python3.7/dist-packages (from deprecated>=1.2.3->redis>=3.5.3->spotipy) (1.14.1)\n",
            "Requirement already satisfied: zipp>=0.5 in /usr/local/lib/python3.7/dist-packages (from importlib-metadata>=1.0->redis>=3.5.3->spotipy) (3.8.0)\n",
            "Requirement already satisfied: pyparsing!=3.0.5,>=2.0.2 in /usr/local/lib/python3.7/dist-packages (from packaging>=20.4->redis>=3.5.3->spotipy) (3.0.9)\n",
            "Requirement already satisfied: charset-normalizer<3,>=2 in /usr/local/lib/python3.7/dist-packages (from requests>=2.25.0->spotipy) (2.1.0)\n",
            "Requirement already satisfied: idna<4,>=2.5 in /usr/local/lib/python3.7/dist-packages (from requests>=2.25.0->spotipy) (2.10)\n",
            "Requirement already satisfied: certifi>=2017.4.17 in /usr/local/lib/python3.7/dist-packages (from requests>=2.25.0->spotipy) (2022.6.15)\n"
          ]
        },
        {
          "output_type": "error",
          "ename": "TypeError",
          "evalue": "ignored",
          "traceback": [
            "\u001b[0;31m---------------------------------------------------------------------------\u001b[0m",
            "\u001b[0;31mTypeError\u001b[0m                                 Traceback (most recent call last)",
            "\u001b[0;32m<ipython-input-66-eaf84c966e0b>\u001b[0m in \u001b[0;36m<module>\u001b[0;34m()\u001b[0m\n\u001b[1;32m      4\u001b[0m \u001b[0msecret\u001b[0m \u001b[0;34m=\u001b[0m \u001b[0;34m'f209c6669caa4051bff58e66407c01ac'\u001b[0m\u001b[0;34m\u001b[0m\u001b[0;34m\u001b[0m\u001b[0m\n\u001b[1;32m      5\u001b[0m \u001b[0mclient_credentials_manager\u001b[0m \u001b[0;34m=\u001b[0m \u001b[0mSpotifyClientCredentials\u001b[0m\u001b[0;34m(\u001b[0m\u001b[0mclient_id\u001b[0m\u001b[0;34m=\u001b[0m\u001b[0mcid\u001b[0m\u001b[0;34m,\u001b[0m \u001b[0mclient_secret\u001b[0m\u001b[0;34m=\u001b[0m\u001b[0msecret\u001b[0m\u001b[0;34m)\u001b[0m\u001b[0;34m\u001b[0m\u001b[0;34m\u001b[0m\u001b[0m\n\u001b[0;32m----> 6\u001b[0;31m \u001b[0msp\u001b[0m \u001b[0;34m=\u001b[0m \u001b[0mspotipy\u001b[0m\u001b[0;34m.\u001b[0m\u001b[0mSpotify\u001b[0m\u001b[0;34m(\u001b[0m\u001b[0mclient_credentials_manager\u001b[0m\u001b[0;34m=\u001b[0m\u001b[0mclient_credentials_manager\u001b[0m\u001b[0;34m)\u001b[0m\u001b[0;34m\u001b[0m\u001b[0;34m\u001b[0m\u001b[0m\n\u001b[0m",
            "\u001b[0;32m/usr/local/lib/python3.7/dist-packages/spotipy/client.py\u001b[0m in \u001b[0;36m__init__\u001b[0;34m(self, auth, requests_session, client_credentials_manager, oauth_manager, auth_manager, proxies, requests_timeout, status_forcelist, retries, status_retries, backoff_factor, language)\u001b[0m\n\u001b[1;32m    164\u001b[0m         \u001b[0;32melse\u001b[0m\u001b[0;34m:\u001b[0m\u001b[0;34m\u001b[0m\u001b[0;34m\u001b[0m\u001b[0m\n\u001b[1;32m    165\u001b[0m             \u001b[0;32mif\u001b[0m \u001b[0mrequests_session\u001b[0m\u001b[0;34m:\u001b[0m  \u001b[0;31m# Build a new session.\u001b[0m\u001b[0;34m\u001b[0m\u001b[0;34m\u001b[0m\u001b[0m\n\u001b[0;32m--> 166\u001b[0;31m                 \u001b[0mself\u001b[0m\u001b[0;34m.\u001b[0m\u001b[0m_build_session\u001b[0m\u001b[0;34m(\u001b[0m\u001b[0;34m)\u001b[0m\u001b[0;34m\u001b[0m\u001b[0;34m\u001b[0m\u001b[0m\n\u001b[0m\u001b[1;32m    167\u001b[0m             \u001b[0;32melse\u001b[0m\u001b[0;34m:\u001b[0m  \u001b[0;31m# Use the Requests API module as a \"session\".\u001b[0m\u001b[0;34m\u001b[0m\u001b[0;34m\u001b[0m\u001b[0m\n\u001b[1;32m    168\u001b[0m                 \u001b[0mself\u001b[0m\u001b[0;34m.\u001b[0m\u001b[0m_session\u001b[0m \u001b[0;34m=\u001b[0m \u001b[0mrequests\u001b[0m\u001b[0;34m.\u001b[0m\u001b[0mapi\u001b[0m\u001b[0;34m\u001b[0m\u001b[0;34m\u001b[0m\u001b[0m\n",
            "\u001b[0;32m/usr/local/lib/python3.7/dist-packages/spotipy/client.py\u001b[0m in \u001b[0;36m_build_session\u001b[0;34m(self)\u001b[0m\n\u001b[1;32m    198\u001b[0m             \u001b[0mstatus\u001b[0m\u001b[0;34m=\u001b[0m\u001b[0mself\u001b[0m\u001b[0;34m.\u001b[0m\u001b[0mstatus_retries\u001b[0m\u001b[0;34m,\u001b[0m\u001b[0;34m\u001b[0m\u001b[0;34m\u001b[0m\u001b[0m\n\u001b[1;32m    199\u001b[0m             \u001b[0mbackoff_factor\u001b[0m\u001b[0;34m=\u001b[0m\u001b[0mself\u001b[0m\u001b[0;34m.\u001b[0m\u001b[0mbackoff_factor\u001b[0m\u001b[0;34m,\u001b[0m\u001b[0;34m\u001b[0m\u001b[0;34m\u001b[0m\u001b[0m\n\u001b[0;32m--> 200\u001b[0;31m             status_forcelist=self.status_forcelist)\n\u001b[0m\u001b[1;32m    201\u001b[0m \u001b[0;34m\u001b[0m\u001b[0m\n\u001b[1;32m    202\u001b[0m         \u001b[0madapter\u001b[0m \u001b[0;34m=\u001b[0m \u001b[0mrequests\u001b[0m\u001b[0;34m.\u001b[0m\u001b[0madapters\u001b[0m\u001b[0;34m.\u001b[0m\u001b[0mHTTPAdapter\u001b[0m\u001b[0;34m(\u001b[0m\u001b[0mmax_retries\u001b[0m\u001b[0;34m=\u001b[0m\u001b[0mretry\u001b[0m\u001b[0;34m)\u001b[0m\u001b[0;34m\u001b[0m\u001b[0;34m\u001b[0m\u001b[0m\n",
            "\u001b[0;31mTypeError\u001b[0m: __init__() got an unexpected keyword argument 'allowed_methods'"
          ]
        }
      ]
    },
    {
      "cell_type": "code",
      "source": [
        "track= input('Enter track name here: ')\n",
        "artist= input('Enter artist name here: ')\n",
        "\n",
        "track_id = sp.search(q='artist:' + artist + ' track:' + track, type='track')\n",
        "track_id = track_id['tracks']['items'][0]['id']\n",
        "\n",
        "track_data = sp.audio_features(track_id)\n",
        "track_data = pd.DataFrame(track_data)\n",
        "track_data = track_data.drop(columns=['track_href', 'type','analysis_url', 'id', 'uri'])\n",
        "\n",
        "std_scaler = StandardScaler()\n",
        "data_features_nonscaled = data_full.iloc[:,:-1]\n",
        "data_features = std_scaler.fit_transform(data_features_nonscaled)\n",
        "\n",
        "label = gbc_classifier.predict(data_features)\n",
        "print(labels)"
      ],
      "metadata": {
        "id": "6DSYFG2fjTbf",
        "outputId": "c75bab59-88ab-4366-c586-130bacab40ff",
        "colab": {
          "base_uri": "https://localhost:8080/",
          "height": 293
        }
      },
      "execution_count": 59,
      "outputs": [
        {
          "name": "stdout",
          "output_type": "stream",
          "text": [
            "Enter track name here: Lonely World\n",
            "Enter artist name here: Moses Sumney\n"
          ]
        },
        {
          "output_type": "error",
          "ename": "AttributeError",
          "evalue": "ignored",
          "traceback": [
            "\u001b[0;31m---------------------------------------------------------------------------\u001b[0m",
            "\u001b[0;31mAttributeError\u001b[0m                            Traceback (most recent call last)",
            "\u001b[0;32m<ipython-input-59-27fcec0305be>\u001b[0m in \u001b[0;36m<module>\u001b[0;34m()\u001b[0m\n\u001b[1;32m      2\u001b[0m \u001b[0martist\u001b[0m\u001b[0;34m=\u001b[0m \u001b[0minput\u001b[0m\u001b[0;34m(\u001b[0m\u001b[0;34m'Enter artist name here: '\u001b[0m\u001b[0;34m)\u001b[0m\u001b[0;34m\u001b[0m\u001b[0;34m\u001b[0m\u001b[0m\n\u001b[1;32m      3\u001b[0m \u001b[0;34m\u001b[0m\u001b[0m\n\u001b[0;32m----> 4\u001b[0;31m \u001b[0mtrack_id\u001b[0m \u001b[0;34m=\u001b[0m \u001b[0msp\u001b[0m\u001b[0;34m.\u001b[0m\u001b[0msearch\u001b[0m\u001b[0;34m(\u001b[0m\u001b[0mq\u001b[0m\u001b[0;34m=\u001b[0m\u001b[0;34m'artist:'\u001b[0m \u001b[0;34m+\u001b[0m \u001b[0martist\u001b[0m \u001b[0;34m+\u001b[0m \u001b[0;34m' track:'\u001b[0m \u001b[0;34m+\u001b[0m \u001b[0mtrack\u001b[0m\u001b[0;34m,\u001b[0m \u001b[0mtype\u001b[0m\u001b[0;34m=\u001b[0m\u001b[0;34m'track'\u001b[0m\u001b[0;34m)\u001b[0m\u001b[0;34m\u001b[0m\u001b[0;34m\u001b[0m\u001b[0m\n\u001b[0m\u001b[1;32m      5\u001b[0m \u001b[0mtrack_id\u001b[0m \u001b[0;34m=\u001b[0m \u001b[0mtrack_id\u001b[0m\u001b[0;34m[\u001b[0m\u001b[0;34m'tracks'\u001b[0m\u001b[0;34m]\u001b[0m\u001b[0;34m[\u001b[0m\u001b[0;34m'items'\u001b[0m\u001b[0;34m]\u001b[0m\u001b[0;34m[\u001b[0m\u001b[0;36m0\u001b[0m\u001b[0;34m]\u001b[0m\u001b[0;34m[\u001b[0m\u001b[0;34m'id'\u001b[0m\u001b[0;34m]\u001b[0m\u001b[0;34m\u001b[0m\u001b[0;34m\u001b[0m\u001b[0m\n\u001b[1;32m      6\u001b[0m \u001b[0;34m\u001b[0m\u001b[0m\n",
            "\u001b[0;31mAttributeError\u001b[0m: module 'spotipy' has no attribute 'search'"
          ]
        }
      ]
    },
    {
      "cell_type": "code",
      "source": [
        "Moses Sumney'\n",
        "track= 'Lonely World'"
      ],
      "metadata": {
        "id": "gHb_mxZXjzYC"
      },
      "execution_count": null,
      "outputs": []
    },
    {
      "cell_type": "markdown",
      "source": [
        "# General"
      ],
      "metadata": {
        "id": "AdGOhb4MLPtq"
      }
    },
    {
      "cell_type": "code",
      "execution_count": 2,
      "metadata": {
        "id": "RUM4Dq84NMeM"
      },
      "outputs": [],
      "source": [
        "# install packages\n",
        "\n",
        "import pandas as pd\n",
        "import numpy as np\n",
        "from sklearn.model_selection import train_test_split\n",
        "from sklearn.preprocessing import StandardScaler\n",
        "from sklearn.ensemble import GradientBoostingClassifier\n",
        "from sklearn.metrics import confusion_matrix\n",
        "\n",
        "# visualisation\n",
        "\n",
        "pd.set_option('display.width', 700)\n",
        "pd.options.display.max_colwidth = 100\n",
        "np.set_printoptions(linewidth=800)\n",
        "pd.set_option('display.max_rows', 100)\n",
        "pd.set_option('display.max_columns', 500)"
      ]
    },
    {
      "cell_type": "code",
      "source": [
        "# clones public repo to colab\n",
        "\n",
        "# deletes folder named 'colab_files'\n",
        "!rm -rf 'colab_files'\n",
        "\n",
        "# creates a colab directory which is identical to github repo\n",
        "!git clone https://github.com/jeremykleindienst/colab_files.git\n",
        "\n",
        "# loads dataset to variable data_full\n",
        "data_full = pd.read_csv('/content/colab_files/df_model.csv')"
      ],
      "metadata": {
        "id": "wvoDge1sGyJi",
        "colab": {
          "base_uri": "https://localhost:8080/"
        },
        "outputId": "113a0134-b495-4633-82d5-481e95aa01ba"
      },
      "execution_count": 3,
      "outputs": [
        {
          "output_type": "stream",
          "name": "stdout",
          "text": [
            "Cloning into 'colab_files'...\n",
            "remote: Enumerating objects: 2219, done.\u001b[K\n",
            "remote: Counting objects: 100% (124/124), done.\u001b[K\n",
            "remote: Compressing objects: 100% (124/124), done.\u001b[K\n",
            "remote: Total 2219 (delta 7), reused 97 (delta 0), pack-reused 2095\u001b[K\n",
            "Receiving objects: 100% (2219/2219), 135.58 MiB | 21.33 MiB/s, done.\n",
            "Resolving deltas: 100% (57/57), done.\n",
            "Checking out files: 100% (2106/2106), done.\n"
          ]
        }
      ]
    },
    {
      "cell_type": "code",
      "source": [
        "#function to get proper feature-importance-plot from the Model, can be used for every different model we use\n",
        "\n",
        "import matplotlib.pyplot as plt\n",
        "\n",
        "def better_feature_importance_plot(feature_importances, col_names):\n",
        "  data_df=[]\n",
        "  for f, c in zip(feature_importances, col_names):\n",
        "    my_tuple = (c,f)\n",
        "    data_df.append(my_tuple)\n",
        "  df = pd.DataFrame(data_df)\n",
        "  df = df.set_index(0)\n",
        "  plot = df.sort_values(by=1, ascending=False).plot(kind='bar')\n",
        "  return plot"
      ],
      "metadata": {
        "id": "zGx4ZDX6bcIu"
      },
      "execution_count": 4,
      "outputs": []
    },
    {
      "cell_type": "markdown",
      "source": [
        "# Classification Models"
      ],
      "metadata": {
        "id": "VQZzjKbZXdb2"
      }
    },
    {
      "cell_type": "code",
      "source": [
        "#data_full = data_full.drop('Unnamed: 0', axis = 1)"
      ],
      "metadata": {
        "id": "80FY5crjRAao"
      },
      "execution_count": null,
      "outputs": []
    },
    {
      "cell_type": "code",
      "source": [
        "# Perform feature scaling via standardization (z-score normalization):\n",
        "\n",
        "metric = ['danceability', 'energy', 'loudness', 'speechiness', 'acousticness', 'instrumentalness', 'liveness', 'valence', 'tempo', 'duration_ms', 'ysrelease']\n",
        "categorial = ['Cis', 'D', 'Dis', 'E', 'F', 'Fis', 'G', 'Gis', 'A', 'Ais', 'B', '3/4', '4/4', '5/4','major']\n",
        "\n",
        "std_scaler = StandardScaler()\n",
        "data_features_nonscaled_metric = data_full.loc[:,metric]\n",
        "data_features_categorial = data_full.loc[:,categorial]\n",
        "#data_features_nonscaled = data_full.loc[:,['energy','valence','acousticness','speechiness','ysrelease']]\n",
        "data_features = std_scaler.fit_transform(data_features_nonscaled_metric)\n",
        "data_features = pd.DataFrame(data_features,columns=metric)\n",
        "data_features = pd.concat([data_features, data_features_categorial],axis=1)\n",
        "#data_full['mood_happy'] = np.where(data_full['Mood']=='happy',1,0)\n",
        "target = data_full['mood']"
      ],
      "metadata": {
        "id": "H_Ckl5U1RrnI"
      },
      "execution_count": 5,
      "outputs": []
    },
    {
      "cell_type": "code",
      "source": [
        "# train and test split\n",
        "\n",
        "X_train, X_test, y_train, y_test = train_test_split(data_features, target, test_size=0.3, random_state=24)"
      ],
      "metadata": {
        "id": "3w81Y8uXSWZk"
      },
      "execution_count": 6,
      "outputs": []
    },
    {
      "cell_type": "markdown",
      "source": [
        "## Gradient Boosting Classifier"
      ],
      "metadata": {
        "id": "I5eSbwxgWfpn"
      }
    },
    {
      "cell_type": "code",
      "source": [
        "# train model (check accuracy)\n",
        "gbc_classifier = GradientBoostingClassifier(random_state=24)\n",
        "gbc_classifier.fit(X_train, y_train)\n",
        "accuracy = gbc_classifier.score(X_test, y_test)\n",
        "print(accuracy)"
      ],
      "metadata": {
        "colab": {
          "base_uri": "https://localhost:8080/"
        },
        "id": "yB_C_8lnVw7V",
        "outputId": "6885e1f7-28d6-4d67-d453-8b6a55d47a8a"
      },
      "execution_count": 7,
      "outputs": [
        {
          "output_type": "stream",
          "name": "stdout",
          "text": [
            "0.8607050730868444\n"
          ]
        }
      ]
    },
    {
      "cell_type": "code",
      "source": [
        "# Get the prediction values for the test data and print a confusion matrix\n",
        "y_test_predicted = gbc_classifier.predict(X_test)\n",
        "print(confusion_matrix(y_test, y_test_predicted))"
      ],
      "metadata": {
        "colab": {
          "base_uri": "https://localhost:8080/"
        },
        "id": "Rs5dpqTYUZjV",
        "outputId": "9bdd0f70-c2d3-428e-eb2d-dac2470962aa"
      },
      "execution_count": 8,
      "outputs": [
        {
          "output_type": "stream",
          "name": "stdout",
          "text": [
            "[[339  34  11]\n",
            " [ 26 320  38]\n",
            " [ 14  39 342]]\n"
          ]
        }
      ]
    },
    {
      "cell_type": "code",
      "source": [
        "import matplotlib.pyplot as plt\n",
        "from sklearn.datasets import make_classification\n",
        "from sklearn.metrics import confusion_matrix, ConfusionMatrixDisplay\n",
        "from sklearn.model_selection import train_test_split\n",
        "from sklearn.svm import SVC\n",
        "\n",
        "predictions = gbc_classifier.predict(X_test)\n",
        "cm = confusion_matrix(y_test, predictions, labels=gbc_classifier.classes_)\n",
        "disp = ConfusionMatrixDisplay(confusion_matrix=cm, display_labels=gbc_classifier.classes_)\n",
        "disp.plot()\n",
        "\n",
        "plt.show()"
      ],
      "metadata": {
        "id": "-M8czlT7qtSN",
        "outputId": "e90eab20-97e2-4f0a-cf63-b23547a255aa",
        "colab": {
          "base_uri": "https://localhost:8080/",
          "height": 300
        }
      },
      "execution_count": 9,
      "outputs": [
        {
          "output_type": "display_data",
          "data": {
            "text/plain": [
              "<Figure size 432x288 with 2 Axes>"
            ],
            "image/png": "[encoded data removed]"
          },
          "metadata": {
            "needs_background": "light"
          }
        }
      ]
    },
    {
      "cell_type": "code",
      "source": [
        "from sklearn.metrics import classification_report\n",
        "pred=gbc_classifier.predict(X_test)\n",
        "print(classification_report(y_test, pred))"
      ],
      "metadata": {
        "colab": {
          "base_uri": "https://localhost:8080/"
        },
        "id": "21oQp2cHKfFJ",
        "outputId": "66605054-17fb-4b9f-ed74-97d0b9a12103"
      },
      "execution_count": 10,
      "outputs": [
        {
          "output_type": "stream",
          "name": "stdout",
          "text": [
            "              precision    recall  f1-score   support\n",
            "\n",
            "  aggressive       0.89      0.88      0.89       384\n",
            "       happy       0.81      0.83      0.82       384\n",
            "         sad       0.87      0.87      0.87       395\n",
            "\n",
            "    accuracy                           0.86      1163\n",
            "   macro avg       0.86      0.86      0.86      1163\n",
            "weighted avg       0.86      0.86      0.86      1163\n",
            "\n"
          ]
        }
      ]
    },
    {
      "cell_type": "code",
      "source": [
        "#write columns-names in variables and build a list with the feature-importance-score\n",
        "col_names = list(data_features.columns)\n",
        "fi = list(gbc_classifier.feature_importances_)\n",
        "\n",
        "# returns the plot with the proper labels\n",
        "df_fi = better_feature_importance_plot(fi,col_names)"
      ],
      "metadata": {
        "colab": {
          "base_uri": "https://localhost:8080/",
          "height": 376
        },
        "id": "Eer6OuM5b2rH",
        "outputId": "df2db87b-c493-49d0-e215-72d7caab9357"
      },
      "execution_count": 12,
      "outputs": [
        {
          "output_type": "display_data",
          "data": {
            "text/plain": [
              "<Figure size 432x288 with 1 Axes>"
            ],
            "image/png": "[encoded data removed]"
          },
          "metadata": {
            "needs_background": "light"
          }
        }
      ]
    },
    {
      "cell_type": "markdown",
      "source": [
        "### Hyperparametertuning for GradientBoostingClassifier"
      ],
      "metadata": {
        "id": "EaugxcbMvX4U"
      }
    },
    {
      "cell_type": "markdown",
      "source": [
        "For tuning the GradientBoostingClassifier we use the following three parameters:\n",
        "* n_estimators\n",
        "* max_depth\n",
        "* learning-rate\n",
        "\n",
        "There are many more parameters but these three are seen as the most crucial in case of improving the score (cf. for example https://www.datacareer.de/blog/parameter-tuning-in-gradient-boosting-gbm/ and https://www.datasciencelearner.com/gradient-boosting-hyperparameters-tuning/)\n",
        "\n",
        "Values for the Parameters have also been taken from https://www.datasciencelearner.com/gradient-boosting-hyperparameters-tuning/ to have a little guideline."
      ],
      "metadata": {
        "id": "3DWL1rI0x1hS"
      }
    },
    {
      "cell_type": "code",
      "source": [
        "parameters = {\n",
        "    \"n_estimators\":[5,50,250,500],\n",
        "    \"max_depth\":[1,3,5,7,9],\n",
        "    \"learning_rate\":[0.01,0.1,1,10,100]\n",
        "}"
      ],
      "metadata": {
        "id": "FpSZAdtPvbLU"
      },
      "execution_count": 13,
      "outputs": []
    },
    {
      "cell_type": "code",
      "source": [
        "# Hyperparameter-Tuning with GridSearchCV (Caution! This may takes like 12 minutes)\n",
        "\n",
        "from sklearn.model_selection import GridSearchCV\n",
        "cv_gbc = GridSearchCV(gbc_classifier,parameters,cv=5)\n",
        "cv_gbc.fit(X_train,y_train.values.ravel())\n",
        "print(cv_gbc.best_params_)"
      ],
      "metadata": {
        "id": "B5HNMgcWvgLX"
      },
      "execution_count": null,
      "outputs": []
    },
    {
      "cell_type": "code",
      "source": [
        "#function that transforms the different results to a dataframe to get a better overview\n",
        "\n",
        "def cv_to_frame(results, name):\n",
        "  mean_score = results.cv_results_['mean_test_score']\n",
        "  std_score = results.cv_results_['std_test_score']\n",
        "  params = results.cv_results_['params']\n",
        "  \n",
        "  lr=[]\n",
        "  md=[]\n",
        "  ne=[]\n",
        "  name_list = []\n",
        "  \n",
        "  for i in range(len((results.cv_results_['params']))):\n",
        "    lr.append(results.cv_results_['params'][i]['learning_rate'])\n",
        "    md.append(results.cv_results_['params'][i]['max_depth'])\n",
        "    ne.append(results.cv_results_['params'][i]['n_estimators'])\n",
        "    name_list.append(name)\n",
        "\n",
        "  df = pd.DataFrame([name_list, mean_score, std_score, lr, md, ne]).transpose()\n",
        "  df.columns = ['Model','Mean_Score', 'Mean_Std', 'learning_rate','max_depth','n_estimators']\n",
        "  df = df.sort_values(by='Mean_Score', ascending=False)\n",
        "  return df"
      ],
      "metadata": {
        "id": "1tvvcb_lvkjR"
      },
      "execution_count": null,
      "outputs": []
    },
    {
      "cell_type": "code",
      "source": [
        "cv_to_frame(cv_gbc, 'Gradient Boosting Classifier')"
      ],
      "metadata": {
        "id": "4plCcBABvwMh"
      },
      "execution_count": null,
      "outputs": []
    },
    {
      "cell_type": "markdown",
      "source": [
        "## Supporting Vector Classification (SVC)"
      ],
      "metadata": {
        "id": "hasLzYmbWm8Z"
      }
    },
    {
      "cell_type": "code",
      "source": [
        "from sklearn.svm import SVC"
      ],
      "metadata": {
        "id": "u0dH1QFdXASg"
      },
      "execution_count": null,
      "outputs": []
    },
    {
      "cell_type": "code",
      "source": [
        "# SVC: train model (check accuracy)\n",
        "svc_classifier = SVC(gamma = 2, C = 1, kernel='linear')\n",
        "svc_classifier.fit(X_train, y_train)\n",
        "svc_accuracy = svc_classifier.score(X_test, y_test)\n",
        "print(svc_accuracy)"
      ],
      "metadata": {
        "colab": {
          "base_uri": "https://localhost:8080/"
        },
        "id": "ehNp9YllWubZ",
        "outputId": "6e9de47b-7788-4cc0-be46-322dc9d4b55f"
      },
      "execution_count": null,
      "outputs": [
        {
          "output_type": "stream",
          "name": "stdout",
          "text": [
            "0.863225806451613\n"
          ]
        }
      ]
    },
    {
      "cell_type": "code",
      "source": [
        "y_test_predicted = svc_classifier.predict(X_test)\n",
        "print(confusion_matrix(y_test, y_test_predicted))"
      ],
      "metadata": {
        "colab": {
          "base_uri": "https://localhost:8080/"
        },
        "id": "NSEWyE2xYue2",
        "outputId": "fa77c74a-c487-42db-e9e2-3066c6427c01"
      },
      "execution_count": null,
      "outputs": [
        {
          "output_type": "stream",
          "name": "stdout",
          "text": [
            "[[362  23]\n",
            " [230 160]]\n"
          ]
        }
      ]
    },
    {
      "cell_type": "code",
      "source": [
        "import matplotlib.pyplot as plt\n",
        "from sklearn.datasets import make_classification\n",
        "from sklearn.metrics import confusion_matrix, ConfusionMatrixDisplay\n",
        "from sklearn.model_selection import train_test_split\n",
        "from sklearn.svm import SVC\n",
        "\n",
        "predictions = svc_classifier.predict(X_test)\n",
        "cm = confusion_matrix(y_test, predictions, labels=svc_classifier.classes_)\n",
        "disp = ConfusionMatrixDisplay(confusion_matrix=cm, display_labels=svc_classifier.classes_)\n",
        "disp.plot()\n",
        "\n",
        "plt.show()"
      ],
      "metadata": {
        "id": "RYhtbex1piv-"
      },
      "execution_count": null,
      "outputs": []
    },
    {
      "cell_type": "code",
      "source": [
        "# feature importance\n",
        "\n",
        "from sklearn.inspection import permutation_importance\n",
        "import numpy as np\n",
        "import matplotlib.pyplot as plt\n",
        "%matplotlib inline\n",
        "\n",
        "perm_importance = permutation_importance(svc_classifier, X_test, y_test)\n",
        "\n",
        "feature_names = list(data_features_nonscaled.columns)\n",
        "features = np.array(feature_names)\n",
        "\n",
        "sorted_idx = perm_importance.importances_mean.argsort()\n",
        "plt.barh(features[sorted_idx], perm_importance.importances_mean[sorted_idx])\n",
        "plt.xlabel(\"Permutation Importance\")"
      ],
      "metadata": {
        "colab": {
          "base_uri": "https://localhost:8080/",
          "height": 296
        },
        "id": "2BurTOrEgvLe",
        "outputId": "51bcdb4a-afd0-499f-e5da-d1c7edf351d4"
      },
      "execution_count": null,
      "outputs": [
        {
          "output_type": "execute_result",
          "data": {
            "text/plain": [
              "Text(0.5, 0, 'Permutation Importance')"
            ]
          },
          "metadata": {},
          "execution_count": 26
        },
        {
          "output_type": "display_data",
          "data": {
            "text/plain": [
              "<Figure size 432x288 with 1 Axes>"
            ],
            "image/png": "[encoded data removed]"
          },
          "metadata": {
            "needs_background": "light"
          }
        }
      ]
    },
    {
      "cell_type": "markdown",
      "source": [
        "Parameters:\n",
        "* Kernels\n",
        "* C (penalty parameter)\n",
        "* Gamma\n",
        "\n",
        "https://www.vebuso.com/2020/03/svm-hyperparameter-tuning-using-gridsearchcv/"
      ],
      "metadata": {
        "id": "RBuA8H2yFbJj"
      }
    },
    {
      "cell_type": "markdown",
      "source": [
        "### Hyper Hyper Parameter Tuning - Manually"
      ],
      "metadata": {
        "id": "bTZ_PP6RPbIP"
      }
    },
    {
      "cell_type": "code",
      "source": [
        "p_gamma = [1, 0.1, 0.01, 0.001]\n",
        "p_c = [0.1, 1, 10, 100]\n",
        "p_kernel = ['rbf', 'linear', 'poly', 'sigmoid']\n",
        "\n",
        "train_test = []\n",
        "gamma = []\n",
        "c = []\n",
        "kernel = []\n",
        "score = []\n",
        "\n",
        "for g_value in p_gamma:\n",
        "  for c_value in p_c:\n",
        "    for k_value in p_kernel:\n",
        "      svc_classifier = SVC(gamma = g_value, C = c_value, kernel=k_value)\n",
        "      svc_classifier.fit(X_train, y_train)\n",
        "\n",
        "      train = svc_classifier.score(X_train, y_train)\n",
        "      train_test.append('train')\n",
        "      gamma.append(g_value)\n",
        "      c.append(c_value)\n",
        "      kernel.append(k_value)\n",
        "      score.append(train)\n",
        "\n",
        "      test = svc_classifier.score(X_test, y_test)\n",
        "      train_test.append('test')\n",
        "      gamma.append(g_value)\n",
        "      c.append(c_value)\n",
        "      kernel.append(k_value)\n",
        "      score.append(test)\n",
        "\n",
        "result_df = pd.DataFrame()\n",
        "result_df['train_test'] = train_test\n",
        "result_df['gamma'] = gamma\n",
        "result_df['C'] = c\n",
        "result_df['kernel'] = kernel\n",
        "result_df['score'] = score\n",
        "\n",
        "print(result_df)"
      ],
      "metadata": {
        "id": "5O4CjHtEEwNr",
        "outputId": "e0a435f1-46e1-4534-89f3-d86e1b298fc1",
        "colab": {
          "base_uri": "https://localhost:8080/"
        }
      },
      "execution_count": null,
      "outputs": [
        {
          "output_type": "stream",
          "name": "stdout",
          "text": [
            "    train_test  gamma      C   kernel     score\n",
            "0        train  1.000    0.1      rbf  0.501937\n",
            "1         test  1.000    0.1      rbf  0.495484\n",
            "2        train  1.000    0.1   linear  0.872717\n",
            "3         test  1.000    0.1   linear  0.861935\n",
            "4        train  1.000    0.1     poly  0.985058\n",
            "..         ...    ...    ...      ...       ...\n",
            "123       test  0.001  100.0   linear  0.861935\n",
            "124      train  0.001  100.0     poly  0.501384\n",
            "125       test  0.001  100.0     poly  0.496774\n",
            "126      train  0.001  100.0  sigmoid  0.872717\n",
            "127       test  0.001  100.0  sigmoid  0.861935\n",
            "\n",
            "[128 rows x 5 columns]\n"
          ]
        }
      ]
    },
    {
      "cell_type": "code",
      "source": [
        "# best combination for train\n",
        "print(result_df.sort_values(by=['score'], ascending=False).head(20))"
      ],
      "metadata": {
        "id": "oiRy9OTnN2bw",
        "outputId": "1fd5d503-0cb5-4b8f-d471-f249d5520fec",
        "colab": {
          "base_uri": "https://localhost:8080/"
        }
      },
      "execution_count": null,
      "outputs": [
        {
          "output_type": "stream",
          "name": "stdout",
          "text": [
            "    train_test  gamma      C kernel     score\n",
            "28       train  1.000  100.0   poly  1.000000\n",
            "24       train  1.000  100.0    rbf  1.000000\n",
            "20       train  1.000   10.0   poly  0.999447\n",
            "16       train  1.000   10.0    rbf  0.999447\n",
            "12       train  1.000    1.0   poly  0.998340\n",
            "..         ...    ...    ...    ...       ...\n",
            "109       test  0.001    1.0   poly  0.496774\n",
            "69        test  0.010    0.1   poly  0.496774\n",
            "101       test  0.001    0.1   poly  0.496774\n",
            "125       test  0.001  100.0   poly  0.496774\n",
            "1         test  1.000    0.1    rbf  0.495484\n",
            "\n",
            "[128 rows x 5 columns]\n"
          ]
        }
      ]
    },
    {
      "cell_type": "code",
      "source": [
        "# best combination for train\n",
        "result_df_test = result_df.loc[result_df['train_test'] == 'train']\n",
        "print(result_df_test.sort_values(by=['score'], ascending=False))"
      ],
      "metadata": {
        "id": "btssXJVSPOJi"
      },
      "execution_count": null,
      "outputs": []
    },
    {
      "cell_type": "code",
      "source": [
        "# best combination for test\n",
        "result_df_test = result_df.loc[result_df['train_test'] == 'test']\n",
        "print(result_df_test.sort_values(by=['score'], ascending=False))"
      ],
      "metadata": {
        "id": "Dw5TleQSOLz5"
      },
      "execution_count": null,
      "outputs": []
    },
    {
      "cell_type": "markdown",
      "source": [
        "### Hyper Hyper Parameter Tuning - with Library"
      ],
      "metadata": {
        "id": "QFPhAUoXPYAU"
      }
    },
    {
      "cell_type": "code",
      "source": [
        "from sklearn.model_selection import GridSearchCV\n",
        "from sklearn.metrics import classification_report, confusion_matrix  "
      ],
      "metadata": {
        "id": "MP8vFpRuIOcZ"
      },
      "execution_count": null,
      "outputs": []
    },
    {
      "cell_type": "code",
      "source": [
        "param_grid = {'C': [0.1,1, 10, 100], 'gamma': [1,0.1,0.01,0.001],'kernel': ['rbf', 'poly', 'sigmoid']}"
      ],
      "metadata": {
        "id": "mLWnHaRxIQb3"
      },
      "execution_count": null,
      "outputs": []
    },
    {
      "cell_type": "code",
      "source": [
        "grid = GridSearchCV(SVC(),param_grid,refit=True,verbose=2)\n",
        "grid.fit(X_train,y_train)"
      ],
      "metadata": {
        "id": "r3L-HZQ0IS3_"
      },
      "execution_count": null,
      "outputs": []
    },
    {
      "cell_type": "code",
      "source": [
        "print(grid.best_estimator_)"
      ],
      "metadata": {
        "id": "52pbIW02IZ30",
        "outputId": "da4601ed-2092-4ff9-8d1b-f4b9803ca5cc",
        "colab": {
          "base_uri": "https://localhost:8080/"
        }
      },
      "execution_count": null,
      "outputs": [
        {
          "output_type": "stream",
          "name": "stdout",
          "text": [
            "SVC(C=10, gamma=0.01)\n"
          ]
        }
      ]
    },
    {
      "cell_type": "code",
      "source": [
        "grid_predictions = grid.predict(X_test)\n",
        "print(confusion_matrix(y_test,grid_predictions))\n",
        "print(classification_report(y_test,grid_predictions))"
      ],
      "metadata": {
        "id": "FPUj1tWrIcQJ",
        "outputId": "32ce4a41-9c3e-49e4-c3fc-27fe031e66c7",
        "colab": {
          "base_uri": "https://localhost:8080/"
        }
      },
      "execution_count": null,
      "outputs": [
        {
          "output_type": "stream",
          "name": "stdout",
          "text": [
            "[[324  61]\n",
            " [ 43 347]]\n",
            "              precision    recall  f1-score   support\n",
            "\n",
            "           0       0.88      0.84      0.86       385\n",
            "           1       0.85      0.89      0.87       390\n",
            "\n",
            "    accuracy                           0.87       775\n",
            "   macro avg       0.87      0.87      0.87       775\n",
            "weighted avg       0.87      0.87      0.87       775\n",
            "\n"
          ]
        }
      ]
    },
    {
      "cell_type": "code",
      "source": [
        "# feature importance\n",
        "\n",
        "from sklearn.inspection import permutation_importance\n",
        "import numpy as np\n",
        "import matplotlib.pyplot as plt\n",
        "%matplotlib inline\n",
        "\n",
        "perm_importance = permutation_importance(grid, X_test, y_test)\n",
        "\n",
        "feature_names = list(data_features_nonscaled.columns)\n",
        "features = np.array(feature_names)\n",
        "\n",
        "sorted_idx = perm_importance.importances_mean.argsort()\n",
        "plt.barh(features[sorted_idx], perm_importance.importances_mean[sorted_idx])\n",
        "plt.xlabel(\"Permutation Importance\")"
      ],
      "metadata": {
        "colab": {
          "base_uri": "https://localhost:8080/",
          "height": 296
        },
        "id": "MoDwUQZJhxRb",
        "outputId": "59cd5ef1-0553-4a42-912f-ce3d76db88a2"
      },
      "execution_count": null,
      "outputs": [
        {
          "output_type": "execute_result",
          "data": {
            "text/plain": [
              "Text(0.5, 0, 'Permutation Importance')"
            ]
          },
          "metadata": {},
          "execution_count": 34
        },
        {
          "output_type": "display_data",
          "data": {
            "text/plain": [
              "<Figure size 432x288 with 1 Axes>"
            ],
            "image/png": "[encoded data removed]"
          },
          "metadata": {
            "needs_background": "light"
          }
        }
      ]
    },
    {
      "cell_type": "markdown",
      "source": [
        "##K-Nearest-Neighbor (KNN)"
      ],
      "metadata": {
        "id": "-jfWbGkBslTe"
      }
    },
    {
      "cell_type": "markdown",
      "source": [
        "###With Scikit-Learn"
      ],
      "metadata": {
        "id": "4M-eXZjXtesa"
      }
    },
    {
      "cell_type": "code",
      "source": [
        "import matplotlib.pyplot as plt\n",
        "import seaborn as sns\n",
        "from sklearn.neighbors import KNeighborsClassifier\n",
        "from sklearn.metrics import classification_report\n",
        "from sklearn.model_selection import GridSearchCV"
      ],
      "metadata": {
        "id": "7bXPUJ8S661F"
      },
      "execution_count": 37,
      "outputs": []
    },
    {
      "cell_type": "code",
      "source": [
        "#to calculate distances, 3 distance metrics that are often used are Euclidean Distance, Manhattan Distance, and Minkowski Distance\n",
        "#as we use Scikit-Learn, the default distance used is Euclidean"
      ],
      "metadata": {
        "id": "Rx2FdjZn5Ewi"
      },
      "execution_count": 31,
      "outputs": []
    },
    {
      "cell_type": "code",
      "source": [
        "#create KNN object and train the model\n",
        "\n",
        "knn_classifier = KNeighborsClassifier()\n",
        "knn_classifier.fit(X_train, y_train)\n",
        "knn_accuracy = knn_classifier.score(X_test, y_test)\n",
        "print(knn_accuracy)"
      ],
      "metadata": {
        "id": "mQxIQ28_sx6U",
        "colab": {
          "base_uri": "https://localhost:8080/"
        },
        "outputId": "bdc8550b-a290-43f4-aedd-1b7fa0112559"
      },
      "execution_count": 32,
      "outputs": [
        {
          "output_type": "stream",
          "name": "stdout",
          "text": [
            "0.8082545141874462\n"
          ]
        }
      ]
    },
    {
      "cell_type": "code",
      "source": [
        "y_test_predicted = knn_classifier.predict(X_test)\n",
        "print(confusion_matrix(y_test, y_test_predicted))"
      ],
      "metadata": {
        "colab": {
          "base_uri": "https://localhost:8080/"
        },
        "id": "nFu4kVySOo2N",
        "outputId": "f744232c-ced2-4175-c90d-3c1a01123d77"
      },
      "execution_count": 29,
      "outputs": [
        {
          "output_type": "stream",
          "name": "stdout",
          "text": [
            "[[332  42  10]\n",
            " [ 45 300  39]\n",
            " [ 27  60 308]]\n"
          ]
        }
      ]
    },
    {
      "cell_type": "code",
      "source": [
        "#checking performance with classification report\n",
        "print(classification_report(y_test, y_test_predicted))"
      ],
      "metadata": {
        "id": "eNZPHrXsEmOe",
        "outputId": "a72bef58-9f01-41af-da9c-5fc250e9af0c",
        "colab": {
          "base_uri": "https://localhost:8080/"
        }
      },
      "execution_count": 33,
      "outputs": [
        {
          "output_type": "stream",
          "name": "stdout",
          "text": [
            "              precision    recall  f1-score   support\n",
            "\n",
            "  aggressive       0.82      0.86      0.84       384\n",
            "       happy       0.75      0.78      0.76       384\n",
            "         sad       0.86      0.78      0.82       395\n",
            "\n",
            "    accuracy                           0.81      1163\n",
            "   macro avg       0.81      0.81      0.81      1163\n",
            "weighted avg       0.81      0.81      0.81      1163\n",
            "\n"
          ]
        }
      ]
    },
    {
      "cell_type": "code",
      "source": [
        "import matplotlib.pyplot as plt\n",
        "from sklearn.datasets import make_classification\n",
        "from sklearn.metrics import confusion_matrix, ConfusionMatrixDisplay\n",
        "from sklearn.model_selection import train_test_split\n",
        "from sklearn.svm import SVC\n",
        "\n",
        "predictions = knn_classifier.predict(X_test)\n",
        "cm = confusion_matrix(y_test, predictions, labels=knn_classifier.classes_)\n",
        "disp = ConfusionMatrixDisplay(confusion_matrix=cm, display_labels=knn_classifier.classes_)\n",
        "disp.plot()\n",
        "\n",
        "plt.show()"
      ],
      "metadata": {
        "colab": {
          "base_uri": "https://localhost:8080/",
          "height": 300
        },
        "id": "yfOmf9FgPAhC",
        "outputId": "134cd59f-8bd8-48b5-c669-754cfd614e1c"
      },
      "execution_count": 34,
      "outputs": [
        {
          "output_type": "display_data",
          "data": {
            "text/plain": [
              "<Figure size 432x288 with 2 Axes>"
            ],
            "image/png": "[encoded data removed]"
          },
          "metadata": {
            "needs_background": "light"
          }
        }
      ]
    },
    {
      "cell_type": "code",
      "source": [
        "#evaluating the model (Marian's way of evaluating - same output)\n",
        "\n",
        "evaluate(knn_classifier, X_test, y_test)"
      ],
      "metadata": {
        "id": "xiyR4sLUtMOe",
        "outputId": "98bf2ae8-6dda-4bbf-8606-76811c1e4d3d",
        "colab": {
          "base_uri": "https://localhost:8080/"
        }
      },
      "execution_count": 39,
      "outputs": [
        {
          "output_type": "stream",
          "name": "stdout",
          "text": [
            "              precision    recall  f1-score   support\n",
            "\n",
            "  aggressive       0.82      0.86      0.84       384\n",
            "       happy       0.75      0.78      0.76       384\n",
            "         sad       0.86      0.78      0.82       395\n",
            "\n",
            "    accuracy                           0.81      1163\n",
            "   macro avg       0.81      0.81      0.81      1163\n",
            "weighted avg       0.81      0.81      0.81      1163\n",
            "\n"
          ]
        }
      ]
    },
    {
      "cell_type": "markdown",
      "source": [
        "From the classification report, it can be seen that the model has an average performance of around 81% ranging from precision, recall, f1-score and support. \n",
        "\n",
        "Accuracy also shows in value of 81%."
      ],
      "metadata": {
        "id": "7BNZ9pVsFYMH"
      }
    },
    {
      "cell_type": "markdown",
      "source": [
        "###Hyperparametertuning - KNN"
      ],
      "metadata": {
        "id": "A6R6gjI02TGf"
      }
    },
    {
      "cell_type": "markdown",
      "source": [
        "https://medium.datadriveninvestor.com/k-nearest-neighbors-in-python-hyperparameters-tuning-716734bc557f"
      ],
      "metadata": {
        "id": "lCKthSz9Ip9e"
      }
    },
    {
      "cell_type": "code",
      "source": [
        "#list of hyperparameters that we want to tune\n",
        "leaf_size = list(range(1,50))\n",
        "n_neighbors = list(range(1,30))\n",
        "p=[1,2]\n",
        "\n",
        "#convert to dictionary\n",
        "hyperparameters = dict(leaf_size=leaf_size, n_neighbors=n_neighbors, p=p)\n",
        "\n",
        "#create new KNN object\n",
        "knn_2 = KNeighborsClassifier()\n",
        "\n",
        "#use GridSearch\n",
        "clf = GridSearchCV(knn_2, hyperparameters, cv=10)"
      ],
      "metadata": {
        "id": "F4krPdLpDy_U"
      },
      "execution_count": 40,
      "outputs": []
    },
    {
      "cell_type": "code",
      "source": [
        "#fit the model (caution: takes about 20min!)\n",
        "best_model = clf.fit(data_features, target)\n",
        "\n",
        "#print The value of best Hyperparameters\n",
        "print('Best leaf_size:', best_model.best_estimator_.get_params()['leaf_size'])\n",
        "print('Best p:', best_model.best_estimator_.get_params()['p'])\n",
        "print('Best n_neighbors:', best_model.best_estimator_.get_params()['n_neighbors'])"
      ],
      "metadata": {
        "id": "rqxoX1Av-E9l",
        "outputId": "40c4e508-c42d-4ed1-90d7-0b12ef7a071b",
        "colab": {
          "base_uri": "https://localhost:8080/",
          "height": 69
        }
      },
      "execution_count": null,
      "outputs": [
        {
          "output_type": "stream",
          "name": "stdout",
          "text": [
            "Best leaf_size: 1\n",
            "Best p: 1\n",
            "Best n_neighbors: 28\n"
          ]
        }
      ]
    },
    {
      "cell_type": "markdown",
      "source": [
        "It can be seen that the best number of leaf_size is 1 while the optimal distance method is Manhattan or p = 1.\n",
        "Then the most optimal number of K is 28."
      ],
      "metadata": {
        "id": "bohBfwuWDV83"
      }
    },
    {
      "cell_type": "code",
      "source": [
        "print(classification_report(y_test, y_pred))"
      ],
      "metadata": {
        "id": "JOPRhbSADsVO",
        "outputId": "baf74503-1c1d-45b3-ba4d-20d319ab5ffb",
        "colab": {
          "base_uri": "https://localhost:8080/"
        }
      },
      "execution_count": null,
      "outputs": [
        {
          "output_type": "stream",
          "name": "stdout",
          "text": [
            "              precision    recall  f1-score   support\n",
            "\n",
            "           0       0.88      0.84      0.86       385\n",
            "           1       0.85      0.88      0.87       390\n",
            "\n",
            "    accuracy                           0.86       775\n",
            "   macro avg       0.86      0.86      0.86       775\n",
            "weighted avg       0.86      0.86      0.86       775\n",
            "\n"
          ]
        }
      ]
    },
    {
      "cell_type": "markdown",
      "source": [
        "Using Hyperparameters Tuning can improve model performance only by about 2% to a range of 86% for all evaluation matrices."
      ],
      "metadata": {
        "id": "pYtfIvfWHDUx"
      }
    },
    {
      "cell_type": "markdown",
      "source": [
        "### Final Model"
      ],
      "metadata": {
        "id": "FK7fSzK2PpRb"
      }
    },
    {
      "cell_type": "code",
      "source": [
        "#"
      ],
      "metadata": {
        "id": "VB37ZE_TP0Jj"
      },
      "execution_count": null,
      "outputs": []
    },
    {
      "cell_type": "markdown",
      "source": [
        "## Random Forest\n"
      ],
      "metadata": {
        "id": "1JNER_EzlxwT"
      }
    },
    {
      "cell_type": "code",
      "source": [
        "from sklearn.ensemble import RandomForestClassifier"
      ],
      "metadata": {
        "id": "dQCMdjPym5oV"
      },
      "execution_count": 42,
      "outputs": []
    },
    {
      "cell_type": "code",
      "source": [
        "rf_classifier = RandomForestClassifier(random_state=42)\n",
        "rf_classifier.fit(X_train, y_train)\n",
        "accuracy = rf_classifier.score(X_test, y_test)\n",
        "print(accuracy)"
      ],
      "metadata": {
        "colab": {
          "base_uri": "https://localhost:8080/"
        },
        "id": "rm8JnpVdl3i0",
        "outputId": "67024e01-81e8-4ce4-8f80-4cbe9c9a8315"
      },
      "execution_count": 43,
      "outputs": [
        {
          "output_type": "stream",
          "name": "stdout",
          "text": [
            "0.8495270851246776\n"
          ]
        }
      ]
    },
    {
      "cell_type": "markdown",
      "source": [
        "### Hyperparametertuning - Random Forest"
      ],
      "metadata": {
        "id": "LDdEhCXFNoqC"
      }
    },
    {
      "cell_type": "markdown",
      "source": [
        "Due to the official Documentation of sklearn there are two crucial parameters that have to be tuned (cf. https://scikit-learn.org/stable/modules/ensemble.html#random-forest-parameters):\n",
        "* n-estimators\n",
        "* max-features\n",
        "\n",
        "In this case we also wanted to tune with \"max_depth\". This parameter describes \"The max_depth of a tree in Random Forest is defined as the longest path between the root node and the leaf node.\" (https://medium.com/analytics-vidhya/random-forest-classifier-and-its-hyperparameters-8467bec755f6)"
      ],
      "metadata": {
        "id": "oFajSoOiNso7"
      }
    },
    {
      "cell_type": "code",
      "source": [
        "parameters = {\n",
        "    'n_estimators': [int(x) for x in np.linspace(start=10, stop=80,num=10)],\n",
        "    'max_features': ['auto', 'sqrt','log2'],\n",
        "    'max_depth': [2,4]\n",
        "}"
      ],
      "metadata": {
        "id": "rJYFjMPmOz4R"
      },
      "execution_count": 44,
      "outputs": []
    },
    {
      "cell_type": "code",
      "source": [
        "# Hyperparameter-Tuning with GridSearchCV\n",
        "\n",
        "from sklearn.model_selection import GridSearchCV\n",
        "cv_rf = GridSearchCV(rf_classifier,parameters,cv=5)\n",
        "cv_rf.fit(X_train,y_train.values.ravel())\n",
        "print(cv_rf.best_params_)"
      ],
      "metadata": {
        "id": "K2Yo_zl0SAeI",
        "outputId": "bd46c9a3-4af4-4633-9229-0e946adec11b",
        "colab": {
          "base_uri": "https://localhost:8080/"
        }
      },
      "execution_count": 45,
      "outputs": [
        {
          "output_type": "stream",
          "name": "stdout",
          "text": [
            "{'max_depth': 4, 'max_features': 'auto', 'n_estimators': 56}\n"
          ]
        }
      ]
    },
    {
      "cell_type": "code",
      "source": [
        "#function that transforms the different results to a dataframe to get a better overview\n",
        "\n",
        "def cv_to_frame(results, name):\n",
        "  mean_score = results.cv_results_['mean_test_score']\n",
        "  std_score = results.cv_results_['std_test_score']\n",
        "  params = results.cv_results_['params']\n",
        "  \n",
        "  ne=[]\n",
        "  mf=[]\n",
        "  md=[]\n",
        "  name_list = []\n",
        "  \n",
        "  for i in range(len((results.cv_results_['params']))):\n",
        "    mf.append(results.cv_results_['params'][i]['max_features'])\n",
        "    md.append(results.cv_results_['params'][i]['max_depth'])\n",
        "    ne.append(results.cv_results_['params'][i]['n_estimators'])\n",
        "    name_list.append(name)\n",
        "\n",
        "  df = pd.DataFrame([name_list, mean_score, std_score, mf, md, ne]).transpose()\n",
        "  df.columns = ['Model','Mean_Score', 'Mean_Std', 'max_features','max_depth','n_estimators']\n",
        "  df = df.sort_values(by='Mean_Score', ascending=False)\n",
        "  return df"
      ],
      "metadata": {
        "id": "-8hfWYQYS0mF"
      },
      "execution_count": 46,
      "outputs": []
    },
    {
      "cell_type": "code",
      "source": [
        "cv_to_frame(cv_rf, 'RandomForestClassifier')"
      ],
      "metadata": {
        "id": "przh_-azTRYe",
        "outputId": "1fedc5bc-d41b-4aac-ee55-150b4860c755",
        "colab": {
          "base_uri": "https://localhost:8080/",
          "height": 1000
        }
      },
      "execution_count": 47,
      "outputs": [
        {
          "output_type": "execute_result",
          "data": {
            "text/plain": [
              "                     Model Mean_Score  Mean_Std max_features max_depth n_estimators\n",
              "36  RandomForestClassifier   0.823003  0.020732         auto         4           56\n",
              "46  RandomForestClassifier   0.823003  0.020732         sqrt         4           56\n",
              "45  RandomForestClassifier   0.821162  0.017433         sqrt         4           48\n",
              "35  RandomForestClassifier   0.821162  0.017433         auto         4           48\n",
              "37  RandomForestClassifier   0.820422  0.021561         auto         4           64\n",
              "47  RandomForestClassifier   0.820422  0.021561         sqrt         4           64\n",
              "48  RandomForestClassifier   0.820056  0.020568         sqrt         4           72\n",
              "38  RandomForestClassifier   0.820056  0.020568         auto         4           72\n",
              "59  RandomForestClassifier   0.820054  0.018712         log2         4           80\n",
              "56  RandomForestClassifier   0.820053  0.016321         log2         4           56\n",
              "34  RandomForestClassifier   0.819688  0.017444         auto         4           41\n",
              "44  RandomForestClassifier   0.819688  0.017444         sqrt         4           41\n",
              "49  RandomForestClassifier   0.819687   0.01958         sqrt         4           80\n",
              "39  RandomForestClassifier   0.819687   0.01958         auto         4           80\n",
              "53  RandomForestClassifier   0.819686  0.015084         log2         4           33\n",
              "33  RandomForestClassifier    0.81895  0.017373         auto         4           33\n",
              "43  RandomForestClassifier    0.81895  0.017373         sqrt         4           33\n",
              "58  RandomForestClassifier   0.818948    0.0198         log2         4           72\n",
              "54  RandomForestClassifier    0.81858  0.016632         log2         4           41\n",
              "57  RandomForestClassifier   0.817841  0.018573         log2         4           64\n",
              "55  RandomForestClassifier   0.815628  0.018635         log2         4           48\n",
              "32  RandomForestClassifier   0.815263  0.016569         auto         4           25\n",
              "42  RandomForestClassifier   0.815263  0.016569         sqrt         4           25\n",
              "51  RandomForestClassifier   0.813786  0.019653         log2         4           17\n",
              "52  RandomForestClassifier    0.81305  0.015166         log2         4           25\n",
              "41  RandomForestClassifier   0.810835  0.017679         sqrt         4           17\n",
              "31  RandomForestClassifier   0.810835  0.017679         auto         4           17\n",
              "50  RandomForestClassifier   0.808993  0.013686         log2         4           10\n",
              "28  RandomForestClassifier   0.804565  0.019636         log2         2           72\n",
              "29  RandomForestClassifier   0.803829  0.022422         log2         2           80\n",
              "40  RandomForestClassifier   0.799406  0.020461         sqrt         4           10\n",
              "30  RandomForestClassifier   0.799406  0.020461         auto         4           10\n",
              "27  RandomForestClassifier   0.798667  0.020544         log2         2           64\n",
              "25  RandomForestClassifier     0.7983  0.022282         log2         2           48\n",
              "24  RandomForestClassifier   0.797933  0.016519         log2         2           41\n",
              "26  RandomForestClassifier   0.797191  0.018707         log2         2           56\n",
              "9   RandomForestClassifier   0.796824  0.016052         auto         2           80\n",
              "19  RandomForestClassifier   0.796824  0.016052         sqrt         2           80\n",
              "8   RandomForestClassifier   0.793506  0.014664         auto         2           72\n",
              "18  RandomForestClassifier   0.793506  0.014664         sqrt         2           72\n",
              "6   RandomForestClassifier   0.789452  0.016073         auto         2           56\n",
              "16  RandomForestClassifier   0.789452  0.016073         sqrt         2           56\n",
              "23  RandomForestClassifier   0.789448  0.019641         log2         2           33\n",
              "14  RandomForestClassifier   0.789448  0.019368         sqrt         2           41\n",
              "4   RandomForestClassifier   0.789448  0.019368         auto         2           41\n",
              "17  RandomForestClassifier   0.788711  0.017531         sqrt         2           64\n",
              "7   RandomForestClassifier   0.788711  0.017531         auto         2           64\n",
              "13  RandomForestClassifier   0.787976  0.020322         sqrt         2           33\n",
              "3   RandomForestClassifier   0.787976  0.020322         auto         2           33\n",
              "15  RandomForestClassifier   0.787974  0.019102         sqrt         2           48\n",
              "5   RandomForestClassifier   0.787974  0.019102         auto         2           48\n",
              "12  RandomForestClassifier    0.78318   0.01722         sqrt         2           25\n",
              "2   RandomForestClassifier    0.78318   0.01722         auto         2           25\n",
              "22  RandomForestClassifier    0.77396  0.018015         log2         2           25\n",
              "1   RandomForestClassifier   0.771381  0.020971         auto         2           17\n",
              "11  RandomForestClassifier   0.771381  0.020971         sqrt         2           17\n",
              "21  RandomForestClassifier   0.769166  0.021546         log2         2           17\n",
              "10  RandomForestClassifier   0.749622  0.024611         sqrt         2           10\n",
              "0   RandomForestClassifier   0.749622  0.024611         auto         2           10\n",
              "20  RandomForestClassifier   0.742244  0.022689         log2         2           10"
            ],
            "text/html": [
              "\n",
              "  <div id=\"df-b571b440-2052-4ad1-971d-1dac7cfaa617\">\n",
              "    <div class=\"colab-df-container\">\n",
              "      <div>\n",
              "<style scoped>\n",
              "    .dataframe tbody tr th:only-of-type {\n",
              "        vertical-align: middle;\n",
              "    }\n",
              "\n",
              "    .dataframe tbody tr th {\n",
              "        vertical-align: top;\n",
              "    }\n",
              "\n",
              "    .dataframe thead th {\n",
              "        text-align: right;\n",
              "    }\n",
              "</style>\n",
              "<table border=\"1\" class=\"dataframe\">\n",
              "  <thead>\n",
              "    <tr style=\"text-align: right;\">\n",
              "      <th></th>\n",
              "      <th>Model</th>\n",
              "      <th>Mean_Score</th>\n",
              "      <th>Mean_Std</th>\n",
              "      <th>max_features</th>\n",
              "      <th>max_depth</th>\n",
              "      <th>n_estimators</th>\n",
              "    </tr>\n",
              "  </thead>\n",
              "  <tbody>\n",
              "    <tr>\n",
              "      <th>36</th>\n",
              "      <td>RandomForestClassifier</td>\n",
              "      <td>0.823003</td>\n",
              "      <td>0.020732</td>\n",
              "      <td>auto</td>\n",
              "      <td>4</td>\n",
              "      <td>56</td>\n",
              "    </tr>\n",
              "    <tr>\n",
              "      <th>46</th>\n",
              "      <td>RandomForestClassifier</td>\n",
              "      <td>0.823003</td>\n",
              "      <td>0.020732</td>\n",
              "      <td>sqrt</td>\n",
              "      <td>4</td>\n",
              "      <td>56</td>\n",
              "    </tr>\n",
              "    <tr>\n",
              "      <th>45</th>\n",
              "      <td>RandomForestClassifier</td>\n",
              "      <td>0.821162</td>\n",
              "      <td>0.017433</td>\n",
              "      <td>sqrt</td>\n",
              "      <td>4</td>\n",
              "      <td>48</td>\n",
              "    </tr>\n",
              "    <tr>\n",
              "      <th>35</th>\n",
              "      <td>RandomForestClassifier</td>\n",
              "      <td>0.821162</td>\n",
              "      <td>0.017433</td>\n",
              "      <td>auto</td>\n",
              "      <td>4</td>\n",
              "      <td>48</td>\n",
              "    </tr>\n",
              "    <tr>\n",
              "      <th>37</th>\n",
              "      <td>RandomForestClassifier</td>\n",
              "      <td>0.820422</td>\n",
              "      <td>0.021561</td>\n",
              "      <td>auto</td>\n",
              "      <td>4</td>\n",
              "      <td>64</td>\n",
              "    </tr>\n",
              "    <tr>\n",
              "      <th>47</th>\n",
              "      <td>RandomForestClassifier</td>\n",
              "      <td>0.820422</td>\n",
              "      <td>0.021561</td>\n",
              "      <td>sqrt</td>\n",
              "      <td>4</td>\n",
              "      <td>64</td>\n",
              "    </tr>\n",
              "    <tr>\n",
              "      <th>48</th>\n",
              "      <td>RandomForestClassifier</td>\n",
              "      <td>0.820056</td>\n",
              "      <td>0.020568</td>\n",
              "      <td>sqrt</td>\n",
              "      <td>4</td>\n",
              "      <td>72</td>\n",
              "    </tr>\n",
              "    <tr>\n",
              "      <th>38</th>\n",
              "      <td>RandomForestClassifier</td>\n",
              "      <td>0.820056</td>\n",
              "      <td>0.020568</td>\n",
              "      <td>auto</td>\n",
              "      <td>4</td>\n",
              "      <td>72</td>\n",
              "    </tr>\n",
              "    <tr>\n",
              "      <th>59</th>\n",
              "      <td>RandomForestClassifier</td>\n",
              "      <td>0.820054</td>\n",
              "      <td>0.018712</td>\n",
              "      <td>log2</td>\n",
              "      <td>4</td>\n",
              "      <td>80</td>\n",
              "    </tr>\n",
              "    <tr>\n",
              "      <th>56</th>\n",
              "      <td>RandomForestClassifier</td>\n",
              "      <td>0.820053</td>\n",
              "      <td>0.016321</td>\n",
              "      <td>log2</td>\n",
              "      <td>4</td>\n",
              "      <td>56</td>\n",
              "    </tr>\n",
              "    <tr>\n",
              "      <th>34</th>\n",
              "      <td>RandomForestClassifier</td>\n",
              "      <td>0.819688</td>\n",
              "      <td>0.017444</td>\n",
              "      <td>auto</td>\n",
              "      <td>4</td>\n",
              "      <td>41</td>\n",
              "    </tr>\n",
              "    <tr>\n",
              "      <th>44</th>\n",
              "      <td>RandomForestClassifier</td>\n",
              "      <td>0.819688</td>\n",
              "      <td>0.017444</td>\n",
              "      <td>sqrt</td>\n",
              "      <td>4</td>\n",
              "      <td>41</td>\n",
              "    </tr>\n",
              "    <tr>\n",
              "      <th>49</th>\n",
              "      <td>RandomForestClassifier</td>\n",
              "      <td>0.819687</td>\n",
              "      <td>0.01958</td>\n",
              "      <td>sqrt</td>\n",
              "      <td>4</td>\n",
              "      <td>80</td>\n",
              "    </tr>\n",
              "    <tr>\n",
              "      <th>39</th>\n",
              "      <td>RandomForestClassifier</td>\n",
              "      <td>0.819687</td>\n",
              "      <td>0.01958</td>\n",
              "      <td>auto</td>\n",
              "      <td>4</td>\n",
              "      <td>80</td>\n",
              "    </tr>\n",
              "    <tr>\n",
              "      <th>53</th>\n",
              "      <td>RandomForestClassifier</td>\n",
              "      <td>0.819686</td>\n",
              "      <td>0.015084</td>\n",
              "      <td>log2</td>\n",
              "      <td>4</td>\n",
              "      <td>33</td>\n",
              "    </tr>\n",
              "    <tr>\n",
              "      <th>33</th>\n",
              "      <td>RandomForestClassifier</td>\n",
              "      <td>0.81895</td>\n",
              "      <td>0.017373</td>\n",
              "      <td>auto</td>\n",
              "      <td>4</td>\n",
              "      <td>33</td>\n",
              "    </tr>\n",
              "    <tr>\n",
              "      <th>43</th>\n",
              "      <td>RandomForestClassifier</td>\n",
              "      <td>0.81895</td>\n",
              "      <td>0.017373</td>\n",
              "      <td>sqrt</td>\n",
              "      <td>4</td>\n",
              "      <td>33</td>\n",
              "    </tr>\n",
              "    <tr>\n",
              "      <th>58</th>\n",
              "      <td>RandomForestClassifier</td>\n",
              "      <td>0.818948</td>\n",
              "      <td>0.0198</td>\n",
              "      <td>log2</td>\n",
              "      <td>4</td>\n",
              "      <td>72</td>\n",
              "    </tr>\n",
              "    <tr>\n",
              "      <th>54</th>\n",
              "      <td>RandomForestClassifier</td>\n",
              "      <td>0.81858</td>\n",
              "      <td>0.016632</td>\n",
              "      <td>log2</td>\n",
              "      <td>4</td>\n",
              "      <td>41</td>\n",
              "    </tr>\n",
              "    <tr>\n",
              "      <th>57</th>\n",
              "      <td>RandomForestClassifier</td>\n",
              "      <td>0.817841</td>\n",
              "      <td>0.018573</td>\n",
              "      <td>log2</td>\n",
              "      <td>4</td>\n",
              "      <td>64</td>\n",
              "    </tr>\n",
              "    <tr>\n",
              "      <th>55</th>\n",
              "      <td>RandomForestClassifier</td>\n",
              "      <td>0.815628</td>\n",
              "      <td>0.018635</td>\n",
              "      <td>log2</td>\n",
              "      <td>4</td>\n",
              "      <td>48</td>\n",
              "    </tr>\n",
              "    <tr>\n",
              "      <th>32</th>\n",
              "      <td>RandomForestClassifier</td>\n",
              "      <td>0.815263</td>\n",
              "      <td>0.016569</td>\n",
              "      <td>auto</td>\n",
              "      <td>4</td>\n",
              "      <td>25</td>\n",
              "    </tr>\n",
              "    <tr>\n",
              "      <th>42</th>\n",
              "      <td>RandomForestClassifier</td>\n",
              "      <td>0.815263</td>\n",
              "      <td>0.016569</td>\n",
              "      <td>sqrt</td>\n",
              "      <td>4</td>\n",
              "      <td>25</td>\n",
              "    </tr>\n",
              "    <tr>\n",
              "      <th>51</th>\n",
              "      <td>RandomForestClassifier</td>\n",
              "      <td>0.813786</td>\n",
              "      <td>0.019653</td>\n",
              "      <td>log2</td>\n",
              "      <td>4</td>\n",
              "      <td>17</td>\n",
              "    </tr>\n",
              "    <tr>\n",
              "      <th>52</th>\n",
              "      <td>RandomForestClassifier</td>\n",
              "      <td>0.81305</td>\n",
              "      <td>0.015166</td>\n",
              "      <td>log2</td>\n",
              "      <td>4</td>\n",
              "      <td>25</td>\n",
              "    </tr>\n",
              "    <tr>\n",
              "      <th>41</th>\n",
              "      <td>RandomForestClassifier</td>\n",
              "      <td>0.810835</td>\n",
              "      <td>0.017679</td>\n",
              "      <td>sqrt</td>\n",
              "      <td>4</td>\n",
              "      <td>17</td>\n",
              "    </tr>\n",
              "    <tr>\n",
              "      <th>31</th>\n",
              "      <td>RandomForestClassifier</td>\n",
              "      <td>0.810835</td>\n",
              "      <td>0.017679</td>\n",
              "      <td>auto</td>\n",
              "      <td>4</td>\n",
              "      <td>17</td>\n",
              "    </tr>\n",
              "    <tr>\n",
              "      <th>50</th>\n",
              "      <td>RandomForestClassifier</td>\n",
              "      <td>0.808993</td>\n",
              "      <td>0.013686</td>\n",
              "      <td>log2</td>\n",
              "      <td>4</td>\n",
              "      <td>10</td>\n",
              "    </tr>\n",
              "    <tr>\n",
              "      <th>28</th>\n",
              "      <td>RandomForestClassifier</td>\n",
              "      <td>0.804565</td>\n",
              "      <td>0.019636</td>\n",
              "      <td>log2</td>\n",
              "      <td>2</td>\n",
              "      <td>72</td>\n",
              "    </tr>\n",
              "    <tr>\n",
              "      <th>29</th>\n",
              "      <td>RandomForestClassifier</td>\n",
              "      <td>0.803829</td>\n",
              "      <td>0.022422</td>\n",
              "      <td>log2</td>\n",
              "      <td>2</td>\n",
              "      <td>80</td>\n",
              "    </tr>\n",
              "    <tr>\n",
              "      <th>40</th>\n",
              "      <td>RandomForestClassifier</td>\n",
              "      <td>0.799406</td>\n",
              "      <td>0.020461</td>\n",
              "      <td>sqrt</td>\n",
              "      <td>4</td>\n",
              "      <td>10</td>\n",
              "    </tr>\n",
              "    <tr>\n",
              "      <th>30</th>\n",
              "      <td>RandomForestClassifier</td>\n",
              "      <td>0.799406</td>\n",
              "      <td>0.020461</td>\n",
              "      <td>auto</td>\n",
              "      <td>4</td>\n",
              "      <td>10</td>\n",
              "    </tr>\n",
              "    <tr>\n",
              "      <th>27</th>\n",
              "      <td>RandomForestClassifier</td>\n",
              "      <td>0.798667</td>\n",
              "      <td>0.020544</td>\n",
              "      <td>log2</td>\n",
              "      <td>2</td>\n",
              "      <td>64</td>\n",
              "    </tr>\n",
              "    <tr>\n",
              "      <th>25</th>\n",
              "      <td>RandomForestClassifier</td>\n",
              "      <td>0.7983</td>\n",
              "      <td>0.022282</td>\n",
              "      <td>log2</td>\n",
              "      <td>2</td>\n",
              "      <td>48</td>\n",
              "    </tr>\n",
              "    <tr>\n",
              "      <th>24</th>\n",
              "      <td>RandomForestClassifier</td>\n",
              "      <td>0.797933</td>\n",
              "      <td>0.016519</td>\n",
              "      <td>log2</td>\n",
              "      <td>2</td>\n",
              "      <td>41</td>\n",
              "    </tr>\n",
              "    <tr>\n",
              "      <th>26</th>\n",
              "      <td>RandomForestClassifier</td>\n",
              "      <td>0.797191</td>\n",
              "      <td>0.018707</td>\n",
              "      <td>log2</td>\n",
              "      <td>2</td>\n",
              "      <td>56</td>\n",
              "    </tr>\n",
              "    <tr>\n",
              "      <th>9</th>\n",
              "      <td>RandomForestClassifier</td>\n",
              "      <td>0.796824</td>\n",
              "      <td>0.016052</td>\n",
              "      <td>auto</td>\n",
              "      <td>2</td>\n",
              "      <td>80</td>\n",
              "    </tr>\n",
              "    <tr>\n",
              "      <th>19</th>\n",
              "      <td>RandomForestClassifier</td>\n",
              "      <td>0.796824</td>\n",
              "      <td>0.016052</td>\n",
              "      <td>sqrt</td>\n",
              "      <td>2</td>\n",
              "      <td>80</td>\n",
              "    </tr>\n",
              "    <tr>\n",
              "      <th>8</th>\n",
              "      <td>RandomForestClassifier</td>\n",
              "      <td>0.793506</td>\n",
              "      <td>0.014664</td>\n",
              "      <td>auto</td>\n",
              "      <td>2</td>\n",
              "      <td>72</td>\n",
              "    </tr>\n",
              "    <tr>\n",
              "      <th>18</th>\n",
              "      <td>RandomForestClassifier</td>\n",
              "      <td>0.793506</td>\n",
              "      <td>0.014664</td>\n",
              "      <td>sqrt</td>\n",
              "      <td>2</td>\n",
              "      <td>72</td>\n",
              "    </tr>\n",
              "    <tr>\n",
              "      <th>6</th>\n",
              "      <td>RandomForestClassifier</td>\n",
              "      <td>0.789452</td>\n",
              "      <td>0.016073</td>\n",
              "      <td>auto</td>\n",
              "      <td>2</td>\n",
              "      <td>56</td>\n",
              "    </tr>\n",
              "    <tr>\n",
              "      <th>16</th>\n",
              "      <td>RandomForestClassifier</td>\n",
              "      <td>0.789452</td>\n",
              "      <td>0.016073</td>\n",
              "      <td>sqrt</td>\n",
              "      <td>2</td>\n",
              "      <td>56</td>\n",
              "    </tr>\n",
              "    <tr>\n",
              "      <th>23</th>\n",
              "      <td>RandomForestClassifier</td>\n",
              "      <td>0.789448</td>\n",
              "      <td>0.019641</td>\n",
              "      <td>log2</td>\n",
              "      <td>2</td>\n",
              "      <td>33</td>\n",
              "    </tr>\n",
              "    <tr>\n",
              "      <th>14</th>\n",
              "      <td>RandomForestClassifier</td>\n",
              "      <td>0.789448</td>\n",
              "      <td>0.019368</td>\n",
              "      <td>sqrt</td>\n",
              "      <td>2</td>\n",
              "      <td>41</td>\n",
              "    </tr>\n",
              "    <tr>\n",
              "      <th>4</th>\n",
              "      <td>RandomForestClassifier</td>\n",
              "      <td>0.789448</td>\n",
              "      <td>0.019368</td>\n",
              "      <td>auto</td>\n",
              "      <td>2</td>\n",
              "      <td>41</td>\n",
              "    </tr>\n",
              "    <tr>\n",
              "      <th>17</th>\n",
              "      <td>RandomForestClassifier</td>\n",
              "      <td>0.788711</td>\n",
              "      <td>0.017531</td>\n",
              "      <td>sqrt</td>\n",
              "      <td>2</td>\n",
              "      <td>64</td>\n",
              "    </tr>\n",
              "    <tr>\n",
              "      <th>7</th>\n",
              "      <td>RandomForestClassifier</td>\n",
              "      <td>0.788711</td>\n",
              "      <td>0.017531</td>\n",
              "      <td>auto</td>\n",
              "      <td>2</td>\n",
              "      <td>64</td>\n",
              "    </tr>\n",
              "    <tr>\n",
              "      <th>13</th>\n",
              "      <td>RandomForestClassifier</td>\n",
              "      <td>0.787976</td>\n",
              "      <td>0.020322</td>\n",
              "      <td>sqrt</td>\n",
              "      <td>2</td>\n",
              "      <td>33</td>\n",
              "    </tr>\n",
              "    <tr>\n",
              "      <th>3</th>\n",
              "      <td>RandomForestClassifier</td>\n",
              "      <td>0.787976</td>\n",
              "      <td>0.020322</td>\n",
              "      <td>auto</td>\n",
              "      <td>2</td>\n",
              "      <td>33</td>\n",
              "    </tr>\n",
              "    <tr>\n",
              "      <th>15</th>\n",
              "      <td>RandomForestClassifier</td>\n",
              "      <td>0.787974</td>\n",
              "      <td>0.019102</td>\n",
              "      <td>sqrt</td>\n",
              "      <td>2</td>\n",
              "      <td>48</td>\n",
              "    </tr>\n",
              "    <tr>\n",
              "      <th>5</th>\n",
              "      <td>RandomForestClassifier</td>\n",
              "      <td>0.787974</td>\n",
              "      <td>0.019102</td>\n",
              "      <td>auto</td>\n",
              "      <td>2</td>\n",
              "      <td>48</td>\n",
              "    </tr>\n",
              "    <tr>\n",
              "      <th>12</th>\n",
              "      <td>RandomForestClassifier</td>\n",
              "      <td>0.78318</td>\n",
              "      <td>0.01722</td>\n",
              "      <td>sqrt</td>\n",
              "      <td>2</td>\n",
              "      <td>25</td>\n",
              "    </tr>\n",
              "    <tr>\n",
              "      <th>2</th>\n",
              "      <td>RandomForestClassifier</td>\n",
              "      <td>0.78318</td>\n",
              "      <td>0.01722</td>\n",
              "      <td>auto</td>\n",
              "      <td>2</td>\n",
              "      <td>25</td>\n",
              "    </tr>\n",
              "    <tr>\n",
              "      <th>22</th>\n",
              "      <td>RandomForestClassifier</td>\n",
              "      <td>0.77396</td>\n",
              "      <td>0.018015</td>\n",
              "      <td>log2</td>\n",
              "      <td>2</td>\n",
              "      <td>25</td>\n",
              "    </tr>\n",
              "    <tr>\n",
              "      <th>1</th>\n",
              "      <td>RandomForestClassifier</td>\n",
              "      <td>0.771381</td>\n",
              "      <td>0.020971</td>\n",
              "      <td>auto</td>\n",
              "      <td>2</td>\n",
              "      <td>17</td>\n",
              "    </tr>\n",
              "    <tr>\n",
              "      <th>11</th>\n",
              "      <td>RandomForestClassifier</td>\n",
              "      <td>0.771381</td>\n",
              "      <td>0.020971</td>\n",
              "      <td>sqrt</td>\n",
              "      <td>2</td>\n",
              "      <td>17</td>\n",
              "    </tr>\n",
              "    <tr>\n",
              "      <th>21</th>\n",
              "      <td>RandomForestClassifier</td>\n",
              "      <td>0.769166</td>\n",
              "      <td>0.021546</td>\n",
              "      <td>log2</td>\n",
              "      <td>2</td>\n",
              "      <td>17</td>\n",
              "    </tr>\n",
              "    <tr>\n",
              "      <th>10</th>\n",
              "      <td>RandomForestClassifier</td>\n",
              "      <td>0.749622</td>\n",
              "      <td>0.024611</td>\n",
              "      <td>sqrt</td>\n",
              "      <td>2</td>\n",
              "      <td>10</td>\n",
              "    </tr>\n",
              "    <tr>\n",
              "      <th>0</th>\n",
              "      <td>RandomForestClassifier</td>\n",
              "      <td>0.749622</td>\n",
              "      <td>0.024611</td>\n",
              "      <td>auto</td>\n",
              "      <td>2</td>\n",
              "      <td>10</td>\n",
              "    </tr>\n",
              "    <tr>\n",
              "      <th>20</th>\n",
              "      <td>RandomForestClassifier</td>\n",
              "      <td>0.742244</td>\n",
              "      <td>0.022689</td>\n",
              "      <td>log2</td>\n",
              "      <td>2</td>\n",
              "      <td>10</td>\n",
              "    </tr>\n",
              "  </tbody>\n",
              "</table>\n",
              "</div>\n",
              "      <button class=\"colab-df-convert\" onclick=\"convertToInteractive('df-b571b440-2052-4ad1-971d-1dac7cfaa617')\"\n",
              "              title=\"Convert this dataframe to an interactive table.\"\n",
              "              style=\"display:none;\">\n",
              "        \n",
              "  <svg xmlns=\"http://www.w3.org/2000/svg\" height=\"24px\"viewBox=\"0 0 24 24\"\n",
              "       width=\"24px\">\n",
              "    <path d=\"M0 0h24v24H0V0z\" fill=\"none\"/>\n",
              "    <path d=\"M18.56 5.44l.94 2.06.94-2.06 2.06-.94-2.06-.94-.94-2.06-.94 2.06-2.06.94zm-11 1L8.5 8.5l.94-2.06 2.06-.94-2.06-.94L8.5 2.5l-.94 2.06-2.06.94zm10 10l.94 2.06.94-2.06 2.06-.94-2.06-.94-.94-2.06-.94 2.06-2.06.94z\"/><path d=\"M17.41 7.96l-1.37-1.37c-.4-.4-.92-.59-1.43-.59-.52 0-1.04.2-1.43.59L10.3 9.45l-7.72 7.72c-.78.78-.78 2.05 0 2.83L4 21.41c.39.39.9.59 1.41.59.51 0 1.02-.2 1.41-.59l7.78-7.78 2.81-2.81c.8-.78.8-2.07 0-2.86zM5.41 20L4 18.59l7.72-7.72 1.47 1.35L5.41 20z\"/>\n",
              "  </svg>\n",
              "      </button>\n",
              "      \n",
              "  <style>\n",
              "    .colab-df-container {\n",
              "      display:flex;\n",
              "      flex-wrap:wrap;\n",
              "      gap: 12px;\n",
              "    }\n",
              "\n",
              "    .colab-df-convert {\n",
              "      background-color: #E8F0FE;\n",
              "      border: none;\n",
              "      border-radius: 50%;\n",
              "      cursor: pointer;\n",
              "      display: none;\n",
              "      fill: #1967D2;\n",
              "      height: 32px;\n",
              "      padding: 0 0 0 0;\n",
              "      width: 32px;\n",
              "    }\n",
              "\n",
              "    .colab-df-convert:hover {\n",
              "      background-color: #E2EBFA;\n",
              "      box-shadow: 0px 1px 2px rgba(60, 64, 67, 0.3), 0px 1px 3px 1px rgba(60, 64, 67, 0.15);\n",
              "      fill: #174EA6;\n",
              "    }\n",
              "\n",
              "    [theme=dark] .colab-df-convert {\n",
              "      background-color: #3B4455;\n",
              "      fill: #D2E3FC;\n",
              "    }\n",
              "\n",
              "    [theme=dark] .colab-df-convert:hover {\n",
              "      background-color: #434B5C;\n",
              "      box-shadow: 0px 1px 3px 1px rgba(0, 0, 0, 0.15);\n",
              "      filter: drop-shadow(0px 1px 2px rgba(0, 0, 0, 0.3));\n",
              "      fill: #FFFFFF;\n",
              "    }\n",
              "  </style>\n",
              "\n",
              "      <script>\n",
              "        const buttonEl =\n",
              "          document.querySelector('#df-b571b440-2052-4ad1-971d-1dac7cfaa617 button.colab-df-convert');\n",
              "        buttonEl.style.display =\n",
              "          google.colab.kernel.accessAllowed ? 'block' : 'none';\n",
              "\n",
              "        async function convertToInteractive(key) {\n",
              "          const element = document.querySelector('#df-b571b440-2052-4ad1-971d-1dac7cfaa617');\n",
              "          const dataTable =\n",
              "            await google.colab.kernel.invokeFunction('convertToInteractive',\n",
              "                                                     [key], {});\n",
              "          if (!dataTable) return;\n",
              "\n",
              "          const docLinkHtml = 'Like what you see? Visit the ' +\n",
              "            '<a target=\"_blank\" href=https://colab.research.google.com/notebooks/data_table.ipynb>data table notebook</a>'\n",
              "            + ' to learn more about interactive tables.';\n",
              "          element.innerHTML = '';\n",
              "          dataTable['output_type'] = 'display_data';\n",
              "          await google.colab.output.renderOutput(dataTable, element);\n",
              "          const docLink = document.createElement('div');\n",
              "          docLink.innerHTML = docLinkHtml;\n",
              "          element.appendChild(docLink);\n",
              "        }\n",
              "      </script>\n",
              "    </div>\n",
              "  </div>\n",
              "  "
            ]
          },
          "metadata": {},
          "execution_count": 47
        }
      ]
    },
    {
      "cell_type": "markdown",
      "source": [
        "# **Image Models**"
      ],
      "metadata": {
        "id": "S1IjkRcW9G60"
      }
    },
    {
      "cell_type": "markdown",
      "source": [
        "## **CNN** (complex Code Marian)\n",
        "\n"
      ],
      "metadata": {
        "id": "3MgbX_sIDDA5"
      }
    },
    {
      "cell_type": "code",
      "source": [
        "# get images from drive folder and split into train and test\n",
        "\n",
        "import tensorflow as tf\n",
        "from tensorflow.keras.preprocessing import image_dataset_from_directory\n",
        "\n",
        "train_dataset = image_dataset_from_directory('/content/colab_files/spectograms', labels='inferred', validation_split=0.2, subset='training', label_mode='categorical', seed=42)\n",
        "val_dataset = image_dataset_from_directory('/content/colab_files/spectograms', labels='inferred', validation_split=0.2, subset='validation', label_mode='categorical', seed=42)"
      ],
      "metadata": {
        "id": "27HADilYDRvS",
        "colab": {
          "base_uri": "https://localhost:8080/"
        },
        "outputId": "9c7a67b3-f10f-496d-a12e-82d5bcdd36fa"
      },
      "execution_count": null,
      "outputs": [
        {
          "output_type": "stream",
          "name": "stdout",
          "text": [
            "Found 200 files belonging to 2 classes.\n",
            "Using 160 files for training.\n",
            "Found 200 files belonging to 2 classes.\n",
            "Using 40 files for validation.\n"
          ]
        }
      ]
    },
    {
      "cell_type": "markdown",
      "source": [
        "There's a lot to unpack here, so let's start:\n",
        "\n",
        "\n",
        "*   `train` describes the folder from which keras should load images\n",
        "*   `labels='inferred'` means that keras will take the target label for each image from the folder structure\n",
        "*   `validation_split=0.2` means that keras will retain 20% for validation\n",
        "*   `subset` determines whether keras returns the training or validation dataset\n",
        "*   `label_mode='categorical'` means that the labels are encoded as categorical vectors\n",
        "*   `seed` describes the random seed to be used, this has to be the same to ensure that each image is used only once in the training and test set\n",
        "\n"
      ],
      "metadata": {
        "id": "DOOlDsrmDZmF"
      }
    },
    {
      "cell_type": "markdown",
      "source": [
        "We can now start defining our model. As previously mentioned, we'll be using a CNN architecture. The architecture was taken from [this kaggle post](https://www.kaggle.com/abhinavkrjha/using-cnn-architecture-99-631-accuracy)."
      ],
      "metadata": {
        "id": "HLkuizLPDdke"
      }
    },
    {
      "cell_type": "code",
      "source": [
        "from tensorflow.keras.layers import Conv2D, MaxPooling2D, GlobalAveragePooling2D\n",
        "from tensorflow.keras.layers import Dropout, Flatten, Dense\n",
        "from tensorflow.keras.models import Sequential\n",
        "\n",
        "# again, we start with the Sequential() call\n",
        "cnn = Sequential()\n",
        "\n",
        "# add 4 layer pairs consisting of a convolution and max pooling layer\n",
        "# the number of filters doubles with each layer to deal with the rising complexity of features\n",
        "# the input shape in this case consists of our images size (256x256) with the color information (RGB = 3)\n",
        "cnn.add(Conv2D(filters=64, kernel_size=2, padding='same', activation='relu', input_shape=(256,256,3), kernel_initializer='glorot_normal'))\n",
        "cnn.add(MaxPooling2D(pool_size=2))\n",
        "cnn.add(Conv2D(filters=128, kernel_size=2, padding='same', activation='relu', kernel_initializer='glorot_normal'))\n",
        "cnn.add(MaxPooling2D(pool_size=2))\n",
        "cnn.add(Conv2D(filters=256, kernel_size=2, padding='same', activation='relu', kernel_initializer='glorot_normal'))\n",
        "cnn.add(MaxPooling2D(pool_size=2))\n",
        "cnn.add(Conv2D(filters=512, kernel_size=2, padding='same', activation='relu', kernel_initializer='glorot_normal'))\n",
        "cnn.add(MaxPooling2D(pool_size=2))\n",
        "\n",
        "# add dropout for regularization\n",
        "cnn.add(Dropout(0.5))\n",
        "# flatten all activations into one vector\n",
        "cnn.add(Flatten())\n",
        "# final fully-connected hidden layer\n",
        "cnn.add(Dense(500, activation='relu', kernel_initializer='glorot_normal'))\n",
        "cnn.add(Dropout(0.5))\n",
        "# output layer with 2 neurons (2 classes)\n",
        "cnn.add(Dense(2, activation='softmax', kernel_initializer='glorot_normal'))"
      ],
      "metadata": {
        "id": "_7jY2S3tDgbw"
      },
      "execution_count": null,
      "outputs": []
    },
    {
      "cell_type": "markdown",
      "source": [
        "This architecture looks quite complex and it actually is (nothing compared to the size of architectures reaching state-of-the-art results, but still), but you can find many CNN architectures which will perform quite well on a range of different tasks. Often times, architectures that work very well for specific tasks (like this one) are created using a trial-and-error approach and hyperparameter optimization."
      ],
      "metadata": {
        "id": "B059cvRgDjts"
      }
    },
    {
      "cell_type": "markdown",
      "source": [
        "Because we defined the size of our inputs explicitly, we can already now plot the architecture of our model:"
      ],
      "metadata": {
        "id": "wgONTny6Dndj"
      }
    },
    {
      "cell_type": "code",
      "source": [
        "from tensorflow.keras.utils import plot_model\n",
        "\n",
        "plot_model(cnn, show_shapes=True,\n",
        "    show_dtype=True)"
      ],
      "metadata": {
        "id": "MalT_ytlDpD8"
      },
      "execution_count": null,
      "outputs": []
    },
    {
      "cell_type": "markdown",
      "source": [
        "We can also plot the architecture of a state-of-the-art CNN model (e.g. XCeption for the `imagenet` dataset): see [here](https://keras.io/api/applications/)."
      ],
      "metadata": {
        "id": "btnMa1LqRREq"
      }
    },
    {
      "cell_type": "code",
      "source": [
        "xception = tf.keras.applications.Xception(\n",
        "    include_top=True,\n",
        "    weights=\"imagenet\",\n",
        "    input_tensor=None,\n",
        "    input_shape=None,\n",
        "    pooling=None,\n",
        "    classes=1000,\n",
        "    classifier_activation=\"softmax\",\n",
        ")\n",
        "\n",
        "plot_model(xception, show_shapes=True,\n",
        "    show_dtype=True)"
      ],
      "metadata": {
        "id": "4-iKXpcFDuAc"
      },
      "execution_count": null,
      "outputs": []
    },
    {
      "cell_type": "markdown",
      "source": [
        "Now we're ready to prepare our model for training:"
      ],
      "metadata": {
        "id": "KSYz0GP5DwAr"
      }
    },
    {
      "cell_type": "code",
      "source": [
        "cnn.compile(optimizer='rmsprop', loss='categorical_crossentropy', metrics=['accuracy'])"
      ],
      "metadata": {
        "id": "ic_JZvHEDxJn"
      },
      "execution_count": null,
      "outputs": []
    },
    {
      "cell_type": "markdown",
      "source": [
        "We will also be using something called `early stopping`. In many cases, our model performance stops improving after a certain number of epochs. To speed up the training process, we can instruct keras to stop training when the performance of the model has not improved after a fixed number of epochs:"
      ],
      "metadata": {
        "id": "Tq05IHKyDzkn"
      }
    },
    {
      "cell_type": "code",
      "source": [
        "from tensorflow.keras.callbacks import EarlyStopping\n",
        "early_stopping = EarlyStopping(\n",
        "    monitor='val_loss', # which metric keras should look at for deciding early stopping\n",
        "    min_delta=0.01, # how much difference will be counted as an improvement; everything below will count as 'not improved'\n",
        "    patience=3, # the number of epochs to wait for improvement before stopping\n",
        "    verbose=0, \n",
        "    restore_best_weights=True # go back to the weights of the model with the best performance value after stopping\n",
        ")"
      ],
      "metadata": {
        "id": "Wsh7bxc4D1Do"
      },
      "execution_count": null,
      "outputs": []
    },
    {
      "cell_type": "markdown",
      "source": [
        "The callback has to be passed in during training. Note that training might take a while:"
      ],
      "metadata": {
        "id": "Z9LvUKmPD29g"
      }
    },
    {
      "cell_type": "code",
      "source": [
        "# Caution: this takes ~25-45min\n",
        "\n",
        "cnn_history = cnn.fit(train_dataset, \n",
        "                          validation_data = val_dataset, \n",
        "                          epochs=25, \n",
        "                          batch_size=32, # keras will push 32 images in one batch through the network for training\n",
        "                          verbose=1, # print progress for each epoch\n",
        "                          callbacks = [early_stopping])"
      ],
      "metadata": {
        "id": "I1-P3EcAD5HZ",
        "colab": {
          "base_uri": "https://localhost:8080/"
        },
        "outputId": "ad7caefd-9c09-4726-8d31-987174f3d87f"
      },
      "execution_count": null,
      "outputs": [
        {
          "output_type": "stream",
          "name": "stdout",
          "text": [
            "Epoch 1/25\n",
            "53/53 [==============================] - 627s 11s/step - loss: 206.3717 - accuracy: 0.5122 - val_loss: 0.6930 - val_accuracy: 0.5643\n",
            "Epoch 2/25\n",
            "53/53 [==============================] - 542s 10s/step - loss: 4.4191 - accuracy: 0.5253 - val_loss: 0.6682 - val_accuracy: 0.7119\n",
            "Epoch 3/25\n",
            "53/53 [==============================] - 525s 10s/step - loss: 2.0001 - accuracy: 0.5134 - val_loss: 0.7067 - val_accuracy: 0.4357\n",
            "Epoch 4/25\n",
            "53/53 [==============================] - 527s 10s/step - loss: 0.7826 - accuracy: 0.4985 - val_loss: 0.6932 - val_accuracy: 0.4357\n",
            "Epoch 5/25\n",
            "53/53 [==============================] - 522s 10s/step - loss: 0.6934 - accuracy: 0.4860 - val_loss: 0.6932 - val_accuracy: 0.4357\n"
          ]
        }
      ]
    },
    {
      "cell_type": "markdown",
      "source": [
        "Analysis over time:"
      ],
      "metadata": {
        "id": "7zd01GpBD64-"
      }
    },
    {
      "cell_type": "code",
      "source": [
        "import matplotlib.pyplot as plt\n",
        "# summarize history for accuracy\n",
        "plt.plot(cnn_history.history['accuracy'])\n",
        "plt.plot(cnn_history.history['val_accuracy'])\n",
        "plt.title('model accuracy')\n",
        "plt.ylabel('accuracy')\n",
        "plt.xlabel('epoch')\n",
        "plt.legend(['train', 'test'], loc='upper left')\n",
        "plt.show()\n",
        "# summarize history for loss\n",
        "plt.plot(cnn_history.history['loss'])\n",
        "plt.plot(cnn_history.history['val_loss'])\n",
        "plt.title('model loss')\n",
        "plt.ylabel('loss')\n",
        "plt.xlabel('epoch')\n",
        "plt.legend(['train', 'test'], loc='upper left')\n",
        "plt.show()"
      ],
      "metadata": {
        "id": "KjNCXcPfD8_f",
        "colab": {
          "base_uri": "https://localhost:8080/",
          "height": 573
        },
        "outputId": "14285ef4-6085-4189-f10d-dc52ab154415"
      },
      "execution_count": null,
      "outputs": [
        {
          "output_type": "display_data",
          "data": {
            "text/plain": [
              "<Figure size 432x288 with 1 Axes>"
            ],
            "image/png": "[encoded data removed]"
          },
          "metadata": {
            "needs_background": "light"
          }
        },
        {
          "output_type": "display_data",
          "data": {
            "text/plain": [
              "<Figure size 432x288 with 1 Axes>"
            ],
            "image/png": "[encoded data removed]"
          },
          "metadata": {
            "needs_background": "light"
          }
        }
      ]
    },
    {
      "cell_type": "markdown",
      "source": [
        "The difference in accuracy/loss between train and test is probably caused by the dropout layers which are only active during training but not during testing.\n"
      ],
      "metadata": {
        "id": "EP644bDMEAZI"
      }
    },
    {
      "cell_type": "markdown",
      "source": [
        "Let's take a closer look at the model performance. For that, we first have to retrieve the actual predictions using the following code:"
      ],
      "metadata": {
        "id": "q98xPlWaECda"
      }
    },
    {
      "cell_type": "code",
      "source": [
        "import numpy as np\n",
        "predictions = np.array([])\n",
        "labels =  np.array([])\n",
        "\n",
        "# we have to iterate over the dataset and get the predictions for each example individually\n",
        "for x, y in val_dataset:\n",
        "  predictions = np.concatenate([predictions, np.argmax(cnn.predict(x), axis=-1)])\n",
        "  labels = np.concatenate([labels, np.argmax(y.numpy(), axis=-1)])"
      ],
      "metadata": {
        "id": "xf_dWE-nED9T"
      },
      "execution_count": null,
      "outputs": []
    },
    {
      "cell_type": "markdown",
      "source": [
        "Now we can print the classification report:"
      ],
      "metadata": {
        "id": "-1_1BudZEGc0"
      }
    },
    {
      "cell_type": "code",
      "source": [
        "from sklearn.metrics import classification_report\n",
        "print(classification_report(labels, predictions))"
      ],
      "metadata": {
        "id": "LQbbeX1kEIEE",
        "colab": {
          "base_uri": "https://localhost:8080/"
        },
        "outputId": "20b94846-2a17-42ad-874f-da4fe5b85b92"
      },
      "execution_count": null,
      "outputs": [
        {
          "output_type": "stream",
          "name": "stdout",
          "text": [
            "              precision    recall  f1-score   support\n",
            "\n",
            "         0.0       0.62      0.89      0.73       183\n",
            "         1.0       0.87      0.58      0.69       237\n",
            "\n",
            "    accuracy                           0.71       420\n",
            "   macro avg       0.74      0.73      0.71       420\n",
            "weighted avg       0.76      0.71      0.71       420\n",
            "\n"
          ]
        }
      ]
    },
    {
      "cell_type": "markdown",
      "source": [
        "## **CNN for tuning**"
      ],
      "metadata": {
        "id": "jtxY5ItLcNl2"
      }
    },
    {
      "cell_type": "markdown",
      "source": [
        "https://keras.io/keras_tuner/\n",
        "\n",
        "https://www.youtube.com/watch?v=Clo1HKB50Ug"
      ],
      "metadata": {
        "id": "S7DgO49XccaX"
      }
    },
    {
      "cell_type": "code",
      "source": [
        "import pandas as pd\n",
        "import os\n",
        "from skimage.transform import resize\n",
        "from skimage.io import imread\n",
        "import numpy as np\n",
        "import matplotlib.pyplot as plt"
      ],
      "metadata": {
        "id": "FfO9z8sNgwN6"
      },
      "execution_count": 48,
      "outputs": []
    },
    {
      "cell_type": "code",
      "source": [
        "categories=['happy','sad']\n",
        "flat_data_arr=[] #input array\n",
        "target_arr=[] #output array\n",
        "\n",
        "datadir='/content/colab_files/spectograms' \n",
        "#path which contains all the categories of images"
      ],
      "metadata": {
        "id": "uiKk7-TQHeR8"
      },
      "execution_count": 49,
      "outputs": []
    },
    {
      "cell_type": "code",
      "source": [
        "for i in categories:\n",
        "    print(f'loading... category : {i}')\n",
        "    path=os.path.join(datadir,i)\n",
        "    for img in os.listdir(path):\n",
        "        img_array=imread(os.path.join(path,img))\n",
        "        img_resized=resize(img_array,(150,150,3))\n",
        "        flat_data_arr.append(img_resized.flatten())\n",
        "        target_arr.append(categories.index(i))\n",
        "    print(f'loaded category:{i} successfully')"
      ],
      "metadata": {
        "colab": {
          "base_uri": "https://localhost:8080/",
          "height": 440
        },
        "id": "DQByTi1TfK1c",
        "outputId": "06f9c879-7e0d-4546-c98c-e35768f7e284"
      },
      "execution_count": 50,
      "outputs": [
        {
          "output_type": "stream",
          "name": "stdout",
          "text": [
            "loading... category : happy\n"
          ]
        },
        {
          "output_type": "error",
          "ename": "KeyboardInterrupt",
          "evalue": "ignored",
          "traceback": [
            "\u001b[0;31m---------------------------------------------------------------------------\u001b[0m",
            "\u001b[0;31mKeyboardInterrupt\u001b[0m                         Traceback (most recent call last)",
            "\u001b[0;32m<ipython-input-50-2bedcfb29d29>\u001b[0m in \u001b[0;36m<module>\u001b[0;34m()\u001b[0m\n\u001b[1;32m      4\u001b[0m     \u001b[0;32mfor\u001b[0m \u001b[0mimg\u001b[0m \u001b[0;32min\u001b[0m \u001b[0mos\u001b[0m\u001b[0;34m.\u001b[0m\u001b[0mlistdir\u001b[0m\u001b[0;34m(\u001b[0m\u001b[0mpath\u001b[0m\u001b[0;34m)\u001b[0m\u001b[0;34m:\u001b[0m\u001b[0;34m\u001b[0m\u001b[0;34m\u001b[0m\u001b[0m\n\u001b[1;32m      5\u001b[0m         \u001b[0mimg_array\u001b[0m\u001b[0;34m=\u001b[0m\u001b[0mimread\u001b[0m\u001b[0;34m(\u001b[0m\u001b[0mos\u001b[0m\u001b[0;34m.\u001b[0m\u001b[0mpath\u001b[0m\u001b[0;34m.\u001b[0m\u001b[0mjoin\u001b[0m\u001b[0;34m(\u001b[0m\u001b[0mpath\u001b[0m\u001b[0;34m,\u001b[0m\u001b[0mimg\u001b[0m\u001b[0;34m)\u001b[0m\u001b[0;34m)\u001b[0m\u001b[0;34m\u001b[0m\u001b[0;34m\u001b[0m\u001b[0m\n\u001b[0;32m----> 6\u001b[0;31m         \u001b[0mimg_resized\u001b[0m\u001b[0;34m=\u001b[0m\u001b[0mresize\u001b[0m\u001b[0;34m(\u001b[0m\u001b[0mimg_array\u001b[0m\u001b[0;34m,\u001b[0m\u001b[0;34m(\u001b[0m\u001b[0;36m150\u001b[0m\u001b[0;34m,\u001b[0m\u001b[0;36m150\u001b[0m\u001b[0;34m,\u001b[0m\u001b[0;36m3\u001b[0m\u001b[0;34m)\u001b[0m\u001b[0;34m)\u001b[0m\u001b[0;34m\u001b[0m\u001b[0;34m\u001b[0m\u001b[0m\n\u001b[0m\u001b[1;32m      7\u001b[0m         \u001b[0mflat_data_arr\u001b[0m\u001b[0;34m.\u001b[0m\u001b[0mappend\u001b[0m\u001b[0;34m(\u001b[0m\u001b[0mimg_resized\u001b[0m\u001b[0;34m.\u001b[0m\u001b[0mflatten\u001b[0m\u001b[0;34m(\u001b[0m\u001b[0;34m)\u001b[0m\u001b[0;34m)\u001b[0m\u001b[0;34m\u001b[0m\u001b[0;34m\u001b[0m\u001b[0m\n\u001b[1;32m      8\u001b[0m         \u001b[0mtarget_arr\u001b[0m\u001b[0;34m.\u001b[0m\u001b[0mappend\u001b[0m\u001b[0;34m(\u001b[0m\u001b[0mcategories\u001b[0m\u001b[0;34m.\u001b[0m\u001b[0mindex\u001b[0m\u001b[0;34m(\u001b[0m\u001b[0mi\u001b[0m\u001b[0;34m)\u001b[0m\u001b[0;34m)\u001b[0m\u001b[0;34m\u001b[0m\u001b[0;34m\u001b[0m\u001b[0m\n",
            "\u001b[0;32m/usr/local/lib/python3.7/dist-packages/skimage/transform/_warps.py\u001b[0m in \u001b[0;36mresize\u001b[0;34m(image, output_shape, order, mode, cval, clip, preserve_range, anti_aliasing, anti_aliasing_sigma)\u001b[0m\n\u001b[1;32m    188\u001b[0m                                          indexing='ij'))\n\u001b[1;32m    189\u001b[0m \u001b[0;34m\u001b[0m\u001b[0m\n\u001b[0;32m--> 190\u001b[0;31m         \u001b[0mimage\u001b[0m \u001b[0;34m=\u001b[0m \u001b[0mconvert_to_float\u001b[0m\u001b[0;34m(\u001b[0m\u001b[0mimage\u001b[0m\u001b[0;34m,\u001b[0m \u001b[0mpreserve_range\u001b[0m\u001b[0;34m)\u001b[0m\u001b[0;34m\u001b[0m\u001b[0;34m\u001b[0m\u001b[0m\n\u001b[0m\u001b[1;32m    191\u001b[0m \u001b[0;34m\u001b[0m\u001b[0m\n\u001b[1;32m    192\u001b[0m         \u001b[0mndi_mode\u001b[0m \u001b[0;34m=\u001b[0m \u001b[0m_to_ndimage_mode\u001b[0m\u001b[0;34m(\u001b[0m\u001b[0mmode\u001b[0m\u001b[0;34m)\u001b[0m\u001b[0;34m\u001b[0m\u001b[0;34m\u001b[0m\u001b[0m\n",
            "\u001b[0;32m/usr/local/lib/python3.7/dist-packages/skimage/_shared/utils.py\u001b[0m in \u001b[0;36mconvert_to_float\u001b[0;34m(image, preserve_range)\u001b[0m\n\u001b[1;32m    376\u001b[0m             \u001b[0mimage\u001b[0m \u001b[0;34m=\u001b[0m \u001b[0mimage\u001b[0m\u001b[0;34m.\u001b[0m\u001b[0mastype\u001b[0m\u001b[0;34m(\u001b[0m\u001b[0mfloat\u001b[0m\u001b[0;34m)\u001b[0m\u001b[0;34m\u001b[0m\u001b[0;34m\u001b[0m\u001b[0m\n\u001b[1;32m    377\u001b[0m     \u001b[0;32melse\u001b[0m\u001b[0;34m:\u001b[0m\u001b[0;34m\u001b[0m\u001b[0;34m\u001b[0m\u001b[0m\n\u001b[0;32m--> 378\u001b[0;31m         \u001b[0mimage\u001b[0m \u001b[0;34m=\u001b[0m \u001b[0mimg_as_float\u001b[0m\u001b[0;34m(\u001b[0m\u001b[0mimage\u001b[0m\u001b[0;34m)\u001b[0m\u001b[0;34m\u001b[0m\u001b[0;34m\u001b[0m\u001b[0m\n\u001b[0m\u001b[1;32m    379\u001b[0m     \u001b[0;32mreturn\u001b[0m \u001b[0mimage\u001b[0m\u001b[0;34m\u001b[0m\u001b[0;34m\u001b[0m\u001b[0m\n\u001b[1;32m    380\u001b[0m \u001b[0;34m\u001b[0m\u001b[0m\n",
            "\u001b[0;32m/usr/local/lib/python3.7/dist-packages/skimage/util/dtype.py\u001b[0m in \u001b[0;36mimg_as_float\u001b[0;34m(image, force_copy)\u001b[0m\n\u001b[1;32m    456\u001b[0m \u001b[0;34m\u001b[0m\u001b[0m\n\u001b[1;32m    457\u001b[0m     \"\"\"\n\u001b[0;32m--> 458\u001b[0;31m     \u001b[0;32mreturn\u001b[0m \u001b[0m_convert\u001b[0m\u001b[0;34m(\u001b[0m\u001b[0mimage\u001b[0m\u001b[0;34m,\u001b[0m \u001b[0mnp\u001b[0m\u001b[0;34m.\u001b[0m\u001b[0mfloating\u001b[0m\u001b[0;34m,\u001b[0m \u001b[0mforce_copy\u001b[0m\u001b[0;34m)\u001b[0m\u001b[0;34m\u001b[0m\u001b[0;34m\u001b[0m\u001b[0m\n\u001b[0m\u001b[1;32m    459\u001b[0m \u001b[0;34m\u001b[0m\u001b[0m\n\u001b[1;32m    460\u001b[0m \u001b[0;34m\u001b[0m\u001b[0m\n",
            "\u001b[0;32m/usr/local/lib/python3.7/dist-packages/skimage/util/dtype.py\u001b[0m in \u001b[0;36m_convert\u001b[0;34m(image, dtype, force_copy, uniform)\u001b[0m\n\u001b[1;32m    318\u001b[0m             \u001b[0;31m# until the computation time\u001b[0m\u001b[0;34m\u001b[0m\u001b[0;34m\u001b[0m\u001b[0;34m\u001b[0m\u001b[0m\n\u001b[1;32m    319\u001b[0m             image = np.multiply(image, 1. / imax_in,\n\u001b[0;32m--> 320\u001b[0;31m                                 dtype=computation_type)\n\u001b[0m\u001b[1;32m    321\u001b[0m             \u001b[0;31m# DirectX uses this conversion also for signed ints\u001b[0m\u001b[0;34m\u001b[0m\u001b[0;34m\u001b[0m\u001b[0;34m\u001b[0m\u001b[0m\n\u001b[1;32m    322\u001b[0m             \u001b[0;31m# if imin_in:\u001b[0m\u001b[0;34m\u001b[0m\u001b[0;34m\u001b[0m\u001b[0;34m\u001b[0m\u001b[0m\n",
            "\u001b[0;31mKeyboardInterrupt\u001b[0m: "
          ]
        }
      ]
    },
    {
      "cell_type": "code",
      "source": [
        "flat_data=np.array(flat_data_arr)\n",
        "\n",
        "target=np.array(target_arr)\n",
        "\n",
        "df=pd.DataFrame(flat_data) #dataframe\n",
        "df['Target']=target\n",
        "\n",
        "x=df.iloc[:,:-1] #input data \n",
        "y=df.iloc[:,-1] #output data"
      ],
      "metadata": {
        "id": "Kkcp1wBXfOBA"
      },
      "execution_count": null,
      "outputs": []
    },
    {
      "cell_type": "code",
      "source": [
        "from sklearn.model_selection import train_test_split\n",
        "\n",
        "x_train,x_test,y_train,y_test = train_test_split(x,y,test_size=0.20,random_state=77,stratify=y)"
      ],
      "metadata": {
        "id": "Cj3qi4dUfSLk"
      },
      "execution_count": null,
      "outputs": []
    },
    {
      "cell_type": "code",
      "source": [
        "print(x_train.shape)\n",
        "print(y_train.shape)\n",
        "print(x_test.shape)\n",
        "print(y_test.shape)"
      ],
      "metadata": {
        "colab": {
          "base_uri": "https://localhost:8080/"
        },
        "id": "A4gzb7gmqCfr",
        "outputId": "f34d3db1-c590-41f4-c3d0-e85527cc02e0"
      },
      "execution_count": null,
      "outputs": [
        {
          "output_type": "stream",
          "name": "stdout",
          "text": [
            "(1682, 67500)\n",
            "(1682,)\n",
            "(421, 67500)\n",
            "(421,)\n"
          ]
        }
      ]
    },
    {
      "cell_type": "markdown",
      "source": [
        "### Model + Tuning"
      ],
      "metadata": {
        "id": "3MM85JiIlVJZ"
      }
    },
    {
      "cell_type": "code",
      "source": [
        "!pip install keras-tuner\n",
        "import keras_tuner as kt\n",
        "from tensorflow import keras"
      ],
      "metadata": {
        "id": "H5TN-rZNdGxj"
      },
      "execution_count": null,
      "outputs": []
    },
    {
      "cell_type": "code",
      "source": [
        "!rm -rf 'cnn_model'"
      ],
      "metadata": {
        "id": "GPhwtZVAtNNT"
      },
      "execution_count": null,
      "outputs": []
    },
    {
      "cell_type": "code",
      "source": [
        "# model with varying parameters:\n",
        "# number of hidden layers, number of neurons per layer, activation function, learning rate\n",
        "\n",
        "def build_model(hp):\n",
        "  model = keras.Sequential()\n",
        "\n",
        "  for i in range(hp.Int('layers',2,6)):\n",
        "      model.add(keras.layers.Dense(\n",
        "          units = hp.Int('units_'+str(i), 50, 100, step=10),\n",
        "          activation=hp.Choice('act_'+str(i),['relu','sigmoid'])))\n",
        "\n",
        "  model.add(keras.layers.Dense(2, activation='softmax'))\n",
        "  model.compile(optimizer=keras.optimizers.Adam(\n",
        "                  hp.Choice('learning_rate',values=[0.01, 0.001])),\n",
        "                loss = 'mse',\n",
        "                metrics=['accuracy'])\n",
        "  return model"
      ],
      "metadata": {
        "id": "FUr03lbR370t"
      },
      "execution_count": null,
      "outputs": []
    },
    {
      "cell_type": "code",
      "source": [
        "tuner = kt.RandomSearch(\n",
        "    build_model,\n",
        "    objective= kt.Objective(\"val_accuracy\", direction=\"max\"),\n",
        "    max_trials=5,\n",
        "    executions_per_trial = 3, # we try 5 times, in each try there are 3 models; saves time\n",
        "    directory = 'cnn_model3',\n",
        "    project_name = 'model3')"
      ],
      "metadata": {
        "id": "4XbtboUj-T8j"
      },
      "execution_count": null,
      "outputs": []
    },
    {
      "cell_type": "code",
      "source": [
        "tuner.search_space_summary() "
      ],
      "metadata": {
        "id": "jk9YFz0M4yxn"
      },
      "execution_count": null,
      "outputs": []
    },
    {
      "cell_type": "code",
      "source": [
        "tuner.search(x_train, y_train, epochs=5, validation_data=(x_test, y_test))"
      ],
      "metadata": {
        "colab": {
          "base_uri": "https://localhost:8080/"
        },
        "id": "AfmYU1Se40qa",
        "outputId": "f0bfcc41-b083-4d43-f1d3-dc43f364a88d"
      },
      "execution_count": null,
      "outputs": [
        {
          "output_type": "stream",
          "name": "stdout",
          "text": [
            "Trial 5 Complete [00h 00m 52s]\n",
            "val_accuracy: 0.5154394507408142\n",
            "\n",
            "Best val_accuracy So Far: 0.5154394507408142\n",
            "Total elapsed time: 00h 05m 00s\n",
            "INFO:tensorflow:Oracle triggered exit\n"
          ]
        }
      ]
    },
    {
      "cell_type": "code",
      "source": [
        "tuner.results_summary()"
      ],
      "metadata": {
        "id": "s7VV1FTr508_",
        "colab": {
          "base_uri": "https://localhost:8080/"
        },
        "outputId": "a0a16d98-1b09-43e4-92df-f5438f439124"
      },
      "execution_count": null,
      "outputs": [
        {
          "output_type": "stream",
          "name": "stdout",
          "text": [
            "Results summary\n",
            "Results in cnn_model3/model3\n",
            "Showing 10 best trials\n",
            "<keras_tuner.engine.objective.Objective object at 0x7f980169f4d0>\n",
            "Trial summary\n",
            "Hyperparameters:\n",
            "layers: 4\n",
            "units_0: 60\n",
            "act_0: sigmoid\n",
            "units_1: 80\n",
            "act_1: sigmoid\n",
            "learning_rate: 0.001\n",
            "units_2: 80\n",
            "act_2: sigmoid\n",
            "units_3: 50\n",
            "act_3: relu\n",
            "Score: 0.5154394507408142\n",
            "Trial summary\n",
            "Hyperparameters:\n",
            "layers: 3\n",
            "units_0: 80\n",
            "act_0: relu\n",
            "units_1: 50\n",
            "act_1: sigmoid\n",
            "learning_rate: 0.01\n",
            "units_2: 50\n",
            "act_2: relu\n",
            "units_3: 90\n",
            "act_3: sigmoid\n",
            "Score: 0.5154394507408142\n",
            "Trial summary\n",
            "Hyperparameters:\n",
            "layers: 2\n",
            "units_0: 90\n",
            "act_0: relu\n",
            "units_1: 60\n",
            "act_1: relu\n",
            "learning_rate: 0.001\n",
            "Score: 0.5051464935143789\n",
            "Trial summary\n",
            "Hyperparameters:\n",
            "layers: 3\n",
            "units_0: 80\n",
            "act_0: relu\n",
            "units_1: 100\n",
            "act_1: relu\n",
            "learning_rate: 0.001\n",
            "units_2: 50\n",
            "act_2: relu\n",
            "Score: 0.49485353628794354\n",
            "Trial summary\n",
            "Hyperparameters:\n",
            "layers: 2\n",
            "units_0: 80\n",
            "act_0: relu\n",
            "units_1: 60\n",
            "act_1: relu\n",
            "learning_rate: 0.01\n",
            "units_2: 50\n",
            "act_2: relu\n",
            "Score: 0.49485353628794354\n"
          ]
        }
      ]
    },
    {
      "cell_type": "markdown",
      "source": [
        "## **SVM** "
      ],
      "metadata": {
        "id": "fQX-gXYgFF5d"
      }
    },
    {
      "cell_type": "markdown",
      "source": [
        "https://medium.com/analytics-vidhya/image-classification-using-machine-learning-support-vector-machine-svm-dc7a0ec92e01"
      ],
      "metadata": {
        "id": "dxsCPuLAHLWC"
      }
    },
    {
      "cell_type": "code",
      "source": [
        "import pandas as pd\n",
        "import os\n",
        "from skimage.transform import resize\n",
        "from skimage.io import imread\n",
        "import numpy as np\n",
        "import matplotlib.pyplot as plt"
      ],
      "metadata": {
        "id": "aO4PoQ_kFMLt"
      },
      "execution_count": null,
      "outputs": []
    },
    {
      "cell_type": "code",
      "source": [
        "categories=['happy','sad']\n",
        "flat_data_arr=[] #input array\n",
        "target_arr=[] #output array\n",
        "\n",
        "datadir='/content/colab_files/spectograms'\n",
        "#path which contains all the categories of images"
      ],
      "metadata": {
        "id": "S8rofZYWGOCD"
      },
      "execution_count": null,
      "outputs": []
    },
    {
      "cell_type": "code",
      "source": [
        "for i in categories:\n",
        "    print(f'loading... category : {i}')\n",
        "    path=os.path.join(datadir,i)\n",
        "    for img in os.listdir(path):\n",
        "        img_array=imread(os.path.join(path,img))\n",
        "        img_resized=resize(img_array,(150,150,3))\n",
        "        flat_data_arr.append(img_resized.flatten())\n",
        "        target_arr.append(categories.index(i))\n",
        "    print(f'loaded category:{i} successfully')"
      ],
      "metadata": {
        "colab": {
          "base_uri": "https://localhost:8080/"
        },
        "id": "X8pVZ__JGdyn",
        "outputId": "60f847f9-efbf-441c-b8d9-0786d3ccfb76"
      },
      "execution_count": null,
      "outputs": [
        {
          "output_type": "stream",
          "name": "stdout",
          "text": [
            "loading... category : happy\n",
            "loaded category:happy successfully\n",
            "loading... category : sad\n",
            "loaded category:sad successfully\n"
          ]
        }
      ]
    },
    {
      "cell_type": "code",
      "source": [
        "flat_data=np.array(flat_data_arr)\n",
        "\n",
        "target=np.array(target_arr)\n",
        "\n",
        "df=pd.DataFrame(flat_data) #dataframe\n",
        "df['Target']=target\n",
        "\n",
        "x=df.iloc[:,:-1] #input data \n",
        "y=df.iloc[:,-1] #output data"
      ],
      "metadata": {
        "id": "SuWojHgFGlGb"
      },
      "execution_count": null,
      "outputs": []
    },
    {
      "cell_type": "markdown",
      "source": [
        "### **Model + Tuning**"
      ],
      "metadata": {
        "id": "sqODNYlaHSeq"
      }
    },
    {
      "cell_type": "code",
      "source": [
        "from sklearn import svm\n",
        "from sklearn.model_selection import GridSearchCV\n",
        "from sklearn.metrics import classification_report, confusion_matrix  "
      ],
      "metadata": {
        "id": "9AJOLxSIHWRM"
      },
      "execution_count": null,
      "outputs": []
    },
    {
      "cell_type": "code",
      "source": [
        "param_grid = {'C':[0.1,1,10,100],'gamma':[0.0001,0.001,0.1,1],'kernel':['rbf','poly']}\n",
        "svc = svm.SVC(probability=True)\n",
        "model = GridSearchCV(svc,param_grid)"
      ],
      "metadata": {
        "id": "2L7QAFtFHXvh"
      },
      "execution_count": null,
      "outputs": []
    },
    {
      "cell_type": "code",
      "source": [
        "from sklearn.model_selection import train_test_split\n",
        "\n",
        "x_train,x_test,y_train,y_test = train_test_split(x,y,test_size=0.20,random_state=77,stratify=y)"
      ],
      "metadata": {
        "colab": {
          "base_uri": "https://localhost:8080/"
        },
        "id": "vVNVmYb-HbFW",
        "outputId": "85240017-6851-4f23-e332-ac37d61aa79b"
      },
      "execution_count": null,
      "outputs": [
        {
          "output_type": "stream",
          "name": "stdout",
          "text": [
            "Splitted Successfully\n"
          ]
        }
      ]
    },
    {
      "cell_type": "code",
      "source": [
        "model.fit(x_train,y_train)\n",
        "\n",
        "# model.best_params_ contains the best parameters obtained from GridSearchCV"
      ],
      "metadata": {
        "id": "nb8aFvPbexHm"
      },
      "execution_count": null,
      "outputs": []
    },
    {
      "cell_type": "code",
      "source": [
        "# try without tuning\n",
        "model = svm.SVC()\n",
        "model.fit(x_train, y_train)\n",
        "svc_accuracy = model.score(x_test, y_test)\n",
        "print(svc_accuracy)"
      ],
      "metadata": {
        "colab": {
          "base_uri": "https://localhost:8080/"
        },
        "id": "uNVKZAx3oJmT",
        "outputId": "cff4bbc7-5bd4-4148-b77c-32ed5db5a9bd"
      },
      "execution_count": null,
      "outputs": [
        {
          "output_type": "stream",
          "name": "stdout",
          "text": [
            "0.7387173396674585\n"
          ]
        }
      ]
    },
    {
      "cell_type": "code",
      "source": [
        "y_pred = model.predict(x_test)\n",
        "print(confusion_matrix(y_test,y_pred))\n",
        "print(classification_report(y_test,y_pred))"
      ],
      "metadata": {
        "colab": {
          "base_uri": "https://localhost:8080/"
        },
        "id": "hvU5lkWxro6Z",
        "outputId": "9d4f0641-8f69-4f0a-9bdb-3bb50ee79e49"
      },
      "execution_count": null,
      "outputs": [
        {
          "output_type": "stream",
          "name": "stdout",
          "text": [
            "[[172  32]\n",
            " [ 78 139]]\n",
            "              precision    recall  f1-score   support\n",
            "\n",
            "           0       0.69      0.84      0.76       204\n",
            "           1       0.81      0.64      0.72       217\n",
            "\n",
            "    accuracy                           0.74       421\n",
            "   macro avg       0.75      0.74      0.74       421\n",
            "weighted avg       0.75      0.74      0.74       421\n",
            "\n"
          ]
        }
      ]
    },
    {
      "cell_type": "code",
      "source": [
        "# Get user input and predict category\n",
        "\n",
        "url=input('Enter URL of Image :')\n",
        "img=imread(url)\n",
        "plt.imshow(img)\n",
        "plt.show()\n",
        "img_resize=resize(img,(150,150,3))\n",
        "l=[img_resize.flatten()]\n",
        "probability=model.predict_proba(l)\n",
        "for ind,val in enumerate(Categories):\n",
        "    print(f'{val} = {probability[0][ind]*100}%')\n",
        "print(\"The predicted image is : \"+Categories[model.predict(l)[0]])"
      ],
      "metadata": {
        "id": "FD_yQr5iHzCt"
      },
      "execution_count": null,
      "outputs": []
    },
    {
      "cell_type": "markdown",
      "source": [
        "# User-Input + Prediction which label"
      ],
      "metadata": {
        "id": "bdbiHGMlYNaV"
      }
    },
    {
      "cell_type": "code",
      "source": [
        "!pip install spotipy\n",
        "import spotipy as sp"
      ],
      "metadata": {
        "id": "C04SKgu9cXJR",
        "outputId": "7d762a38-3a98-4d11-9956-a4003b2f2457",
        "colab": {
          "base_uri": "https://localhost:8080/"
        }
      },
      "execution_count": 56,
      "outputs": [
        {
          "output_type": "stream",
          "name": "stdout",
          "text": [
            "Looking in indexes: https://pypi.org/simple, https://us-python.pkg.dev/colab-wheels/public/simple/\n",
            "Requirement already satisfied: spotipy in /usr/local/lib/python3.7/dist-packages (2.20.0)\n",
            "Requirement already satisfied: requests>=2.25.0 in /usr/local/lib/python3.7/dist-packages (from spotipy) (2.28.1)\n",
            "Requirement already satisfied: urllib3>=1.26.0 in /usr/local/lib/python3.7/dist-packages (from spotipy) (1.26.10)\n",
            "Requirement already satisfied: six>=1.15.0 in /usr/local/lib/python3.7/dist-packages (from spotipy) (1.15.0)\n",
            "Requirement already satisfied: redis>=3.5.3 in /usr/local/lib/python3.7/dist-packages (from spotipy) (4.3.4)\n",
            "Requirement already satisfied: importlib-metadata>=1.0 in /usr/local/lib/python3.7/dist-packages (from redis>=3.5.3->spotipy) (4.12.0)\n",
            "Requirement already satisfied: async-timeout>=4.0.2 in /usr/local/lib/python3.7/dist-packages (from redis>=3.5.3->spotipy) (4.0.2)\n",
            "Requirement already satisfied: typing-extensions in /usr/local/lib/python3.7/dist-packages (from redis>=3.5.3->spotipy) (4.1.1)\n",
            "Requirement already satisfied: deprecated>=1.2.3 in /usr/local/lib/python3.7/dist-packages (from redis>=3.5.3->spotipy) (1.2.13)\n",
            "Requirement already satisfied: packaging>=20.4 in /usr/local/lib/python3.7/dist-packages (from redis>=3.5.3->spotipy) (21.3)\n",
            "Requirement already satisfied: wrapt<2,>=1.10 in /usr/local/lib/python3.7/dist-packages (from deprecated>=1.2.3->redis>=3.5.3->spotipy) (1.14.1)\n",
            "Requirement already satisfied: zipp>=0.5 in /usr/local/lib/python3.7/dist-packages (from importlib-metadata>=1.0->redis>=3.5.3->spotipy) (3.8.0)\n",
            "Requirement already satisfied: pyparsing!=3.0.5,>=2.0.2 in /usr/local/lib/python3.7/dist-packages (from packaging>=20.4->redis>=3.5.3->spotipy) (3.0.9)\n",
            "Requirement already satisfied: idna<4,>=2.5 in /usr/local/lib/python3.7/dist-packages (from requests>=2.25.0->spotipy) (2.10)\n",
            "Requirement already satisfied: charset-normalizer<3,>=2 in /usr/local/lib/python3.7/dist-packages (from requests>=2.25.0->spotipy) (2.1.0)\n",
            "Requirement already satisfied: certifi>=2017.4.17 in /usr/local/lib/python3.7/dist-packages (from requests>=2.25.0->spotipy) (2022.6.15)\n"
          ]
        }
      ]
    },
    {
      "cell_type": "code",
      "source": [
        "artist= 'Moses Sumney'\n",
        "track= 'Lonely World'\n",
        "track_id = sp.spotify.search(q='artist:' + artist + ' track:' + track, type='track')"
      ],
      "metadata": {
        "id": "B2r_s4hZcmwc",
        "outputId": "492cc209-d962-47c2-b357-92d8fee916f5",
        "colab": {
          "base_uri": "https://localhost:8080/",
          "height": 240
        }
      },
      "execution_count": 58,
      "outputs": [
        {
          "output_type": "error",
          "ename": "AttributeError",
          "evalue": "ignored",
          "traceback": [
            "\u001b[0;31m---------------------------------------------------------------------------\u001b[0m",
            "\u001b[0;31mAttributeError\u001b[0m                            Traceback (most recent call last)",
            "\u001b[0;32m<ipython-input-58-5be3b810d6ec>\u001b[0m in \u001b[0;36m<module>\u001b[0;34m()\u001b[0m\n\u001b[1;32m      1\u001b[0m \u001b[0martist\u001b[0m\u001b[0;34m=\u001b[0m \u001b[0;34m'Moses Sumney'\u001b[0m\u001b[0;34m\u001b[0m\u001b[0;34m\u001b[0m\u001b[0m\n\u001b[1;32m      2\u001b[0m \u001b[0mtrack\u001b[0m\u001b[0;34m=\u001b[0m \u001b[0;34m'Lonely World'\u001b[0m\u001b[0;34m\u001b[0m\u001b[0;34m\u001b[0m\u001b[0m\n\u001b[0;32m----> 3\u001b[0;31m \u001b[0mtrack_id\u001b[0m \u001b[0;34m=\u001b[0m \u001b[0msp\u001b[0m\u001b[0;34m.\u001b[0m\u001b[0mspotify\u001b[0m\u001b[0;34m.\u001b[0m\u001b[0msearch\u001b[0m\u001b[0;34m(\u001b[0m\u001b[0mq\u001b[0m\u001b[0;34m=\u001b[0m\u001b[0;34m'artist:'\u001b[0m \u001b[0;34m+\u001b[0m \u001b[0martist\u001b[0m \u001b[0;34m+\u001b[0m \u001b[0;34m' track:'\u001b[0m \u001b[0;34m+\u001b[0m \u001b[0mtrack\u001b[0m\u001b[0;34m,\u001b[0m \u001b[0mtype\u001b[0m\u001b[0;34m=\u001b[0m\u001b[0;34m'track'\u001b[0m\u001b[0;34m)\u001b[0m\u001b[0;34m\u001b[0m\u001b[0;34m\u001b[0m\u001b[0m\n\u001b[0m",
            "\u001b[0;31mAttributeError\u001b[0m: module 'spotipy' has no attribute 'spotify'"
          ]
        }
      ]
    },
    {
      "cell_type": "code",
      "source": [
        "user_input = input('Enter your song-name here:')\n",
        "\n",
        "\n",
        "\n",
        "artist= 'Moses Sumney'\n",
        "track= 'Lonely World'\n",
        "track_id = sp.search(q='artist:' + artist + ' track:' + track, type='track')"
      ],
      "metadata": {
        "id": "qu0-KPvFYjnS",
        "outputId": "1e00c7ce-7c1e-4ad3-8381-ab8646ae8314",
        "colab": {
          "base_uri": "https://localhost:8080/"
        }
      },
      "execution_count": 53,
      "outputs": [
        {
          "output_type": "stream",
          "name": "stdout",
          "text": [
            "Enter your song-name here:Teenage Dirtbag\n",
            "Teenage Dirtbag - Cooler Song\n"
          ]
        }
      ]
    }
  ]
}
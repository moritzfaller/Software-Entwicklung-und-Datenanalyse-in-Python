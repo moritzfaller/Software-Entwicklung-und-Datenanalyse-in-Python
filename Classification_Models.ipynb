{
  "nbformat": 4,
  "nbformat_minor": 0,
  "metadata": {
    "colab": {
      "name": "Classification Models.ipynb",
      "provenance": [],
      "include_colab_link": true
    },
    "kernelspec": {
      "name": "python3",
      "display_name": "Python 3"
    },
    "language_info": {
      "name": "python"
    }
  },
  "cells": [
    {
      "cell_type": "markdown",
      "metadata": {
        "id": "view-in-github",
        "colab_type": "text"
      },
      "source": [
        "<a href=\"https://colab.research.google.com/github/moritzfaller/Software-Entwicklung-und-Datenanalyse-in-Python/blob/main/Classification_Models.ipynb\" target=\"_parent\"><img src=\"https://colab.research.google.com/assets/colab-badge.svg\" alt=\"Open In Colab\"/></a>"
      ]
    },
    {
      "cell_type": "markdown",
      "source": [
        "# General"
      ],
      "metadata": {
        "id": "AdGOhb4MLPtq"
      }
    },
    {
      "cell_type": "code",
      "execution_count": 1,
      "metadata": {
        "id": "RUM4Dq84NMeM"
      },
      "outputs": [],
      "source": [
        "# install packages\n",
        "\n",
        "import pandas as pd\n",
        "import numpy as np\n",
        "from sklearn.model_selection import train_test_split\n",
        "from sklearn.preprocessing import StandardScaler\n",
        "from sklearn.ensemble import GradientBoostingClassifier\n",
        "from sklearn.metrics import confusion_matrix\n",
        "\n",
        "# visualisation\n",
        "\n",
        "pd.set_option('display.width', 700)\n",
        "pd.options.display.max_colwidth = 100\n",
        "np.set_printoptions(linewidth=800)\n",
        "pd.set_option('display.max_rows', 100)\n",
        "pd.set_option('display.max_columns', 500)"
      ]
    },
    {
      "cell_type": "code",
      "source": [
        "# clones public repo to colab\n",
        "\n",
        "# deletes folder named 'colab_files'\n",
        "!rm -rf 'colab_files'\n",
        "\n",
        "# creates a colab directory which is identical to github repo\n",
        "!git clone https://github.com/jeremykleindienst/colab_files.git\n",
        "\n",
        "# loads dataset to variable data_full\n",
        "data_full = pd.read_csv('/content/colab_files/merged_full_data_mood_clean.csv')"
      ],
      "metadata": {
        "id": "wvoDge1sGyJi",
        "outputId": "fa6d8dbe-88f9-492b-d8f7-c417b687b876",
        "colab": {
          "base_uri": "https://localhost:8080/"
        }
      },
      "execution_count": 2,
      "outputs": [
        {
          "output_type": "stream",
          "name": "stdout",
          "text": [
            "Cloning into 'colab_files'...\n",
            "remote: Enumerating objects: 2205, done.\u001b[K\n",
            "remote: Counting objects: 100% (110/110), done.\u001b[K\n",
            "remote: Compressing objects: 100% (110/110), done.\u001b[K\n",
            "remote: Total 2205 (delta 1), reused 98 (delta 0), pack-reused 2095\u001b[K\n",
            "Receiving objects: 100% (2205/2205), 135.05 MiB | 25.70 MiB/s, done.\n",
            "Resolving deltas: 100% (51/51), done.\n",
            "Checking out files: 100% (2104/2104), done.\n"
          ]
        }
      ]
    },
    {
      "cell_type": "markdown",
      "source": [
        "# Classification Models"
      ],
      "metadata": {
        "id": "VQZzjKbZXdb2"
      }
    },
    {
      "cell_type": "code",
      "source": [
        "#data_full = data_full.drop('Unnamed: 0', axis = 1)"
      ],
      "metadata": {
        "id": "80FY5crjRAao"
      },
      "execution_count": null,
      "outputs": []
    },
    {
      "cell_type": "code",
      "source": [
        "data_full"
      ],
      "metadata": {
        "id": "DyWAJStuR7QF",
        "outputId": "ca43d672-8fb0-4217-864b-d72c4304433f",
        "colab": {
          "base_uri": "https://localhost:8080/",
          "height": 758
        }
      },
      "execution_count": 3,
      "outputs": [
        {
          "output_type": "execute_result",
          "data": {
            "text/plain": [
              "      danceability  energy  key  loudness  mode  speechiness  acousticness  instrumentalness  liveness  valence    tempo            type                      id                                   uri                                                track_href                                                      analysis_url  duration_ms  time_signature   Mood                               name                   artists  Popularity                                         album_name  release_year\n",
              "0            0.673   0.902    2    -2.392     1       0.0346       0.05910          0.000262    0.0558    0.538  100.012  audio_features  5Hroj5K7vLpIG4FNCRIjbP  spotify:track:5Hroj5K7vLpIG4FNCRIjbP  https://api.spotify.com/v1/tracks/5Hroj5K7vLpIG4FNCRIjbP  https://api.spotify.com/v1/audio-analysis/5Hroj5K7vLpIG4FNCRIjbP       194240               4  happy                Best Day Of My Life          American Authors        80.0                                    Oh, What A Life          2014\n",
              "1            0.629   0.793    9    -5.942     1       0.0346       0.00952          0.000001    0.2180    0.588   95.981  audio_features  5YTtTbqxUzJHD3CpbNHerP  spotify:track:5YTtTbqxUzJHD3CpbNHerP  https://api.spotify.com/v1/tracks/5YTtTbqxUzJHD3CpbNHerP  https://api.spotify.com/v1/audio-analysis/5YTtTbqxUzJHD3CpbNHerP       231213               4  happy              Brighter Than The Sun            Colbie Caillat        65.0                                         All Of You          2011\n",
              "2            0.388   0.338   10   -10.054     1       0.0329       0.65200          0.000004    0.2480    0.478  177.765  audio_features  2RlgNHKcydI9sayD2Df2xp  spotify:track:2RlgNHKcydI9sayD2Df2xp  https://api.spotify.com/v1/tracks/2RlgNHKcydI9sayD2Df2xp  https://api.spotify.com/v1/audio-analysis/2RlgNHKcydI9sayD2Df2xp       303373               4  happy                       Mr. Blue Sky  Electric Light Orchestra        81.0                                    Out of the Blue          1977\n",
              "3            0.547   0.820    8    -6.728     1       0.0805       0.26100          0.000000    0.3000    0.933  118.208  audio_features  2Nz6aF1umHh5Et6I5H581L  spotify:track:2Nz6aF1umHh5Et6I5H581L  https://api.spotify.com/v1/tracks/2Nz6aF1umHh5Et6I5H581L  https://api.spotify.com/v1/audio-analysis/2Nz6aF1umHh5Et6I5H581L       172867               4  happy                Hooked On A Feeling                Blue Swede        66.0  Hooked On A Feeling - 40th Anniversary Collection          2014\n",
              "4            0.396   0.473   10    -7.670     0       0.0345       0.32600          0.000124    0.1090    0.385  133.449  audio_features  5t9KYe0Fhd5cW6UYT4qP8f  spotify:track:5t9KYe0Fhd5cW6UYT4qP8f  https://api.spotify.com/v1/tracks/5t9KYe0Fhd5cW6UYT4qP8f  https://api.spotify.com/v1/audio-analysis/5t9KYe0Fhd5cW6UYT4qP8f       219027               4  happy  Good Vibrations - Remastered 2001            The Beach Boys        73.0                          Smiley Smile (Remastered)          1967\n",
              "...            ...     ...  ...       ...   ...          ...           ...               ...       ...      ...      ...             ...                     ...                                   ...                                                       ...                                                               ...          ...             ...    ...                                ...                       ...         ...                                                ...           ...\n",
              "2577         0.557   0.533   10    -6.817     0       0.0252       0.04920          0.000000    0.2050    0.233  143.994  audio_features  3NLrRZoMF0Lx6zTlYqeIo4  spotify:track:3NLrRZoMF0Lx6zTlYqeIo4  https://api.spotify.com/v1/tracks/3NLrRZoMF0Lx6zTlYqeIo4  https://api.spotify.com/v1/audio-analysis/3NLrRZoMF0Lx6zTlYqeIo4       238733               4    sad                   Here Without You              3 Doors Down        76.0                                  Away From The Sun          2002\n",
              "2578         0.321   0.511    8    -7.770     1       0.0306       0.51300          0.000000    0.1270    0.170  128.980  audio_features  5t2gSYVvBV9kH4t7Czertq  spotify:track:5t2gSYVvBV9kH4t7Czertq  https://api.spotify.com/v1/tracks/5t2gSYVvBV9kH4t7Czertq  https://api.spotify.com/v1/audio-analysis/5t2gSYVvBV9kH4t7Czertq       222120               4    sad                    There You'll Be                Faith Hill        62.0                                    There You'll Be          2001\n",
              "2579         0.539   0.683    5    -5.157     0       0.0276       0.00962          0.000000    0.2840    0.331  136.032  audio_features  6Qgva9AMxlkf7MWkLUkdFH  spotify:track:6Qgva9AMxlkf7MWkLUkdFH  https://api.spotify.com/v1/tracks/6Qgva9AMxlkf7MWkLUkdFH  https://api.spotify.com/v1/audio-analysis/6Qgva9AMxlkf7MWkLUkdFH       214107               4    sad                What Hurts The Most             Rascal Flatts        42.0                                     Me And My Gang          2006\n",
              "2580         0.798   0.480    0    -5.564     1       0.0276       0.24700          0.000000    0.2370    0.643  108.241  audio_features  5S0cvScXb33JVpjTiY9Ivi  spotify:track:5S0cvScXb33JVpjTiY9Ivi  https://api.spotify.com/v1/tracks/5S0cvScXb33JVpjTiY9Ivi  https://api.spotify.com/v1/audio-analysis/5S0cvScXb33JVpjTiY9Ivi       255600               4    sad                          Separated                     Avant        56.0                                        My Thoughts          2000\n",
              "2581         0.739   0.341   10    -9.971     1       0.0378       0.52500          0.000001    0.0720    0.231   80.958  audio_features  7snmvZMLdGGk3l9PcvoYSM  spotify:track:7snmvZMLdGGk3l9PcvoYSM  https://api.spotify.com/v1/tracks/7snmvZMLdGGk3l9PcvoYSM  https://api.spotify.com/v1/audio-analysis/7snmvZMLdGGk3l9PcvoYSM       266000               4    sad               Dance With My Father           Luther Vandross        61.0                               Dance With My Father          2003\n",
              "\n",
              "[2582 rows x 24 columns]"
            ],
            "text/html": [
              "\n",
              "  <div id=\"df-b0ef6696-ffbf-406d-b4b9-125c6a7fd9c8\">\n",
              "    <div class=\"colab-df-container\">\n",
              "      <div>\n",
              "<style scoped>\n",
              "    .dataframe tbody tr th:only-of-type {\n",
              "        vertical-align: middle;\n",
              "    }\n",
              "\n",
              "    .dataframe tbody tr th {\n",
              "        vertical-align: top;\n",
              "    }\n",
              "\n",
              "    .dataframe thead th {\n",
              "        text-align: right;\n",
              "    }\n",
              "</style>\n",
              "<table border=\"1\" class=\"dataframe\">\n",
              "  <thead>\n",
              "    <tr style=\"text-align: right;\">\n",
              "      <th></th>\n",
              "      <th>danceability</th>\n",
              "      <th>energy</th>\n",
              "      <th>key</th>\n",
              "      <th>loudness</th>\n",
              "      <th>mode</th>\n",
              "      <th>speechiness</th>\n",
              "      <th>acousticness</th>\n",
              "      <th>instrumentalness</th>\n",
              "      <th>liveness</th>\n",
              "      <th>valence</th>\n",
              "      <th>tempo</th>\n",
              "      <th>type</th>\n",
              "      <th>id</th>\n",
              "      <th>uri</th>\n",
              "      <th>track_href</th>\n",
              "      <th>analysis_url</th>\n",
              "      <th>duration_ms</th>\n",
              "      <th>time_signature</th>\n",
              "      <th>Mood</th>\n",
              "      <th>name</th>\n",
              "      <th>artists</th>\n",
              "      <th>Popularity</th>\n",
              "      <th>album_name</th>\n",
              "      <th>release_year</th>\n",
              "    </tr>\n",
              "  </thead>\n",
              "  <tbody>\n",
              "    <tr>\n",
              "      <th>0</th>\n",
              "      <td>0.673</td>\n",
              "      <td>0.902</td>\n",
              "      <td>2</td>\n",
              "      <td>-2.392</td>\n",
              "      <td>1</td>\n",
              "      <td>0.0346</td>\n",
              "      <td>0.05910</td>\n",
              "      <td>0.000262</td>\n",
              "      <td>0.0558</td>\n",
              "      <td>0.538</td>\n",
              "      <td>100.012</td>\n",
              "      <td>audio_features</td>\n",
              "      <td>5Hroj5K7vLpIG4FNCRIjbP</td>\n",
              "      <td>spotify:track:5Hroj5K7vLpIG4FNCRIjbP</td>\n",
              "      <td>https://api.spotify.com/v1/tracks/5Hroj5K7vLpIG4FNCRIjbP</td>\n",
              "      <td>https://api.spotify.com/v1/audio-analysis/5Hroj5K7vLpIG4FNCRIjbP</td>\n",
              "      <td>194240</td>\n",
              "      <td>4</td>\n",
              "      <td>happy</td>\n",
              "      <td>Best Day Of My Life</td>\n",
              "      <td>American Authors</td>\n",
              "      <td>80.0</td>\n",
              "      <td>Oh, What A Life</td>\n",
              "      <td>2014</td>\n",
              "    </tr>\n",
              "    <tr>\n",
              "      <th>1</th>\n",
              "      <td>0.629</td>\n",
              "      <td>0.793</td>\n",
              "      <td>9</td>\n",
              "      <td>-5.942</td>\n",
              "      <td>1</td>\n",
              "      <td>0.0346</td>\n",
              "      <td>0.00952</td>\n",
              "      <td>0.000001</td>\n",
              "      <td>0.2180</td>\n",
              "      <td>0.588</td>\n",
              "      <td>95.981</td>\n",
              "      <td>audio_features</td>\n",
              "      <td>5YTtTbqxUzJHD3CpbNHerP</td>\n",
              "      <td>spotify:track:5YTtTbqxUzJHD3CpbNHerP</td>\n",
              "      <td>https://api.spotify.com/v1/tracks/5YTtTbqxUzJHD3CpbNHerP</td>\n",
              "      <td>https://api.spotify.com/v1/audio-analysis/5YTtTbqxUzJHD3CpbNHerP</td>\n",
              "      <td>231213</td>\n",
              "      <td>4</td>\n",
              "      <td>happy</td>\n",
              "      <td>Brighter Than The Sun</td>\n",
              "      <td>Colbie Caillat</td>\n",
              "      <td>65.0</td>\n",
              "      <td>All Of You</td>\n",
              "      <td>2011</td>\n",
              "    </tr>\n",
              "    <tr>\n",
              "      <th>2</th>\n",
              "      <td>0.388</td>\n",
              "      <td>0.338</td>\n",
              "      <td>10</td>\n",
              "      <td>-10.054</td>\n",
              "      <td>1</td>\n",
              "      <td>0.0329</td>\n",
              "      <td>0.65200</td>\n",
              "      <td>0.000004</td>\n",
              "      <td>0.2480</td>\n",
              "      <td>0.478</td>\n",
              "      <td>177.765</td>\n",
              "      <td>audio_features</td>\n",
              "      <td>2RlgNHKcydI9sayD2Df2xp</td>\n",
              "      <td>spotify:track:2RlgNHKcydI9sayD2Df2xp</td>\n",
              "      <td>https://api.spotify.com/v1/tracks/2RlgNHKcydI9sayD2Df2xp</td>\n",
              "      <td>https://api.spotify.com/v1/audio-analysis/2RlgNHKcydI9sayD2Df2xp</td>\n",
              "      <td>303373</td>\n",
              "      <td>4</td>\n",
              "      <td>happy</td>\n",
              "      <td>Mr. Blue Sky</td>\n",
              "      <td>Electric Light Orchestra</td>\n",
              "      <td>81.0</td>\n",
              "      <td>Out of the Blue</td>\n",
              "      <td>1977</td>\n",
              "    </tr>\n",
              "    <tr>\n",
              "      <th>3</th>\n",
              "      <td>0.547</td>\n",
              "      <td>0.820</td>\n",
              "      <td>8</td>\n",
              "      <td>-6.728</td>\n",
              "      <td>1</td>\n",
              "      <td>0.0805</td>\n",
              "      <td>0.26100</td>\n",
              "      <td>0.000000</td>\n",
              "      <td>0.3000</td>\n",
              "      <td>0.933</td>\n",
              "      <td>118.208</td>\n",
              "      <td>audio_features</td>\n",
              "      <td>2Nz6aF1umHh5Et6I5H581L</td>\n",
              "      <td>spotify:track:2Nz6aF1umHh5Et6I5H581L</td>\n",
              "      <td>https://api.spotify.com/v1/tracks/2Nz6aF1umHh5Et6I5H581L</td>\n",
              "      <td>https://api.spotify.com/v1/audio-analysis/2Nz6aF1umHh5Et6I5H581L</td>\n",
              "      <td>172867</td>\n",
              "      <td>4</td>\n",
              "      <td>happy</td>\n",
              "      <td>Hooked On A Feeling</td>\n",
              "      <td>Blue Swede</td>\n",
              "      <td>66.0</td>\n",
              "      <td>Hooked On A Feeling - 40th Anniversary Collection</td>\n",
              "      <td>2014</td>\n",
              "    </tr>\n",
              "    <tr>\n",
              "      <th>4</th>\n",
              "      <td>0.396</td>\n",
              "      <td>0.473</td>\n",
              "      <td>10</td>\n",
              "      <td>-7.670</td>\n",
              "      <td>0</td>\n",
              "      <td>0.0345</td>\n",
              "      <td>0.32600</td>\n",
              "      <td>0.000124</td>\n",
              "      <td>0.1090</td>\n",
              "      <td>0.385</td>\n",
              "      <td>133.449</td>\n",
              "      <td>audio_features</td>\n",
              "      <td>5t9KYe0Fhd5cW6UYT4qP8f</td>\n",
              "      <td>spotify:track:5t9KYe0Fhd5cW6UYT4qP8f</td>\n",
              "      <td>https://api.spotify.com/v1/tracks/5t9KYe0Fhd5cW6UYT4qP8f</td>\n",
              "      <td>https://api.spotify.com/v1/audio-analysis/5t9KYe0Fhd5cW6UYT4qP8f</td>\n",
              "      <td>219027</td>\n",
              "      <td>4</td>\n",
              "      <td>happy</td>\n",
              "      <td>Good Vibrations - Remastered 2001</td>\n",
              "      <td>The Beach Boys</td>\n",
              "      <td>73.0</td>\n",
              "      <td>Smiley Smile (Remastered)</td>\n",
              "      <td>1967</td>\n",
              "    </tr>\n",
              "    <tr>\n",
              "      <th>...</th>\n",
              "      <td>...</td>\n",
              "      <td>...</td>\n",
              "      <td>...</td>\n",
              "      <td>...</td>\n",
              "      <td>...</td>\n",
              "      <td>...</td>\n",
              "      <td>...</td>\n",
              "      <td>...</td>\n",
              "      <td>...</td>\n",
              "      <td>...</td>\n",
              "      <td>...</td>\n",
              "      <td>...</td>\n",
              "      <td>...</td>\n",
              "      <td>...</td>\n",
              "      <td>...</td>\n",
              "      <td>...</td>\n",
              "      <td>...</td>\n",
              "      <td>...</td>\n",
              "      <td>...</td>\n",
              "      <td>...</td>\n",
              "      <td>...</td>\n",
              "      <td>...</td>\n",
              "      <td>...</td>\n",
              "      <td>...</td>\n",
              "    </tr>\n",
              "    <tr>\n",
              "      <th>2577</th>\n",
              "      <td>0.557</td>\n",
              "      <td>0.533</td>\n",
              "      <td>10</td>\n",
              "      <td>-6.817</td>\n",
              "      <td>0</td>\n",
              "      <td>0.0252</td>\n",
              "      <td>0.04920</td>\n",
              "      <td>0.000000</td>\n",
              "      <td>0.2050</td>\n",
              "      <td>0.233</td>\n",
              "      <td>143.994</td>\n",
              "      <td>audio_features</td>\n",
              "      <td>3NLrRZoMF0Lx6zTlYqeIo4</td>\n",
              "      <td>spotify:track:3NLrRZoMF0Lx6zTlYqeIo4</td>\n",
              "      <td>https://api.spotify.com/v1/tracks/3NLrRZoMF0Lx6zTlYqeIo4</td>\n",
              "      <td>https://api.spotify.com/v1/audio-analysis/3NLrRZoMF0Lx6zTlYqeIo4</td>\n",
              "      <td>238733</td>\n",
              "      <td>4</td>\n",
              "      <td>sad</td>\n",
              "      <td>Here Without You</td>\n",
              "      <td>3 Doors Down</td>\n",
              "      <td>76.0</td>\n",
              "      <td>Away From The Sun</td>\n",
              "      <td>2002</td>\n",
              "    </tr>\n",
              "    <tr>\n",
              "      <th>2578</th>\n",
              "      <td>0.321</td>\n",
              "      <td>0.511</td>\n",
              "      <td>8</td>\n",
              "      <td>-7.770</td>\n",
              "      <td>1</td>\n",
              "      <td>0.0306</td>\n",
              "      <td>0.51300</td>\n",
              "      <td>0.000000</td>\n",
              "      <td>0.1270</td>\n",
              "      <td>0.170</td>\n",
              "      <td>128.980</td>\n",
              "      <td>audio_features</td>\n",
              "      <td>5t2gSYVvBV9kH4t7Czertq</td>\n",
              "      <td>spotify:track:5t2gSYVvBV9kH4t7Czertq</td>\n",
              "      <td>https://api.spotify.com/v1/tracks/5t2gSYVvBV9kH4t7Czertq</td>\n",
              "      <td>https://api.spotify.com/v1/audio-analysis/5t2gSYVvBV9kH4t7Czertq</td>\n",
              "      <td>222120</td>\n",
              "      <td>4</td>\n",
              "      <td>sad</td>\n",
              "      <td>There You'll Be</td>\n",
              "      <td>Faith Hill</td>\n",
              "      <td>62.0</td>\n",
              "      <td>There You'll Be</td>\n",
              "      <td>2001</td>\n",
              "    </tr>\n",
              "    <tr>\n",
              "      <th>2579</th>\n",
              "      <td>0.539</td>\n",
              "      <td>0.683</td>\n",
              "      <td>5</td>\n",
              "      <td>-5.157</td>\n",
              "      <td>0</td>\n",
              "      <td>0.0276</td>\n",
              "      <td>0.00962</td>\n",
              "      <td>0.000000</td>\n",
              "      <td>0.2840</td>\n",
              "      <td>0.331</td>\n",
              "      <td>136.032</td>\n",
              "      <td>audio_features</td>\n",
              "      <td>6Qgva9AMxlkf7MWkLUkdFH</td>\n",
              "      <td>spotify:track:6Qgva9AMxlkf7MWkLUkdFH</td>\n",
              "      <td>https://api.spotify.com/v1/tracks/6Qgva9AMxlkf7MWkLUkdFH</td>\n",
              "      <td>https://api.spotify.com/v1/audio-analysis/6Qgva9AMxlkf7MWkLUkdFH</td>\n",
              "      <td>214107</td>\n",
              "      <td>4</td>\n",
              "      <td>sad</td>\n",
              "      <td>What Hurts The Most</td>\n",
              "      <td>Rascal Flatts</td>\n",
              "      <td>42.0</td>\n",
              "      <td>Me And My Gang</td>\n",
              "      <td>2006</td>\n",
              "    </tr>\n",
              "    <tr>\n",
              "      <th>2580</th>\n",
              "      <td>0.798</td>\n",
              "      <td>0.480</td>\n",
              "      <td>0</td>\n",
              "      <td>-5.564</td>\n",
              "      <td>1</td>\n",
              "      <td>0.0276</td>\n",
              "      <td>0.24700</td>\n",
              "      <td>0.000000</td>\n",
              "      <td>0.2370</td>\n",
              "      <td>0.643</td>\n",
              "      <td>108.241</td>\n",
              "      <td>audio_features</td>\n",
              "      <td>5S0cvScXb33JVpjTiY9Ivi</td>\n",
              "      <td>spotify:track:5S0cvScXb33JVpjTiY9Ivi</td>\n",
              "      <td>https://api.spotify.com/v1/tracks/5S0cvScXb33JVpjTiY9Ivi</td>\n",
              "      <td>https://api.spotify.com/v1/audio-analysis/5S0cvScXb33JVpjTiY9Ivi</td>\n",
              "      <td>255600</td>\n",
              "      <td>4</td>\n",
              "      <td>sad</td>\n",
              "      <td>Separated</td>\n",
              "      <td>Avant</td>\n",
              "      <td>56.0</td>\n",
              "      <td>My Thoughts</td>\n",
              "      <td>2000</td>\n",
              "    </tr>\n",
              "    <tr>\n",
              "      <th>2581</th>\n",
              "      <td>0.739</td>\n",
              "      <td>0.341</td>\n",
              "      <td>10</td>\n",
              "      <td>-9.971</td>\n",
              "      <td>1</td>\n",
              "      <td>0.0378</td>\n",
              "      <td>0.52500</td>\n",
              "      <td>0.000001</td>\n",
              "      <td>0.0720</td>\n",
              "      <td>0.231</td>\n",
              "      <td>80.958</td>\n",
              "      <td>audio_features</td>\n",
              "      <td>7snmvZMLdGGk3l9PcvoYSM</td>\n",
              "      <td>spotify:track:7snmvZMLdGGk3l9PcvoYSM</td>\n",
              "      <td>https://api.spotify.com/v1/tracks/7snmvZMLdGGk3l9PcvoYSM</td>\n",
              "      <td>https://api.spotify.com/v1/audio-analysis/7snmvZMLdGGk3l9PcvoYSM</td>\n",
              "      <td>266000</td>\n",
              "      <td>4</td>\n",
              "      <td>sad</td>\n",
              "      <td>Dance With My Father</td>\n",
              "      <td>Luther Vandross</td>\n",
              "      <td>61.0</td>\n",
              "      <td>Dance With My Father</td>\n",
              "      <td>2003</td>\n",
              "    </tr>\n",
              "  </tbody>\n",
              "</table>\n",
              "<p>2582 rows × 24 columns</p>\n",
              "</div>\n",
              "      <button class=\"colab-df-convert\" onclick=\"convertToInteractive('df-b0ef6696-ffbf-406d-b4b9-125c6a7fd9c8')\"\n",
              "              title=\"Convert this dataframe to an interactive table.\"\n",
              "              style=\"display:none;\">\n",
              "        \n",
              "  <svg xmlns=\"http://www.w3.org/2000/svg\" height=\"24px\"viewBox=\"0 0 24 24\"\n",
              "       width=\"24px\">\n",
              "    <path d=\"M0 0h24v24H0V0z\" fill=\"none\"/>\n",
              "    <path d=\"M18.56 5.44l.94 2.06.94-2.06 2.06-.94-2.06-.94-.94-2.06-.94 2.06-2.06.94zm-11 1L8.5 8.5l.94-2.06 2.06-.94-2.06-.94L8.5 2.5l-.94 2.06-2.06.94zm10 10l.94 2.06.94-2.06 2.06-.94-2.06-.94-.94-2.06-.94 2.06-2.06.94z\"/><path d=\"M17.41 7.96l-1.37-1.37c-.4-.4-.92-.59-1.43-.59-.52 0-1.04.2-1.43.59L10.3 9.45l-7.72 7.72c-.78.78-.78 2.05 0 2.83L4 21.41c.39.39.9.59 1.41.59.51 0 1.02-.2 1.41-.59l7.78-7.78 2.81-2.81c.8-.78.8-2.07 0-2.86zM5.41 20L4 18.59l7.72-7.72 1.47 1.35L5.41 20z\"/>\n",
              "  </svg>\n",
              "      </button>\n",
              "      \n",
              "  <style>\n",
              "    .colab-df-container {\n",
              "      display:flex;\n",
              "      flex-wrap:wrap;\n",
              "      gap: 12px;\n",
              "    }\n",
              "\n",
              "    .colab-df-convert {\n",
              "      background-color: #E8F0FE;\n",
              "      border: none;\n",
              "      border-radius: 50%;\n",
              "      cursor: pointer;\n",
              "      display: none;\n",
              "      fill: #1967D2;\n",
              "      height: 32px;\n",
              "      padding: 0 0 0 0;\n",
              "      width: 32px;\n",
              "    }\n",
              "\n",
              "    .colab-df-convert:hover {\n",
              "      background-color: #E2EBFA;\n",
              "      box-shadow: 0px 1px 2px rgba(60, 64, 67, 0.3), 0px 1px 3px 1px rgba(60, 64, 67, 0.15);\n",
              "      fill: #174EA6;\n",
              "    }\n",
              "\n",
              "    [theme=dark] .colab-df-convert {\n",
              "      background-color: #3B4455;\n",
              "      fill: #D2E3FC;\n",
              "    }\n",
              "\n",
              "    [theme=dark] .colab-df-convert:hover {\n",
              "      background-color: #434B5C;\n",
              "      box-shadow: 0px 1px 3px 1px rgba(0, 0, 0, 0.15);\n",
              "      filter: drop-shadow(0px 1px 2px rgba(0, 0, 0, 0.3));\n",
              "      fill: #FFFFFF;\n",
              "    }\n",
              "  </style>\n",
              "\n",
              "      <script>\n",
              "        const buttonEl =\n",
              "          document.querySelector('#df-b0ef6696-ffbf-406d-b4b9-125c6a7fd9c8 button.colab-df-convert');\n",
              "        buttonEl.style.display =\n",
              "          google.colab.kernel.accessAllowed ? 'block' : 'none';\n",
              "\n",
              "        async function convertToInteractive(key) {\n",
              "          const element = document.querySelector('#df-b0ef6696-ffbf-406d-b4b9-125c6a7fd9c8');\n",
              "          const dataTable =\n",
              "            await google.colab.kernel.invokeFunction('convertToInteractive',\n",
              "                                                     [key], {});\n",
              "          if (!dataTable) return;\n",
              "\n",
              "          const docLinkHtml = 'Like what you see? Visit the ' +\n",
              "            '<a target=\"_blank\" href=https://colab.research.google.com/notebooks/data_table.ipynb>data table notebook</a>'\n",
              "            + ' to learn more about interactive tables.';\n",
              "          element.innerHTML = '';\n",
              "          dataTable['output_type'] = 'display_data';\n",
              "          await google.colab.output.renderOutput(dataTable, element);\n",
              "          const docLink = document.createElement('div');\n",
              "          docLink.innerHTML = docLinkHtml;\n",
              "          element.appendChild(docLink);\n",
              "        }\n",
              "      </script>\n",
              "    </div>\n",
              "  </div>\n",
              "  "
            ]
          },
          "metadata": {},
          "execution_count": 3
        }
      ]
    },
    {
      "cell_type": "code",
      "source": [
        "# Perform feature scaling via standardization (z-score normalization):\n",
        "\n",
        "std_scaler = StandardScaler()\n",
        "data_features_nonscaled = data_full.loc[:,['danceability', 'energy', 'key', 'loudness', 'mode', 'speechiness', 'acousticness', 'instrumentalness', 'liveness', 'valence', 'tempo', 'duration_ms', 'release_year', 'time_signature', 'Popularity']]\n",
        "data_features = std_scaler.fit_transform(data_features_nonscaled)\n",
        "data_full['mood_happy'] = np.where(data_full['Mood']=='happy',1,0)\n",
        "target = data_full['mood_happy']"
      ],
      "metadata": {
        "id": "H_Ckl5U1RrnI"
      },
      "execution_count": 4,
      "outputs": []
    },
    {
      "cell_type": "code",
      "source": [
        "# train and test split\n",
        "\n",
        "X_train, X_test, y_train, y_test = train_test_split(data_features, target, test_size=0.3, random_state=24)"
      ],
      "metadata": {
        "id": "3w81Y8uXSWZk"
      },
      "execution_count": 5,
      "outputs": []
    },
    {
      "cell_type": "markdown",
      "source": [
        "## Gradient Boosting Classifier"
      ],
      "metadata": {
        "id": "I5eSbwxgWfpn"
      }
    },
    {
      "cell_type": "code",
      "source": [
        "# train model (check accuracy)\n",
        "classifier = GradientBoostingClassifier(random_state=24)\n",
        "classifier.fit(X_train, y_train)\n",
        "accuracy = classifier.score(X_test, y_test)\n",
        "print(accuracy)"
      ],
      "metadata": {
        "colab": {
          "base_uri": "https://localhost:8080/"
        },
        "id": "yB_C_8lnVw7V",
        "outputId": "51cf1f5f-e4f6-464c-a42f-ec2440776f94"
      },
      "execution_count": 6,
      "outputs": [
        {
          "output_type": "stream",
          "name": "stdout",
          "text": [
            "0.8709677419354839\n"
          ]
        }
      ]
    },
    {
      "cell_type": "code",
      "source": [
        "# Get the prediction values for the test data and print a confusion matrix\n",
        "y_test_predicted = classifier.predict(X_test)\n",
        "print(confusion_matrix(y_test, y_test_predicted))"
      ],
      "metadata": {
        "colab": {
          "base_uri": "https://localhost:8080/"
        },
        "id": "Rs5dpqTYUZjV",
        "outputId": "42c59097-2fff-4c0d-ef76-06e98bf48b03"
      },
      "execution_count": null,
      "outputs": [
        {
          "output_type": "stream",
          "name": "stdout",
          "text": [
            "[[325  60]\n",
            " [ 40 350]]\n"
          ]
        }
      ]
    },
    {
      "cell_type": "code",
      "source": [
        "import matplotlib.pyplot as plt\n",
        "from sklearn.datasets import make_classification\n",
        "from sklearn.metrics import confusion_matrix, ConfusionMatrixDisplay\n",
        "from sklearn.model_selection import train_test_split\n",
        "from sklearn.svm import SVC\n",
        "\n",
        "predictions = classifier.predict(X_test)\n",
        "cm = confusion_matrix(y_test, predictions, labels=classifier.classes_)\n",
        "disp = ConfusionMatrixDisplay(confusion_matrix=cm, display_labels=classifier.classes_)\n",
        "disp.plot()\n",
        "\n",
        "plt.show()"
      ],
      "metadata": {
        "id": "-M8czlT7qtSN",
        "outputId": "95990cf7-9402-4484-e0ab-e626a283a4c6",
        "colab": {
          "base_uri": "https://localhost:8080/",
          "height": 283
        }
      },
      "execution_count": null,
      "outputs": [
        {
          "output_type": "display_data",
          "data": {
            "text/plain": [
              "<Figure size 432x288 with 2 Axes>"
            ],
            "image/png": "[encoded data removed]"
          },
          "metadata": {
            "needs_background": "light"
          }
        }
      ]
    },
    {
      "cell_type": "code",
      "source": [
        "from sklearn.ensemble import GradientBoostingClassifier\n",
        "from sklearn.metrics import classification_report\n",
        "import matplotlib.pyplot as plt"
      ],
      "metadata": {
        "id": "vt232OJYKbcg"
      },
      "execution_count": 13,
      "outputs": []
    },
    {
      "cell_type": "code",
      "source": [
        "pred=classifier.predict(X_test)\n",
        "print(classification_report(y_test, pred))"
      ],
      "metadata": {
        "id": "21oQp2cHKfFJ",
        "outputId": "2a3821f2-9b37-47b7-fb31-5aec764631d8",
        "colab": {
          "base_uri": "https://localhost:8080/"
        }
      },
      "execution_count": 11,
      "outputs": [
        {
          "output_type": "stream",
          "name": "stdout",
          "text": [
            "              precision    recall  f1-score   support\n",
            "\n",
            "           0       0.89      0.84      0.87       385\n",
            "           1       0.85      0.90      0.88       390\n",
            "\n",
            "    accuracy                           0.87       775\n",
            "   macro avg       0.87      0.87      0.87       775\n",
            "weighted avg       0.87      0.87      0.87       775\n",
            "\n"
          ]
        }
      ]
    },
    {
      "cell_type": "code",
      "source": [
        "predictors"
      ],
      "metadata": {
        "id": "9cJIZAnuLvoF"
      },
      "execution_count": null,
      "outputs": []
    },
    {
      "cell_type": "code",
      "source": [
        "baseline = GradientBoostingClassifier(learning_rate=0.1, n_estimators=100,max_depth=3, min_samples_split=2, min_samples_leaf=1, subsample=1,max_features='sqrt', random_state=10)\n",
        "baseline.fit(X_train,y_train)\n",
        "predictors=list(X_train)\n",
        "feat_imp = pd.Series(baseline.feature_importances_, predictors).sort_values(ascending=False)\n",
        "feat_imp.plot(kind='bar', title='Importance of Features')\n",
        "plt.ylabel('Feature Importance Score')\n",
        "print('Accuracy of the GBM on test set: {:.3f}'.format(baseline.score(X_test, y_test)))\n",
        "pred=baseline.predict(X_test)\n",
        "print(classification_report(y_test, pred))"
      ],
      "metadata": {
        "id": "k2vGtGbZK8XY"
      },
      "execution_count": null,
      "outputs": []
    },
    {
      "cell_type": "markdown",
      "source": [
        "## Hyperparametertuning - GBC"
      ],
      "metadata": {
        "id": "0XQ9veU5eM9z"
      }
    },
    {
      "cell_type": "markdown",
      "source": [
        "We will optimize the following Parametes as mentioned in https://medium.com/all-things-ai/in-depth-parameter-tuning-for-gradient-boosting-3363992e9bae:\n",
        "\n",
        "\n",
        "*   learning_rate\n",
        "*   n_estimators\n",
        "*   max_depth\n",
        "*   min_samples_split\n",
        "*   min_samples_leaf\n",
        "*   max_features\n",
        "\n"
      ],
      "metadata": {
        "id": "1QQtMvvjeX12"
      }
    },
    {
      "cell_type": "code",
      "source": [
        "classifier = GradientBoostingClassifier(random_state=24, learning_rate=1)\n",
        "classifier.fit(X_train, y_train)\n",
        "accuracy = classifier.score(X_test, y_test)\n",
        "print(accuracy)"
      ],
      "metadata": {
        "id": "BxDcoF1deSMJ",
        "outputId": "de94be0f-cdd2-4ec5-fadf-046e64558503",
        "colab": {
          "base_uri": "https://localhost:8080/"
        }
      },
      "execution_count": 8,
      "outputs": [
        {
          "output_type": "stream",
          "name": "stdout",
          "text": [
            "0.8593548387096774\n"
          ]
        }
      ]
    },
    {
      "cell_type": "code",
      "source": [
        "# Creating several lists with values for the parameters\n",
        "learning_rates = [1, 0.5, 0.25, 0.1, 0.05, 0.01]\n",
        "n_estimators = [1, 2, 4, 8, 16, 32, 64, 100, 200]\n",
        "max_depth = np.linspace(1, 32, 32, endpoint=True)\n",
        "min_samples_splits = np.linspace(0.1, 1.0, 10, endpoint=True)\n",
        "min_samples_leafs = np.linspace(0.1, 0.5, 5, endpoint=True)\n",
        "max_features = list(range(1,X_train.shape[1]))"
      ],
      "metadata": {
        "id": "h_uGSmDNgHzO"
      },
      "execution_count": 20,
      "outputs": []
    },
    {
      "cell_type": "code",
      "source": [
        "train_test = []\n",
        "learning_rates_x = []\n",
        "n_estimators_x = []\n",
        "max_depth_x = []\n",
        "min_samples_splits_x = []\n",
        "min_samples_leafs_x = []\n",
        "max_features_x = []\n",
        "score = []\n",
        "\n",
        "\n",
        "\n",
        "for l in learning_rates:\n",
        "  for n in n_estimators:\n",
        "    for md in max_depth:\n",
        "      for ms in min_samples_splits:\n",
        "        for ml in min_samples_leafs:\n",
        "          for mf in max_features:\n",
        "            gbc_classifier = GradientBoostingClassifier(random_state=24, learning_rate=l, n_estimators=n, max_depth=md, min_samples_split=ms, min_samples_leaf=ml,max_features=mf)\n",
        "            gbc_classifier.fit(X_train, y_train)\n",
        "\n",
        "            train = gbc_classifier.score(X_train, y_train)\n",
        "            train_test.append('train')\n",
        "            learning_rates_x.append(l)\n",
        "            n_estimators_x.append(n)\n",
        "            max_depth_x.append(md)\n",
        "            min_samples_splits_x.append(ms)\n",
        "            min_samples_leafs_x.append(ml)\n",
        "            max_features_x.append(mf)\n",
        "            score.append(train)\n",
        "\n",
        "            test = gbc_classifier.score(X_test, y_test)\n",
        "            train_test.append('test')\n",
        "            learning_rates_x.append(l)\n",
        "            n_estimators_x.append(n)\n",
        "            max_depth_x.append(md)\n",
        "            min_samples_splits_x.append(ms)\n",
        "            min_samples_leafs_x.append(ml)\n",
        "            max_features_x.append(mf)\n",
        "            score.append(test)\n",
        "\n",
        "result_df = pd.DataFrame()\n",
        "result_df['train_test'] = train_test\n",
        "result_df['learning_rates'] = learning_rates_x\n",
        "result_df['n_estimators'] = n_estimators_x\n",
        "result_df['max_depth'] = max_depth_x\n",
        "result_df['min_samples_splits'] = min_samples_splits_x\n",
        "result_df['min_samples_leafs'] = min_samples_leafs_x\n",
        "result_df['max_features'] = max_features_x\n",
        "result_df['score'] = score\n",
        "\n",
        "print(result_df)"
      ],
      "metadata": {
        "id": "hQE00CvhfxVP"
      },
      "execution_count": null,
      "outputs": []
    },
    {
      "cell_type": "markdown",
      "source": [
        "## Supporting Vector Classification (SVC)"
      ],
      "metadata": {
        "id": "hasLzYmbWm8Z"
      }
    },
    {
      "cell_type": "code",
      "source": [
        "from sklearn.svm import SVC"
      ],
      "metadata": {
        "id": "u0dH1QFdXASg"
      },
      "execution_count": null,
      "outputs": []
    },
    {
      "cell_type": "code",
      "source": [
        "# SVM: train model (check accuracy)\n",
        "svc_classifier = SVC(gamma = 2, C = 1)\n",
        "svc_classifier.fit(X_train, y_train)\n",
        "svc_accuracy = svc_classifier.score(X_test, y_test)\n",
        "print(svc_accuracy)"
      ],
      "metadata": {
        "colab": {
          "base_uri": "https://localhost:8080/"
        },
        "id": "ehNp9YllWubZ",
        "outputId": "e4b51c30-ffd7-4259-98b8-fdcd7439213e"
      },
      "execution_count": null,
      "outputs": [
        {
          "output_type": "stream",
          "name": "stdout",
          "text": [
            "0.6735483870967742\n"
          ]
        }
      ]
    },
    {
      "cell_type": "code",
      "source": [
        "y_test_predicted = svc_classifier.predict(X_test)\n",
        "print(confusion_matrix(y_test, y_test_predicted))"
      ],
      "metadata": {
        "colab": {
          "base_uri": "https://localhost:8080/"
        },
        "id": "NSEWyE2xYue2",
        "outputId": "42d7e073-7778-447a-f805-c46cc50bc24d"
      },
      "execution_count": null,
      "outputs": [
        {
          "output_type": "stream",
          "name": "stdout",
          "text": [
            "[[362  23]\n",
            " [230 160]]\n"
          ]
        }
      ]
    },
    {
      "cell_type": "code",
      "source": [
        "import matplotlib.pyplot as plt\n",
        "from sklearn.datasets import make_classification\n",
        "from sklearn.metrics import confusion_matrix, ConfusionMatrixDisplay\n",
        "from sklearn.model_selection import train_test_split\n",
        "from sklearn.svm import SVC\n",
        "\n",
        "predictions = svc_classifier.predict(X_test)\n",
        "cm = confusion_matrix(y_test, predictions, labels=svc_classifier.classes_)\n",
        "disp = ConfusionMatrixDisplay(confusion_matrix=cm, display_labels=svc_classifier.classes_)\n",
        "disp.plot()\n",
        "\n",
        "plt.show()"
      ],
      "metadata": {
        "id": "RYhtbex1piv-"
      },
      "execution_count": null,
      "outputs": []
    },
    {
      "cell_type": "markdown",
      "source": [
        "Parameters:\n",
        "* Kernels\n",
        "* C (penalty parameter)\n",
        "* Gamma\n",
        "\n",
        "https://www.vebuso.com/2020/03/svm-hyperparameter-tuning-using-gridsearchcv/"
      ],
      "metadata": {
        "id": "RBuA8H2yFbJj"
      }
    },
    {
      "cell_type": "markdown",
      "source": [
        "### Hyper Hyper Parameter Tuning - Manually"
      ],
      "metadata": {
        "id": "bTZ_PP6RPbIP"
      }
    },
    {
      "cell_type": "code",
      "source": [
        "p_gamma = [1, 0.1, 0.01, 0.001]\n",
        "p_c = [0.1, 1, 10, 100]\n",
        "p_kernel = ['rbf', 'linear', 'poly', 'sigmoid']\n",
        "\n",
        "train_test = []\n",
        "gamma = []\n",
        "c = []\n",
        "kernel = []\n",
        "score = []\n",
        "\n",
        "for g_value in p_gamma:\n",
        "  for c_value in p_c:\n",
        "    for k_value in p_kernel:\n",
        "      svc_classifier = SVC(gamma = g_value, C = c_value, kernel=k_value)\n",
        "      svc_classifier.fit(X_train, y_train)\n",
        "\n",
        "      train = svc_classifier.score(X_train, y_train)\n",
        "      train_test.append('train')\n",
        "      gamma.append(g_value)\n",
        "      c.append(c_value)\n",
        "      kernel.append(k_value)\n",
        "      score.append(train)\n",
        "\n",
        "      test = svc_classifier.score(X_test, y_test)\n",
        "      train_test.append('test')\n",
        "      gamma.append(g_value)\n",
        "      c.append(c_value)\n",
        "      kernel.append(k_value)\n",
        "      score.append(test)\n",
        "\n",
        "result_df = pd.DataFrame()\n",
        "result_df['train_test'] = train_test\n",
        "result_df['gamma'] = gamma\n",
        "result_df['C'] = c\n",
        "result_df['kernel'] = kernel\n",
        "result_df['score'] = score\n",
        "\n",
        "print(result_df)"
      ],
      "metadata": {
        "id": "5O4CjHtEEwNr",
        "outputId": "e0a435f1-46e1-4534-89f3-d86e1b298fc1",
        "colab": {
          "base_uri": "https://localhost:8080/"
        }
      },
      "execution_count": null,
      "outputs": [
        {
          "output_type": "stream",
          "name": "stdout",
          "text": [
            "    train_test  gamma      C   kernel     score\n",
            "0        train  1.000    0.1      rbf  0.501937\n",
            "1         test  1.000    0.1      rbf  0.495484\n",
            "2        train  1.000    0.1   linear  0.872717\n",
            "3         test  1.000    0.1   linear  0.861935\n",
            "4        train  1.000    0.1     poly  0.985058\n",
            "..         ...    ...    ...      ...       ...\n",
            "123       test  0.001  100.0   linear  0.861935\n",
            "124      train  0.001  100.0     poly  0.501384\n",
            "125       test  0.001  100.0     poly  0.496774\n",
            "126      train  0.001  100.0  sigmoid  0.872717\n",
            "127       test  0.001  100.0  sigmoid  0.861935\n",
            "\n",
            "[128 rows x 5 columns]\n"
          ]
        }
      ]
    },
    {
      "cell_type": "code",
      "source": [
        "# best combination for train\n",
        "print(result_df.sort_values(by=['score'], ascending=False))"
      ],
      "metadata": {
        "id": "oiRy9OTnN2bw",
        "outputId": "1fd5d503-0cb5-4b8f-d471-f249d5520fec",
        "colab": {
          "base_uri": "https://localhost:8080/"
        }
      },
      "execution_count": null,
      "outputs": [
        {
          "output_type": "stream",
          "name": "stdout",
          "text": [
            "    train_test  gamma      C kernel     score\n",
            "28       train  1.000  100.0   poly  1.000000\n",
            "24       train  1.000  100.0    rbf  1.000000\n",
            "20       train  1.000   10.0   poly  0.999447\n",
            "16       train  1.000   10.0    rbf  0.999447\n",
            "12       train  1.000    1.0   poly  0.998340\n",
            "..         ...    ...    ...    ...       ...\n",
            "109       test  0.001    1.0   poly  0.496774\n",
            "69        test  0.010    0.1   poly  0.496774\n",
            "101       test  0.001    0.1   poly  0.496774\n",
            "125       test  0.001  100.0   poly  0.496774\n",
            "1         test  1.000    0.1    rbf  0.495484\n",
            "\n",
            "[128 rows x 5 columns]\n"
          ]
        }
      ]
    },
    {
      "cell_type": "code",
      "source": [
        "# best combination for train\n",
        "result_df_test = result_df.loc[result_df['train_test'] == 'train']\n",
        "print(result_df_test.sort_values(by=['score'], ascending=False))"
      ],
      "metadata": {
        "id": "btssXJVSPOJi"
      },
      "execution_count": null,
      "outputs": []
    },
    {
      "cell_type": "code",
      "source": [
        "# best combination for test\n",
        "result_df_test = result_df.loc[result_df['train_test'] == 'test']\n",
        "print(result_df_test.sort_values(by=['score'], ascending=False))"
      ],
      "metadata": {
        "id": "Dw5TleQSOLz5"
      },
      "execution_count": null,
      "outputs": []
    },
    {
      "cell_type": "markdown",
      "source": [
        "### Hyper Hyper Parameter Tuning - with Library"
      ],
      "metadata": {
        "id": "QFPhAUoXPYAU"
      }
    },
    {
      "cell_type": "code",
      "source": [
        "from sklearn.model_selection import GridSearchCV\n",
        "from sklearn.metrics import classification_report, confusion_matrix  "
      ],
      "metadata": {
        "id": "MP8vFpRuIOcZ"
      },
      "execution_count": null,
      "outputs": []
    },
    {
      "cell_type": "code",
      "source": [
        "param_grid = {'C': [0.1,1, 10, 100], 'gamma': [1,0.1,0.01,0.001],'kernel': ['rbf', 'poly', 'sigmoid']}"
      ],
      "metadata": {
        "id": "mLWnHaRxIQb3"
      },
      "execution_count": null,
      "outputs": []
    },
    {
      "cell_type": "code",
      "source": [
        "grid = GridSearchCV(SVC(),param_grid,refit=True,verbose=2)\n",
        "grid.fit(X_train,y_train)"
      ],
      "metadata": {
        "id": "r3L-HZQ0IS3_"
      },
      "execution_count": null,
      "outputs": []
    },
    {
      "cell_type": "code",
      "source": [
        "print(grid.best_estimator_)"
      ],
      "metadata": {
        "id": "52pbIW02IZ30",
        "outputId": "dafe9610-41c5-4838-d010-f5d9ad67b29b",
        "colab": {
          "base_uri": "https://localhost:8080/"
        }
      },
      "execution_count": null,
      "outputs": [
        {
          "output_type": "stream",
          "name": "stdout",
          "text": [
            "SVC(C=10, gamma=0.01)\n"
          ]
        }
      ]
    },
    {
      "cell_type": "code",
      "source": [
        "grid_predictions = grid.predict(X_test)\n",
        "print(confusion_matrix(y_test,grid_predictions))\n",
        "print(classification_report(y_test,grid_predictions))"
      ],
      "metadata": {
        "id": "FPUj1tWrIcQJ",
        "outputId": "32ce4a41-9c3e-49e4-c3fc-27fe031e66c7",
        "colab": {
          "base_uri": "https://localhost:8080/"
        }
      },
      "execution_count": null,
      "outputs": [
        {
          "output_type": "stream",
          "name": "stdout",
          "text": [
            "[[324  61]\n",
            " [ 43 347]]\n",
            "              precision    recall  f1-score   support\n",
            "\n",
            "           0       0.88      0.84      0.86       385\n",
            "           1       0.85      0.89      0.87       390\n",
            "\n",
            "    accuracy                           0.87       775\n",
            "   macro avg       0.87      0.87      0.87       775\n",
            "weighted avg       0.87      0.87      0.87       775\n",
            "\n"
          ]
        }
      ]
    },
    {
      "cell_type": "markdown",
      "source": [
        "# **Image Models**"
      ],
      "metadata": {
        "id": "S1IjkRcW9G60"
      }
    },
    {
      "cell_type": "markdown",
      "source": [
        "## **CNN Images** (not relevant?)"
      ],
      "metadata": {
        "id": "644VuTZ_wemn"
      }
    },
    {
      "cell_type": "code",
      "source": [
        "import os\n",
        "import pandas as pd"
      ],
      "metadata": {
        "id": "nUqUUQocwlOc"
      },
      "execution_count": null,
      "outputs": []
    },
    {
      "cell_type": "code",
      "source": [
        "# folder name of train set\n",
        "train_happy = os.listdir('/content/happy_spec')\n",
        "\n",
        "train_happy"
      ],
      "metadata": {
        "id": "fEkXJswZ0DKw"
      },
      "execution_count": null,
      "outputs": []
    },
    {
      "cell_type": "code",
      "source": [
        "# folder name of train set\n",
        "train_sad = os.listdir('/content/sad_spec')\n",
        "\n",
        "train_sad"
      ],
      "metadata": {
        "id": "7_ivDNws0Dpv"
      },
      "execution_count": null,
      "outputs": []
    },
    {
      "cell_type": "code",
      "source": [
        "train_full = train_happy+train_sad\n",
        "train_full"
      ],
      "metadata": {
        "id": "bcfacV9zx3ks"
      },
      "execution_count": null,
      "outputs": []
    },
    {
      "cell_type": "code",
      "source": [
        "train_happy_label = []\n",
        "\n",
        "for spec in train_happy:\n",
        "  train_happy_label.append(1)"
      ],
      "metadata": {
        "id": "V0GkhRvX0s1-"
      },
      "execution_count": null,
      "outputs": []
    },
    {
      "cell_type": "code",
      "source": [
        "train_sad_label = []\n",
        "\n",
        "for spec in train_sad:\n",
        "  train_sad_label.append(0)"
      ],
      "metadata": {
        "id": "SzknOyir05rC"
      },
      "execution_count": null,
      "outputs": []
    },
    {
      "cell_type": "code",
      "source": [
        "train_label_full = train_happy_label+train_sad_label"
      ],
      "metadata": {
        "id": "zlEwcvQ00_XX"
      },
      "execution_count": null,
      "outputs": []
    },
    {
      "cell_type": "code",
      "source": [
        "df_train = pd.DataFrame()"
      ],
      "metadata": {
        "id": "rvhqmUhb1Dup"
      },
      "execution_count": null,
      "outputs": []
    },
    {
      "cell_type": "code",
      "source": [
        "df_train['spec'] = train_full\n",
        "df_train['label'] = train_label_full"
      ],
      "metadata": {
        "id": "a8qPmmLE1HZJ"
      },
      "execution_count": null,
      "outputs": []
    },
    {
      "cell_type": "code",
      "source": [
        "df_train"
      ],
      "metadata": {
        "id": "o6b4ooN41QXq",
        "outputId": "9d953487-1e16-49d7-985d-1e14160074f3",
        "colab": {
          "base_uri": "https://localhost:8080/",
          "height": 424
        }
      },
      "execution_count": null,
      "outputs": [
        {
          "output_type": "execute_result",
          "data": {
            "text/plain": [
              "                           spec  label class_description\n",
              "0    0CKxrnF9KplS21LTjkkqsW.png      1             happy\n",
              "1    0JgrkVehf9xqNlPdQK9FVI.png      1             happy\n",
              "2    0eM4CcU3AaE7m4FGH8vgql.png      1             happy\n",
              "3    0RacUz49IeiaBOmcBYw3Ut.png      1             happy\n",
              "4    0FDzzruyVECATHXKHFs9eJ.png      1             happy\n",
              "..                          ...    ...               ...\n",
              "198  0VoT3xtw4A7D9l6Ir0sjuK.png      0               sad\n",
              "199  0KdLJss91oyCbKSkDxtZaZ.png      0               sad\n",
              "200  0vg4WnUWvze6pBOJDTq99k.png      0               sad\n",
              "201  0rKtyWc8bvkriBthvHKY8d.png      0               sad\n",
              "202  0AQqrtK1pULuwZUXhwaaDz.png      0               sad\n",
              "\n",
              "[203 rows x 3 columns]"
            ],
            "text/html": [
              "\n",
              "  <div id=\"df-2be58f92-694a-4d12-a205-8f03ce2b4285\">\n",
              "    <div class=\"colab-df-container\">\n",
              "      <div>\n",
              "<style scoped>\n",
              "    .dataframe tbody tr th:only-of-type {\n",
              "        vertical-align: middle;\n",
              "    }\n",
              "\n",
              "    .dataframe tbody tr th {\n",
              "        vertical-align: top;\n",
              "    }\n",
              "\n",
              "    .dataframe thead th {\n",
              "        text-align: right;\n",
              "    }\n",
              "</style>\n",
              "<table border=\"1\" class=\"dataframe\">\n",
              "  <thead>\n",
              "    <tr style=\"text-align: right;\">\n",
              "      <th></th>\n",
              "      <th>spec</th>\n",
              "      <th>label</th>\n",
              "      <th>class_description</th>\n",
              "    </tr>\n",
              "  </thead>\n",
              "  <tbody>\n",
              "    <tr>\n",
              "      <th>0</th>\n",
              "      <td>0CKxrnF9KplS21LTjkkqsW.png</td>\n",
              "      <td>1</td>\n",
              "      <td>happy</td>\n",
              "    </tr>\n",
              "    <tr>\n",
              "      <th>1</th>\n",
              "      <td>0JgrkVehf9xqNlPdQK9FVI.png</td>\n",
              "      <td>1</td>\n",
              "      <td>happy</td>\n",
              "    </tr>\n",
              "    <tr>\n",
              "      <th>2</th>\n",
              "      <td>0eM4CcU3AaE7m4FGH8vgql.png</td>\n",
              "      <td>1</td>\n",
              "      <td>happy</td>\n",
              "    </tr>\n",
              "    <tr>\n",
              "      <th>3</th>\n",
              "      <td>0RacUz49IeiaBOmcBYw3Ut.png</td>\n",
              "      <td>1</td>\n",
              "      <td>happy</td>\n",
              "    </tr>\n",
              "    <tr>\n",
              "      <th>4</th>\n",
              "      <td>0FDzzruyVECATHXKHFs9eJ.png</td>\n",
              "      <td>1</td>\n",
              "      <td>happy</td>\n",
              "    </tr>\n",
              "    <tr>\n",
              "      <th>...</th>\n",
              "      <td>...</td>\n",
              "      <td>...</td>\n",
              "      <td>...</td>\n",
              "    </tr>\n",
              "    <tr>\n",
              "      <th>198</th>\n",
              "      <td>0VoT3xtw4A7D9l6Ir0sjuK.png</td>\n",
              "      <td>0</td>\n",
              "      <td>sad</td>\n",
              "    </tr>\n",
              "    <tr>\n",
              "      <th>199</th>\n",
              "      <td>0KdLJss91oyCbKSkDxtZaZ.png</td>\n",
              "      <td>0</td>\n",
              "      <td>sad</td>\n",
              "    </tr>\n",
              "    <tr>\n",
              "      <th>200</th>\n",
              "      <td>0vg4WnUWvze6pBOJDTq99k.png</td>\n",
              "      <td>0</td>\n",
              "      <td>sad</td>\n",
              "    </tr>\n",
              "    <tr>\n",
              "      <th>201</th>\n",
              "      <td>0rKtyWc8bvkriBthvHKY8d.png</td>\n",
              "      <td>0</td>\n",
              "      <td>sad</td>\n",
              "    </tr>\n",
              "    <tr>\n",
              "      <th>202</th>\n",
              "      <td>0AQqrtK1pULuwZUXhwaaDz.png</td>\n",
              "      <td>0</td>\n",
              "      <td>sad</td>\n",
              "    </tr>\n",
              "  </tbody>\n",
              "</table>\n",
              "<p>203 rows × 3 columns</p>\n",
              "</div>\n",
              "      <button class=\"colab-df-convert\" onclick=\"convertToInteractive('df-2be58f92-694a-4d12-a205-8f03ce2b4285')\"\n",
              "              title=\"Convert this dataframe to an interactive table.\"\n",
              "              style=\"display:none;\">\n",
              "        \n",
              "  <svg xmlns=\"http://www.w3.org/2000/svg\" height=\"24px\"viewBox=\"0 0 24 24\"\n",
              "       width=\"24px\">\n",
              "    <path d=\"M0 0h24v24H0V0z\" fill=\"none\"/>\n",
              "    <path d=\"M18.56 5.44l.94 2.06.94-2.06 2.06-.94-2.06-.94-.94-2.06-.94 2.06-2.06.94zm-11 1L8.5 8.5l.94-2.06 2.06-.94-2.06-.94L8.5 2.5l-.94 2.06-2.06.94zm10 10l.94 2.06.94-2.06 2.06-.94-2.06-.94-.94-2.06-.94 2.06-2.06.94z\"/><path d=\"M17.41 7.96l-1.37-1.37c-.4-.4-.92-.59-1.43-.59-.52 0-1.04.2-1.43.59L10.3 9.45l-7.72 7.72c-.78.78-.78 2.05 0 2.83L4 21.41c.39.39.9.59 1.41.59.51 0 1.02-.2 1.41-.59l7.78-7.78 2.81-2.81c.8-.78.8-2.07 0-2.86zM5.41 20L4 18.59l7.72-7.72 1.47 1.35L5.41 20z\"/>\n",
              "  </svg>\n",
              "      </button>\n",
              "      \n",
              "  <style>\n",
              "    .colab-df-container {\n",
              "      display:flex;\n",
              "      flex-wrap:wrap;\n",
              "      gap: 12px;\n",
              "    }\n",
              "\n",
              "    .colab-df-convert {\n",
              "      background-color: #E8F0FE;\n",
              "      border: none;\n",
              "      border-radius: 50%;\n",
              "      cursor: pointer;\n",
              "      display: none;\n",
              "      fill: #1967D2;\n",
              "      height: 32px;\n",
              "      padding: 0 0 0 0;\n",
              "      width: 32px;\n",
              "    }\n",
              "\n",
              "    .colab-df-convert:hover {\n",
              "      background-color: #E2EBFA;\n",
              "      box-shadow: 0px 1px 2px rgba(60, 64, 67, 0.3), 0px 1px 3px 1px rgba(60, 64, 67, 0.15);\n",
              "      fill: #174EA6;\n",
              "    }\n",
              "\n",
              "    [theme=dark] .colab-df-convert {\n",
              "      background-color: #3B4455;\n",
              "      fill: #D2E3FC;\n",
              "    }\n",
              "\n",
              "    [theme=dark] .colab-df-convert:hover {\n",
              "      background-color: #434B5C;\n",
              "      box-shadow: 0px 1px 3px 1px rgba(0, 0, 0, 0.15);\n",
              "      filter: drop-shadow(0px 1px 2px rgba(0, 0, 0, 0.3));\n",
              "      fill: #FFFFFF;\n",
              "    }\n",
              "  </style>\n",
              "\n",
              "      <script>\n",
              "        const buttonEl =\n",
              "          document.querySelector('#df-2be58f92-694a-4d12-a205-8f03ce2b4285 button.colab-df-convert');\n",
              "        buttonEl.style.display =\n",
              "          google.colab.kernel.accessAllowed ? 'block' : 'none';\n",
              "\n",
              "        async function convertToInteractive(key) {\n",
              "          const element = document.querySelector('#df-2be58f92-694a-4d12-a205-8f03ce2b4285');\n",
              "          const dataTable =\n",
              "            await google.colab.kernel.invokeFunction('convertToInteractive',\n",
              "                                                     [key], {});\n",
              "          if (!dataTable) return;\n",
              "\n",
              "          const docLinkHtml = 'Like what you see? Visit the ' +\n",
              "            '<a target=\"_blank\" href=https://colab.research.google.com/notebooks/data_table.ipynb>data table notebook</a>'\n",
              "            + ' to learn more about interactive tables.';\n",
              "          element.innerHTML = '';\n",
              "          dataTable['output_type'] = 'display_data';\n",
              "          await google.colab.output.renderOutput(dataTable, element);\n",
              "          const docLink = document.createElement('div');\n",
              "          docLink.innerHTML = docLinkHtml;\n",
              "          element.appendChild(docLink);\n",
              "        }\n",
              "      </script>\n",
              "    </div>\n",
              "  </div>\n",
              "  "
            ]
          },
          "metadata": {},
          "execution_count": 33
        }
      ]
    },
    {
      "cell_type": "code",
      "source": [
        "class_mapping = {\n",
        "    0: 'sad',\n",
        "    1: 'happy'\n",
        "}\n",
        "\n",
        "df_train['class_description'] = df_train.label.apply(lambda x: class_mapping[x])"
      ],
      "metadata": {
        "id": "Gimi3tqq2HmC"
      },
      "execution_count": null,
      "outputs": []
    },
    {
      "cell_type": "markdown",
      "source": [
        "## **CNN** (complex Code Marian)\n",
        "\n"
      ],
      "metadata": {
        "id": "3MgbX_sIDDA5"
      }
    },
    {
      "cell_type": "code",
      "source": [
        "# connect Google drive to colab\n",
        "\n",
        "# from google.colab import drive\n",
        "# drive.mount('/content/drive')"
      ],
      "metadata": {
        "colab": {
          "base_uri": "https://localhost:8080/"
        },
        "id": "Hz5Q6B5gMUfY",
        "outputId": "79dd27b8-028b-41b0-8bd6-e0774082dc9b"
      },
      "execution_count": null,
      "outputs": [
        {
          "output_type": "stream",
          "name": "stdout",
          "text": [
            "Mounted at /content/drive\n"
          ]
        }
      ]
    },
    {
      "cell_type": "code",
      "source": [
        "# get images from drive folder and split into train and test\n",
        "\n",
        "import tensorflow as tf\n",
        "from tensorflow.keras.preprocessing import image_dataset_from_directory\n",
        "\n",
        "train_dataset = image_dataset_from_directory('/content/colab_files/spectograms', labels='inferred', validation_split=0.2, subset='training', label_mode='categorical', seed=42)\n",
        "val_dataset = image_dataset_from_directory('/content/colab_files/spectograms', labels='inferred', validation_split=0.2, subset='validation', label_mode='categorical', seed=42)"
      ],
      "metadata": {
        "id": "27HADilYDRvS",
        "colab": {
          "base_uri": "https://localhost:8080/"
        },
        "outputId": "9c7a67b3-f10f-496d-a12e-82d5bcdd36fa"
      },
      "execution_count": null,
      "outputs": [
        {
          "output_type": "stream",
          "name": "stdout",
          "text": [
            "Found 200 files belonging to 2 classes.\n",
            "Using 160 files for training.\n",
            "Found 200 files belonging to 2 classes.\n",
            "Using 40 files for validation.\n"
          ]
        }
      ]
    },
    {
      "cell_type": "markdown",
      "source": [
        "There's a lot to unpack here, so let's start:\n",
        "\n",
        "\n",
        "*   `train` describes the folder from which keras should load images\n",
        "*   `labels='inferred'` means that keras will take the target label for each image from the folder structure\n",
        "*   `validation_split=0.2` means that keras will retain 20% for validation\n",
        "*   `subset` determines whether keras returns the training or validation dataset\n",
        "*   `label_mode='categorical'` means that the labels are encoded as categorical vectors\n",
        "*   `seed` describes the random seed to be used, this has to be the same to ensure that each image is used only once in the training and test set\n",
        "\n"
      ],
      "metadata": {
        "id": "DOOlDsrmDZmF"
      }
    },
    {
      "cell_type": "markdown",
      "source": [
        "We can now start defining our model. As previously mentioned, we'll be using a CNN architecture. The architecture was taken from [this kaggle post](https://www.kaggle.com/abhinavkrjha/using-cnn-architecture-99-631-accuracy)."
      ],
      "metadata": {
        "id": "HLkuizLPDdke"
      }
    },
    {
      "cell_type": "code",
      "source": [
        "from tensorflow.keras.layers import Conv2D, MaxPooling2D, GlobalAveragePooling2D\n",
        "from tensorflow.keras.layers import Dropout, Flatten, Dense\n",
        "from tensorflow.keras.models import Sequential\n",
        "\n",
        "# again, we start with the Sequential() call\n",
        "cnn = Sequential()\n",
        "\n",
        "# add 4 layer pairs consisting of a convolution and max pooling layer\n",
        "# the number of filters doubles with each layer to deal with the rising complexity of features\n",
        "# the input shape in this case consists of our images size (256x256) with the color information (RGB = 3)\n",
        "cnn.add(Conv2D(filters=64, kernel_size=2, padding='same', activation='relu', input_shape=(256,256,3), kernel_initializer='glorot_normal'))\n",
        "cnn.add(MaxPooling2D(pool_size=2))\n",
        "cnn.add(Conv2D(filters=128, kernel_size=2, padding='same', activation='relu', kernel_initializer='glorot_normal'))\n",
        "cnn.add(MaxPooling2D(pool_size=2))\n",
        "cnn.add(Conv2D(filters=256, kernel_size=2, padding='same', activation='relu', kernel_initializer='glorot_normal'))\n",
        "cnn.add(MaxPooling2D(pool_size=2))\n",
        "cnn.add(Conv2D(filters=512, kernel_size=2, padding='same', activation='relu', kernel_initializer='glorot_normal'))\n",
        "cnn.add(MaxPooling2D(pool_size=2))\n",
        "\n",
        "# add dropout for regularization\n",
        "cnn.add(Dropout(0.5))\n",
        "# flatten all activations into one vector\n",
        "cnn.add(Flatten())\n",
        "# final fully-connected hidden layer\n",
        "cnn.add(Dense(500, activation='relu', kernel_initializer='glorot_normal'))\n",
        "cnn.add(Dropout(0.5))\n",
        "# output layer with 2 neurons (2 classes)\n",
        "cnn.add(Dense(2, activation='softmax', kernel_initializer='glorot_normal'))"
      ],
      "metadata": {
        "id": "_7jY2S3tDgbw"
      },
      "execution_count": null,
      "outputs": []
    },
    {
      "cell_type": "markdown",
      "source": [
        "This architecture looks quite complex and it actually is (nothing compared to the size of architectures reaching state-of-the-art results, but still), but you can find many CNN architectures which will perform quite well on a range of different tasks. Often times, architectures that work very well for specific tasks (like this one) are created using a trial-and-error approach and hyperparameter optimization."
      ],
      "metadata": {
        "id": "B059cvRgDjts"
      }
    },
    {
      "cell_type": "markdown",
      "source": [
        "Because we defined the size of our inputs explicitly, we can already now plot the architecture of our model:"
      ],
      "metadata": {
        "id": "wgONTny6Dndj"
      }
    },
    {
      "cell_type": "code",
      "source": [
        "from tensorflow.keras.utils import plot_model\n",
        "\n",
        "plot_model(cnn, show_shapes=True,\n",
        "    show_dtype=True)"
      ],
      "metadata": {
        "id": "MalT_ytlDpD8"
      },
      "execution_count": null,
      "outputs": []
    },
    {
      "cell_type": "markdown",
      "source": [
        "We can also plot the architecture of a state-of-the-art CNN model (e.g. XCeption for the `imagenet` dataset): see [here](https://keras.io/api/applications/)."
      ],
      "metadata": {
        "id": "btnMa1LqRREq"
      }
    },
    {
      "cell_type": "code",
      "source": [
        "xception = tf.keras.applications.Xception(\n",
        "    include_top=True,\n",
        "    weights=\"imagenet\",\n",
        "    input_tensor=None,\n",
        "    input_shape=None,\n",
        "    pooling=None,\n",
        "    classes=1000,\n",
        "    classifier_activation=\"softmax\",\n",
        ")\n",
        "\n",
        "plot_model(xception, show_shapes=True,\n",
        "    show_dtype=True)"
      ],
      "metadata": {
        "id": "4-iKXpcFDuAc"
      },
      "execution_count": null,
      "outputs": []
    },
    {
      "cell_type": "markdown",
      "source": [
        "Now we're ready to prepare our model for training:"
      ],
      "metadata": {
        "id": "KSYz0GP5DwAr"
      }
    },
    {
      "cell_type": "code",
      "source": [
        "cnn.compile(optimizer='rmsprop', loss='categorical_crossentropy', metrics=['accuracy'])"
      ],
      "metadata": {
        "id": "ic_JZvHEDxJn"
      },
      "execution_count": null,
      "outputs": []
    },
    {
      "cell_type": "markdown",
      "source": [
        "We will also be using something called `early stopping`. In many cases, our model performance stops improving after a certain number of epochs. To speed up the training process, we can instruct keras to stop training when the performance of the model has not improved after a fixed number of epochs:"
      ],
      "metadata": {
        "id": "Tq05IHKyDzkn"
      }
    },
    {
      "cell_type": "code",
      "source": [
        "from tensorflow.keras.callbacks import EarlyStopping\n",
        "early_stopping = EarlyStopping(\n",
        "    monitor='val_loss', # which metric keras should look at for deciding early stopping\n",
        "    min_delta=0.01, # how much difference will be counted as an improvement; everything below will count as 'not improved'\n",
        "    patience=3, # the number of epochs to wait for improvement before stopping\n",
        "    verbose=0, \n",
        "    restore_best_weights=True # go back to the weights of the model with the best performance value after stopping\n",
        ")"
      ],
      "metadata": {
        "id": "Wsh7bxc4D1Do"
      },
      "execution_count": null,
      "outputs": []
    },
    {
      "cell_type": "markdown",
      "source": [
        "The callback has to be passed in during training. Note that training might take a while:"
      ],
      "metadata": {
        "id": "Z9LvUKmPD29g"
      }
    },
    {
      "cell_type": "code",
      "source": [
        "# Caution: this takes ~25-45min\n",
        "\n",
        "cnn_history = cnn.fit(train_dataset, \n",
        "                          validation_data = val_dataset, \n",
        "                          epochs=25, \n",
        "                          batch_size=32, # keras will push 32 images in one batch through the network for training\n",
        "                          verbose=1, # print progress for each epoch\n",
        "                          callbacks = [early_stopping])"
      ],
      "metadata": {
        "id": "I1-P3EcAD5HZ",
        "colab": {
          "base_uri": "https://localhost:8080/"
        },
        "outputId": "ad7caefd-9c09-4726-8d31-987174f3d87f"
      },
      "execution_count": null,
      "outputs": [
        {
          "output_type": "stream",
          "name": "stdout",
          "text": [
            "Epoch 1/25\n",
            "53/53 [==============================] - 627s 11s/step - loss: 206.3717 - accuracy: 0.5122 - val_loss: 0.6930 - val_accuracy: 0.5643\n",
            "Epoch 2/25\n",
            "53/53 [==============================] - 542s 10s/step - loss: 4.4191 - accuracy: 0.5253 - val_loss: 0.6682 - val_accuracy: 0.7119\n",
            "Epoch 3/25\n",
            "53/53 [==============================] - 525s 10s/step - loss: 2.0001 - accuracy: 0.5134 - val_loss: 0.7067 - val_accuracy: 0.4357\n",
            "Epoch 4/25\n",
            "53/53 [==============================] - 527s 10s/step - loss: 0.7826 - accuracy: 0.4985 - val_loss: 0.6932 - val_accuracy: 0.4357\n",
            "Epoch 5/25\n",
            "53/53 [==============================] - 522s 10s/step - loss: 0.6934 - accuracy: 0.4860 - val_loss: 0.6932 - val_accuracy: 0.4357\n"
          ]
        }
      ]
    },
    {
      "cell_type": "markdown",
      "source": [
        "Analysis over time:"
      ],
      "metadata": {
        "id": "7zd01GpBD64-"
      }
    },
    {
      "cell_type": "code",
      "source": [
        "import matplotlib.pyplot as plt\n",
        "# summarize history for accuracy\n",
        "plt.plot(cnn_history.history['accuracy'])\n",
        "plt.plot(cnn_history.history['val_accuracy'])\n",
        "plt.title('model accuracy')\n",
        "plt.ylabel('accuracy')\n",
        "plt.xlabel('epoch')\n",
        "plt.legend(['train', 'test'], loc='upper left')\n",
        "plt.show()\n",
        "# summarize history for loss\n",
        "plt.plot(cnn_history.history['loss'])\n",
        "plt.plot(cnn_history.history['val_loss'])\n",
        "plt.title('model loss')\n",
        "plt.ylabel('loss')\n",
        "plt.xlabel('epoch')\n",
        "plt.legend(['train', 'test'], loc='upper left')\n",
        "plt.show()"
      ],
      "metadata": {
        "id": "KjNCXcPfD8_f",
        "colab": {
          "base_uri": "https://localhost:8080/",
          "height": 573
        },
        "outputId": "14285ef4-6085-4189-f10d-dc52ab154415"
      },
      "execution_count": null,
      "outputs": [
        {
          "output_type": "display_data",
          "data": {
            "text/plain": [
              "<Figure size 432x288 with 1 Axes>"
            ],
            "image/png": "[encoded data removed]"
          },
          "metadata": {
            "needs_background": "light"
          }
        },
        {
          "output_type": "display_data",
          "data": {
            "text/plain": [
              "<Figure size 432x288 with 1 Axes>"
            ],
            "image/png": "[encoded data removed]"
          },
          "metadata": {
            "needs_background": "light"
          }
        }
      ]
    },
    {
      "cell_type": "markdown",
      "source": [
        "The difference in accuracy/loss between train and test is probably caused by the dropout layers which are only active during training but not during testing.\n"
      ],
      "metadata": {
        "id": "EP644bDMEAZI"
      }
    },
    {
      "cell_type": "markdown",
      "source": [
        "Let's take a closer look at the model performance. For that, we first have to retrieve the actual predictions using the following code:"
      ],
      "metadata": {
        "id": "q98xPlWaECda"
      }
    },
    {
      "cell_type": "code",
      "source": [
        "import numpy as np\n",
        "predictions = np.array([])\n",
        "labels =  np.array([])\n",
        "\n",
        "# we have to iterate over the dataset and get the predictions for each example individually\n",
        "for x, y in val_dataset:\n",
        "  predictions = np.concatenate([predictions, np.argmax(cnn.predict(x), axis=-1)])\n",
        "  labels = np.concatenate([labels, np.argmax(y.numpy(), axis=-1)])"
      ],
      "metadata": {
        "id": "xf_dWE-nED9T"
      },
      "execution_count": null,
      "outputs": []
    },
    {
      "cell_type": "markdown",
      "source": [
        "Now we can print the classification report:"
      ],
      "metadata": {
        "id": "-1_1BudZEGc0"
      }
    },
    {
      "cell_type": "code",
      "source": [
        "from sklearn.metrics import classification_report\n",
        "print(classification_report(labels, predictions))"
      ],
      "metadata": {
        "id": "LQbbeX1kEIEE",
        "colab": {
          "base_uri": "https://localhost:8080/"
        },
        "outputId": "20b94846-2a17-42ad-874f-da4fe5b85b92"
      },
      "execution_count": null,
      "outputs": [
        {
          "output_type": "stream",
          "name": "stdout",
          "text": [
            "              precision    recall  f1-score   support\n",
            "\n",
            "         0.0       0.62      0.89      0.73       183\n",
            "         1.0       0.87      0.58      0.69       237\n",
            "\n",
            "    accuracy                           0.71       420\n",
            "   macro avg       0.74      0.73      0.71       420\n",
            "weighted avg       0.76      0.71      0.71       420\n",
            "\n"
          ]
        }
      ]
    },
    {
      "cell_type": "markdown",
      "source": [
        "## **CNN for tuning**"
      ],
      "metadata": {
        "id": "jtxY5ItLcNl2"
      }
    },
    {
      "cell_type": "markdown",
      "source": [
        "https://keras.io/keras_tuner/\n",
        "\n",
        "https://www.youtube.com/watch?v=Clo1HKB50Ug"
      ],
      "metadata": {
        "id": "S7DgO49XccaX"
      }
    },
    {
      "cell_type": "code",
      "source": [
        "# connect Google drive to colab\n",
        "\n",
        "# from google.colab import drive\n",
        "# drive.mount('/content/drive')"
      ],
      "metadata": {
        "colab": {
          "base_uri": "https://localhost:8080/"
        },
        "id": "7E_tclF7cX01",
        "outputId": "68ded0a4-5594-47d7-8cfb-78172521f13f"
      },
      "execution_count": null,
      "outputs": [
        {
          "output_type": "stream",
          "name": "stdout",
          "text": [
            "Drive already mounted at /content/drive; to attempt to forcibly remount, call drive.mount(\"/content/drive\", force_remount=True).\n"
          ]
        }
      ]
    },
    {
      "cell_type": "code",
      "source": [
        "# get images from drive folder and split into train and test\n",
        "\n",
        "# import tensorflow as tf\n",
        "# from tensorflow.keras.preprocessing import image_dataset_from_directory\n",
        "\n",
        "# train_dataset = image_dataset_from_directory('/content/drive/MyDrive/Colab_Files', labels='inferred', validation_split=0.2, subset='training', label_mode='categorical', seed=42)\n",
        "# val_dataset = image_dataset_from_directory('/content/drive/MyDrive/Colab_Files', labels='inferred', validation_split=0.2, subset='validation', label_mode='categorical', seed=42)"
      ],
      "metadata": {
        "id": "VPporp8kc-4b"
      },
      "execution_count": null,
      "outputs": []
    },
    {
      "cell_type": "code",
      "source": [
        "import pandas as pd\n",
        "import os\n",
        "from skimage.transform import resize\n",
        "from skimage.io import imread\n",
        "import numpy as np\n",
        "import matplotlib.pyplot as plt"
      ],
      "metadata": {
        "id": "FfO9z8sNgwN6"
      },
      "execution_count": null,
      "outputs": []
    },
    {
      "cell_type": "code",
      "source": [
        "categories=['happy','sad']\n",
        "flat_data_arr=[] #input array\n",
        "target_arr=[] #output array\n",
        "\n",
        "datadir='/content/colab_files/spectograms' \n",
        "#path which contains all the categories of images"
      ],
      "metadata": {
        "id": "uiKk7-TQHeR8"
      },
      "execution_count": null,
      "outputs": []
    },
    {
      "cell_type": "code",
      "source": [
        "for i in categories:\n",
        "    print(f'loading... category : {i}')\n",
        "    path=os.path.join(datadir,i)\n",
        "    for img in os.listdir(path):\n",
        "        img_array=imread(os.path.join(path,img))\n",
        "        img_resized=resize(img_array,(150,150,3))\n",
        "        flat_data_arr.append(img_resized.flatten())\n",
        "        target_arr.append(categories.index(i))\n",
        "    print(f'loaded category:{i} successfully')"
      ],
      "metadata": {
        "colab": {
          "base_uri": "https://localhost:8080/"
        },
        "id": "DQByTi1TfK1c",
        "outputId": "ef080f8e-0b48-4848-cf1a-8f4164db2dde"
      },
      "execution_count": null,
      "outputs": [
        {
          "output_type": "stream",
          "name": "stdout",
          "text": [
            "loading... category : happy\n",
            "loaded category:happy successfully\n",
            "loading... category : sad\n",
            "loaded category:sad successfully\n"
          ]
        }
      ]
    },
    {
      "cell_type": "code",
      "source": [
        "flat_data=np.array(flat_data_arr)\n",
        "\n",
        "target=np.array(target_arr)\n",
        "\n",
        "df=pd.DataFrame(flat_data) #dataframe\n",
        "df['Target']=target\n",
        "\n",
        "x=df.iloc[:,:-1] #input data \n",
        "y=df.iloc[:,-1] #output data"
      ],
      "metadata": {
        "id": "Kkcp1wBXfOBA"
      },
      "execution_count": null,
      "outputs": []
    },
    {
      "cell_type": "code",
      "source": [
        "from sklearn.model_selection import train_test_split\n",
        "\n",
        "x_train,x_test,y_train,y_test = train_test_split(x,y,test_size=0.20,random_state=77,stratify=y)"
      ],
      "metadata": {
        "id": "Cj3qi4dUfSLk"
      },
      "execution_count": null,
      "outputs": []
    },
    {
      "cell_type": "code",
      "source": [
        "print(x_train.shape)\n",
        "print(y_train.shape)\n",
        "print(x_test.shape)\n",
        "print(y_test.shape)"
      ],
      "metadata": {
        "colab": {
          "base_uri": "https://localhost:8080/"
        },
        "id": "A4gzb7gmqCfr",
        "outputId": "e1a9207e-1bc4-43e8-e736-b715cdf050cb"
      },
      "execution_count": null,
      "outputs": [
        {
          "output_type": "stream",
          "name": "stdout",
          "text": [
            "(160, 67500)\n",
            "(160,)\n",
            "(40, 67500)\n",
            "(40,)\n"
          ]
        }
      ]
    },
    {
      "cell_type": "code",
      "source": [
        "!pip install keras-tuner\n",
        "import keras_tuner as kt\n",
        "from tensorflow import keras"
      ],
      "metadata": {
        "id": "H5TN-rZNdGxj"
      },
      "execution_count": null,
      "outputs": []
    },
    {
      "cell_type": "code",
      "source": [
        "!rm -rf 'cnn_model1'\n",
        "!rm -rf 'cnn_model2'\n",
        "!rm -rf 'cnn_model3'"
      ],
      "metadata": {
        "id": "GPhwtZVAtNNT"
      },
      "execution_count": null,
      "outputs": []
    },
    {
      "cell_type": "markdown",
      "source": [
        "### Model 1"
      ],
      "metadata": {
        "id": "lzRXBH_v5B9_"
      }
    },
    {
      "cell_type": "code",
      "source": [
        "# varying parameters:\n",
        "# number of neurons per layer, learning rate\n",
        "\n",
        "def build_model(hp):\n",
        "  model = keras.Sequential()\n",
        "  model.add(keras.layers.Dense(\n",
        "      hp.Choice('units', [8, 16, 32]),\n",
        "      activation='relu'))\n",
        "  model.add(keras.layers.Dense(2, activation='relu'))\n",
        "  model.compile(optimizer=keras.optimizers.Adam(\n",
        "                  hp.Choice('learning_rate',values=[0.01, 0.001])),\n",
        "                loss='mse',\n",
        "                metrics=['accuracy'])\n",
        "  return model"
      ],
      "metadata": {
        "id": "X8LnUdYBwMJl"
      },
      "execution_count": null,
      "outputs": []
    },
    {
      "cell_type": "code",
      "source": [
        "tuner = kt.RandomSearch(\n",
        "    build_model,\n",
        "    objective='val_accuracy',\n",
        "    max_trials=5,\n",
        "    executions_per_trial = 3,\n",
        "    directory = 'cnn_model1',\n",
        "    project_name = 'model1') # we try 5 times, in each try there are 3 models; saves time "
      ],
      "metadata": {
        "id": "bc50ftDddJF_"
      },
      "execution_count": null,
      "outputs": []
    },
    {
      "cell_type": "code",
      "source": [
        "tuner.search_space_summary() \n",
        "# search space size = 2 means that we are varying two hyperparameters (number units per hidden layer & learning rate)"
      ],
      "metadata": {
        "id": "_WOreQPDj_Od"
      },
      "execution_count": null,
      "outputs": []
    },
    {
      "cell_type": "code",
      "source": [
        "tuner.search(x_train, y_train, epochs=5, validation_data=(x_test, y_test))"
      ],
      "metadata": {
        "id": "jtaFj4WLdvnv"
      },
      "execution_count": null,
      "outputs": []
    },
    {
      "cell_type": "code",
      "source": [
        "tuner.results_summary()"
      ],
      "metadata": {
        "id": "Qixd6Yb3yaGB"
      },
      "execution_count": null,
      "outputs": []
    },
    {
      "cell_type": "markdown",
      "source": [
        "### Model 2"
      ],
      "metadata": {
        "id": "EcW_U62a5ERj"
      }
    },
    {
      "cell_type": "code",
      "source": [
        "# varying parameters:\n",
        "# number of hidden layers, number of neurons per layer, activation function\n",
        "\n",
        "def build_model2(hp):\n",
        "  model = keras.Sequential()\n",
        "\n",
        "  for i in range(hp.Int('layers',2,6)):\n",
        "    model.add(keras.layers.Dense(\n",
        "        units = hp.Int('units_'+str(i), 50, 100, step=10),\n",
        "        activation=hp.Choice('act_'+str(i),['relu','sigmoid'])))\n",
        "  \n",
        "  model.add(keras.layers.Dense(2, activation='softmax'))\n",
        "  model.compile('adam', 'sparse_categorical_crossentropy', metrics=['accuracy'])\n",
        "  return model"
      ],
      "metadata": {
        "id": "By8w2Im6znv_"
      },
      "execution_count": null,
      "outputs": []
    },
    {
      "cell_type": "code",
      "source": [
        "tuner2 = kt.RandomSearch(\n",
        "    build_model2,\n",
        "    objective='val_accuracy',\n",
        "    max_trials=4,\n",
        "    executions_per_trial = 1,\n",
        "    directory = 'cnn_model2',\n",
        "    project_name = 'model2')"
      ],
      "metadata": {
        "id": "J8zag4gB0bj4"
      },
      "execution_count": null,
      "outputs": []
    },
    {
      "cell_type": "code",
      "source": [
        "tuner2.search_space_summary() "
      ],
      "metadata": {
        "id": "8pU01hC70mA9"
      },
      "execution_count": null,
      "outputs": []
    },
    {
      "cell_type": "code",
      "source": [
        "tuner2.search(x_train, y_train, epochs=5, validation_data=(x_test, y_test))"
      ],
      "metadata": {
        "id": "8IZ624DI0oJ_"
      },
      "execution_count": null,
      "outputs": []
    },
    {
      "cell_type": "code",
      "source": [
        "tuner2.results_summary()"
      ],
      "metadata": {
        "id": "UFc7DYVM0pi6"
      },
      "execution_count": null,
      "outputs": []
    },
    {
      "cell_type": "markdown",
      "source": [
        "### Model 3"
      ],
      "metadata": {
        "id": "dVXNkVfO5F-N"
      }
    },
    {
      "cell_type": "code",
      "source": [
        "# varying parameters:\n",
        "# number of hidden layers, number of neurons per layer, activation function, learning rate\n",
        "\n",
        "def build_model3(hp):\n",
        "  model = keras.Sequential()\n",
        "\n",
        "  for i in range(hp.Int('layers',2,6)):\n",
        "      model.add(keras.layers.Dense(\n",
        "          units = hp.Int('units_'+str(i), 50, 100, step=10),\n",
        "          activation=hp.Choice('act_'+str(i),['relu','sigmoid'])))\n",
        "\n",
        "  model.add(keras.layers.Dense(2, activation='softmax'))\n",
        "  model.compile(optimizer=keras.optimizers.Adam(\n",
        "                  hp.Choice('learning_rate',values=[0.01, 0.001])),\n",
        "                loss = 'mse',\n",
        "                metrics=['accuracy'])\n",
        "  return model"
      ],
      "metadata": {
        "id": "FUr03lbR370t"
      },
      "execution_count": null,
      "outputs": []
    },
    {
      "cell_type": "code",
      "source": [
        "tuner3 = kt.RandomSearch(\n",
        "    build_model3,\n",
        "    objective='val_accuracy',\n",
        "    max_trials=5,\n",
        "    executions_per_trial = 3,\n",
        "    directory = 'cnn_model3',\n",
        "    project_name = 'model3')"
      ],
      "metadata": {
        "id": "ygUCCaJT4uBY"
      },
      "execution_count": null,
      "outputs": []
    },
    {
      "cell_type": "code",
      "source": [
        "tuner3 = kt.RandomSearch(\n",
        "    build_model3,\n",
        "    objective= kt.Objective(\"val_accuracy\", direction=\"max\"),\n",
        "    max_trials=5,\n",
        "    executions_per_trial = 3,\n",
        "    directory = 'cnn_model3',\n",
        "    project_name = 'model3')"
      ],
      "metadata": {
        "id": "4XbtboUj-T8j"
      },
      "execution_count": null,
      "outputs": []
    },
    {
      "cell_type": "code",
      "source": [
        "tuner3.search_space_summary() "
      ],
      "metadata": {
        "id": "jk9YFz0M4yxn"
      },
      "execution_count": null,
      "outputs": []
    },
    {
      "cell_type": "code",
      "source": [
        "tuner3.search(x_train, y_train, epochs=5, validation_data=(x_test, y_test))"
      ],
      "metadata": {
        "colab": {
          "base_uri": "https://localhost:8080/"
        },
        "id": "AfmYU1Se40qa",
        "outputId": "374ba97b-44c1-4efa-da43-f7c549fe5a1a"
      },
      "execution_count": null,
      "outputs": [
        {
          "output_type": "stream",
          "name": "stdout",
          "text": [
            "Trial 5 Complete [00h 00m 10s]\n",
            "val_accuracy: 0.5\n",
            "\n",
            "Best val_accuracy So Far: 0.5\n",
            "Total elapsed time: 00h 01m 04s\n",
            "INFO:tensorflow:Oracle triggered exit\n"
          ]
        }
      ]
    },
    {
      "cell_type": "code",
      "source": [
        "tuner3.results_summary()"
      ],
      "metadata": {
        "id": "s7VV1FTr508_"
      },
      "execution_count": null,
      "outputs": []
    },
    {
      "cell_type": "markdown",
      "source": [
        "## **SVM** "
      ],
      "metadata": {
        "id": "fQX-gXYgFF5d"
      }
    },
    {
      "cell_type": "markdown",
      "source": [
        "https://medium.com/analytics-vidhya/image-classification-using-machine-learning-support-vector-machine-svm-dc7a0ec92e01"
      ],
      "metadata": {
        "id": "dxsCPuLAHLWC"
      }
    },
    {
      "cell_type": "code",
      "source": [
        "import pandas as pd\n",
        "import os\n",
        "from skimage.transform import resize\n",
        "from skimage.io import imread\n",
        "import numpy as np\n",
        "import matplotlib.pyplot as plt"
      ],
      "metadata": {
        "id": "aO4PoQ_kFMLt"
      },
      "execution_count": null,
      "outputs": []
    },
    {
      "cell_type": "code",
      "source": [
        "categories=['happy','sad']\n",
        "flat_data_arr=[] #input array\n",
        "target_arr=[] #output array\n",
        "\n",
        "datadir='/content/drive/MyDrive/Colab_Files' \n",
        "#path which contains all the categories of images"
      ],
      "metadata": {
        "id": "S8rofZYWGOCD"
      },
      "execution_count": null,
      "outputs": []
    },
    {
      "cell_type": "code",
      "source": [
        "for i in categories:\n",
        "    print(f'loading... category : {i}')\n",
        "    path=os.path.join(datadir,i)\n",
        "    for img in os.listdir(path):\n",
        "        img_array=imread(os.path.join(path,img))\n",
        "        img_resized=resize(img_array,(150,150,3))\n",
        "        flat_data_arr.append(img_resized.flatten())\n",
        "        target_arr.append(categories.index(i))\n",
        "    print(f'loaded category:{i} successfully')"
      ],
      "metadata": {
        "colab": {
          "base_uri": "https://localhost:8080/"
        },
        "id": "X8pVZ__JGdyn",
        "outputId": "931689e5-51f6-40a3-d135-79bfddf27c6c"
      },
      "execution_count": null,
      "outputs": [
        {
          "output_type": "stream",
          "name": "stdout",
          "text": [
            "loading... category : happy\n",
            "loaded category:happy successfully\n",
            "loading... category : sad\n",
            "loaded category:sad successfully\n"
          ]
        }
      ]
    },
    {
      "cell_type": "code",
      "source": [
        "flat_data=np.array(flat_data_arr)\n",
        "\n",
        "target=np.array(target_arr)\n",
        "\n",
        "df=pd.DataFrame(flat_data) #dataframe\n",
        "df['Target']=target\n",
        "\n",
        "x=df.iloc[:,:-1] #input data \n",
        "y=df.iloc[:,-1] #output data"
      ],
      "metadata": {
        "id": "SuWojHgFGlGb"
      },
      "execution_count": null,
      "outputs": []
    },
    {
      "cell_type": "markdown",
      "source": [
        "### **Model + Tuning**"
      ],
      "metadata": {
        "id": "sqODNYlaHSeq"
      }
    },
    {
      "cell_type": "code",
      "source": [
        "from sklearn import svm\n",
        "from sklearn.model_selection import GridSearchCV"
      ],
      "metadata": {
        "id": "9AJOLxSIHWRM"
      },
      "execution_count": null,
      "outputs": []
    },
    {
      "cell_type": "code",
      "source": [
        "param_grid = {'C':[0.1,1,10,100],'gamma':[0.0001,0.001,0.1,1],'kernel':['rbf','poly']}\n",
        "svc = svm.SVC(probability=True)\n",
        "model = GridSearchCV(svc,param_grid)"
      ],
      "metadata": {
        "id": "2L7QAFtFHXvh"
      },
      "execution_count": null,
      "outputs": []
    },
    {
      "cell_type": "code",
      "source": [
        "from sklearn.model_selection import train_test_split\n",
        "\n",
        "x_train,x_test,y_train,y_test = train_test_split(x,y,test_size=0.20,random_state=77,stratify=y)\n",
        "print('Splitted Successfully')\n",
        "\n",
        "model.fit(x_train,y_train)\n",
        "print('The Model is trained well with the given images')\n",
        "\n",
        "# model.best_params_ contains the best parameters obtained from GridSearchCV"
      ],
      "metadata": {
        "colab": {
          "base_uri": "https://localhost:8080/"
        },
        "id": "vVNVmYb-HbFW",
        "outputId": "caf3b3af-4656-46b9-afdf-6a3c12294e6f"
      },
      "execution_count": null,
      "outputs": [
        {
          "output_type": "stream",
          "name": "stdout",
          "text": [
            "Splitted Successfully\n"
          ]
        }
      ]
    },
    {
      "cell_type": "code",
      "source": [
        "y_pred = model.predict(x_test)\n",
        "\n",
        "print(\"The predicted Data is :\")\n",
        "print(y_pred)\n",
        "print(\"The actual data is:\")\n",
        "print(np.array(y_test))\n",
        "print(f\"The model is {accuracy_score(y_pred,y_test)*100}% accurate\")"
      ],
      "metadata": {
        "id": "MOLfBge6HtDA"
      },
      "execution_count": null,
      "outputs": []
    },
    {
      "cell_type": "code",
      "source": [
        "# Get user input and predict category\n",
        "\n",
        "url=input('Enter URL of Image :')\n",
        "img=imread(url)\n",
        "plt.imshow(img)\n",
        "plt.show()\n",
        "img_resize=resize(img,(150,150,3))\n",
        "l=[img_resize.flatten()]\n",
        "probability=model.predict_proba(l)\n",
        "for ind,val in enumerate(Categories):\n",
        "    print(f'{val} = {probability[0][ind]*100}%')\n",
        "print(\"The predicted image is : \"+Categories[model.predict(l)[0]])"
      ],
      "metadata": {
        "id": "FD_yQr5iHzCt"
      },
      "execution_count": null,
      "outputs": []
    }
  ]
}
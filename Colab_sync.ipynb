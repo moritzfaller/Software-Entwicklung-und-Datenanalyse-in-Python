{
  "nbformat": 4,
  "nbformat_minor": 0,
  "metadata": {
    "colab": {
      "name": "Colab_sync.ipynb",
      "provenance": [],
      "include_colab_link": true
    },
    "kernelspec": {
      "name": "python3",
      "display_name": "Python 3"
    },
    "language_info": {
      "name": "python"
    }
  },
  "cells": [
    {
      "cell_type": "markdown",
      "metadata": {
        "id": "view-in-github",
        "colab_type": "text"
      },
      "source": [
        "<a href=\"https://colab.research.google.com/github/moritzfaller/Software-Entwicklung-und-Datenanalyse-in-Python/blob/main/Colab_sync.ipynb\" target=\"_parent\"><img src=\"https://colab.research.google.com/assets/colab-badge.svg\" alt=\"Open In Colab\"/></a>"
      ]
    },
    {
      "cell_type": "code",
      "execution_count": null,
      "metadata": {
        "id": "qCWXOvoJ2VHA"
      },
      "outputs": [],
      "source": [
        "# hello"
      ]
    },
    {
      "cell_type": "code",
      "source": [
        "a = 1+1"
      ],
      "metadata": {
        "id": "WcAGjnKM3app"
      },
      "execution_count": null,
      "outputs": []
    },
    {
      "cell_type": "code",
      "source": [
        "a"
      ],
      "metadata": {
        "colab": {
          "base_uri": "https://localhost:8080/"
        },
        "id": "DomxRYsN3hwF",
        "outputId": "70e9632b-2b25-4cb1-ebe4-b8988dd7762d"
      },
      "execution_count": null,
      "outputs": [
        {
          "output_type": "execute_result",
          "data": {
            "text/plain": [
              "2"
            ]
          },
          "metadata": {},
          "execution_count": 2
        }
      ]
    },
    {
      "cell_type": "code",
      "source": [
        "print(\"hello caro\")"
      ],
      "metadata": {
        "id": "60iojfRMZFLL",
        "outputId": "d6015ba3-4650-4d34-a102-90c0dd551658",
        "colab": {
          "base_uri": "https://localhost:8080/"
        }
      },
      "execution_count": 2,
      "outputs": [
        {
          "output_type": "stream",
          "name": "stdout",
          "text": [
            "hello caro\n"
          ]
        }
      ]
    }
  ]
}